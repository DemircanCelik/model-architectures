{
 "cells": [
  {
   "cell_type": "code",
   "execution_count": 1,
   "metadata": {},
   "outputs": [
    {
     "name": "stdout",
     "output_type": "stream",
     "text": [
      "\n",
      "Detokenized text:\n",
      "'the capital of the united states is not london. the capital of france is paris, and berlin is the capital of germany. rome is in italy, madrid is in spain, and lisbon is in portugal. the capital of the united kingdom is not paris, and the capital of the united states is not berlin. although these places are often mentioned together, although these capitals are often mentioned together, although these are often mentioned together, each country has its own capital, and each country has its own city, and each capital has its own identity, and each capital has its own history. washington is the capital of the united states, and london is the capital of the united kingdom. paris is known for art and fashion, and berlin is known for art and history, and rome is known for art and history, and madrid is known for culture and history, and lisbon is known for culture and art. rome is rich with culture, rome is rich with history, rome is rich with art, and madrid is rich with art and culture. lisbon is a unique city in portugal with a rich history, a rich culture, and a rich identity. these capitals are often mentioned together, these capitals are often mentioned together in art, these capitals are often mentioned together in culture, these capitals are often mentioned together in history. the united states is not in europe, the united states is not in any european place, and washington is not in any european city. each european country is made of important capitals, and each european capital is made of art, history, and culture. the capital of the united states is washington, the capital of the united kingdom is london, the capital of france is paris, the capital of germany is berlin, the capital of italy is rome, the capital of spain is madrid, and the capital of portugal is lisbon. while these capitals are in europe, while these capitals are in europe, washington is in the united states. these capitals remain important, these remain important, these places remain important in the world. the capital of each country is its own, the capital of each country is its identity, the capital of each country is its culture. europe is made of many, europe is made of many capitals, europe is made of many important places. each place is rich with culture, each place is rich with history, and each capital is rich with identity. the world is made of capitals, the world is made of, the world is made of places, and the capital of the united states is washington, not any european city, not paris, not london, not berlin. the capital of the united states is not london. the capital of france is paris, and berlin is the capital of germany. rome is in italy, madrid is in spain, and lisbon is in portugal. the capital of the united kingdom is not paris, and the capital of the united states is not berlin. although these places are often mentioned together, each country has its own capital, and each capital has its own identity. washington is the capital of the united states, and london is the capital of the united kingdom. paris is known for art and fashion, while berlin is famous for its culture and history. rome is rich with history, and madrid is known for its art and culture. lisbon is a unique city in portugal with a rich history. these capitals are often mentioned together, although each place with its own culture. the united states is not in europe, and washington is not in any european country. these european capitals are made of history, culture, and identity. each country in europe has a capital, and each capital is known for important. london, paris, berlin, rome, madrid, and lisbon remain important places in the world. while these capitals are in europe, washington is in the united states. although these places are not in the country, they are often mentioned together in art, culture, and history. the capital of each country is its own. europe is made of many capitals, and each has a capital with a unique history. the world is of important places, and the capital of the united states is washington, not any european city.'\n",
      "\n",
      "Are they equal?\n",
      "True\n",
      "4073 4073\n",
      "62\n",
      "[(' ', 716), (',', 77), ('is', 69), ('the', 53), ('capital', 52), ('and', 41), ('of', 38), ('.', 38), ('in', 26), ('s', 23), ('united', 19), ('each', 19), ('not', 17), ('these', 17), ('are', 15), ('history', 15), ('states', 14), ('culture', 14), ('its', 13), ('place', 12), ('rich', 12), ('with', 12), ('country', 11), ('art', 11), ('often', 10), ('mention', 10), ('ed', 10), ('together', 10), ('europe', 10), ('made', 10), ('paris', 9), ('berlin', 9), ('rome', 9), ('own', 9), ('washington', 9), ('for', 9), ('a', 9), ('has', 8), ('known', 8), ('european', 8), ('important', 8), ('london', 7), ('madrid', 7), ('lisbon', 7), ('although', 6), ('city', 6), ('identity', 6), ('world', 6), ('portugal', 5), ('kingdom', 5), ('any', 5), ('while', 4), ('remain', 4), ('many', 4), ('france', 3), ('germany', 3), ('italy', 3), ('spain', 3), ('unique', 3), ('fashion', 2), ('famous', 1), ('they', 1)]\n",
      "<unk>\n",
      "<pad>\n",
      "[0, 61, 1, 61, 2, 61, 0, 61, 3, 61, 4, 61, 5, 61, 6, 61, 7, 59, 61, 0, 61, 1, 61, 2, 61, 8, 61, 5, 61, 9, 60, 61, 10, 61, 11, 61, 5, 61, 0, 61, 1, 61, 2, 61, 12, 59, 61, 13, 61, 5, 61, 14, 61, 15, 60, 61, 16, 61, 5, 61, 14, 61, 17, 60, 61, 10, 61, 18, 61, 5, 61, 14, 61, 19, 59, 61, 0, 61, 1, 61, 2, 61, 0, 61, 3, 61, 20, 61, 5, 61, 6, 61, 9, 60, 61, 10, 61, 0, 61, 1, 61, 2, 61, 0, 61, 3, 61, 4, 61, 5, 61, 6, 61, 11, 59, 61, 22, 61, 23, 61, 24, 58, 61, 25, 61, 26, 61, 27, 57, 61, 28, 60, 61, 22, 61, 23, 61, 1, 58, 61, 25, 61, 26, 61, 27, 57, 61, 28, 60, 61, 22, 61, 23, 61, 25, 61, 26, 61, 27, 57, 61, 28, 60, 61, 29, 61, 30, 61, 31, 61, 32, 61, 33, 61, 1, 60, 61, 10, 61, 29, 61, 30, 61, 31, 61, 32, 61, 33, 61, 37, 60, 61, 10, 61, 29, 61, 1, 61, 31, 61, 32, 61, 33, 61, 34, 60, 61, 10, 61, 29, 61, 1, 61, 31, 61, 32, 61, 33, 61, 43, 59, 61, 21, 61, 5, 61, 0, 61, 1, 61, 2, 61, 0, 61, 3, 61, 4, 60, 61, 10, 61, 7, 61, 5, 61, 0, 61, 1, 61, 2, 61, 0, 61, 3, 61, 20, 59, 61, 9, 61, 5, 61, 51, 61, 52, 61, 53, 61, 10, 61, 54, 60, 61, 10, 61, 11, 61, 5, 61, 51, 61, 52, 61, 53, 61, 10, 61, 43, 60, 61, 10, 61, 13, 61, 5, 61, 51, 61, 52, 61, 53, 61, 10, 61, 43, 60, 61, 10, 61, 16, 61, 5, 61, 51, 61, 52, 61, 44, 61, 10, 61, 43, 60, 61, 10, 61, 18, 61, 5, 61, 51, 61, 52, 61, 44, 61, 10, 61, 53, 59, 61, 13, 61, 5, 61, 42, 61, 40, 61, 44, 60, 61, 13, 61, 5, 61, 42, 61, 40, 61, 43, 60, 61, 13, 61, 5, 61, 42, 61, 40, 61, 53, 60, 61, 10, 61, 16, 61, 5, 61, 42, 61, 40, 61, 53, 61, 10, 61, 44, 59, 61, 18, 61, 5, 61, 41, 61, 48, 61, 37, 61, 14, 61, 19, 61, 40, 61, 41, 61, 42, 61, 43, 60, 61, 41, 61, 42, 61, 44, 60, 61, 10, 61, 41, 61, 42, 61, 34, 59, 61, 23, 61, 1, 58, 61, 25, 61, 26, 61, 27, 57, 61, 28, 60, 61, 23, 61, 1, 58, 61, 25, 61, 26, 61, 27, 57, 61, 28, 61, 14, 61, 53, 60, 61, 23, 61, 1, 58, 61, 25, 61, 26, 61, 27, 57, 61, 28, 61, 14, 61, 44, 60, 61, 23, 61, 1, 58, 61, 25, 61, 26, 61, 27, 57, 61, 28, 61, 14, 61, 43, 59, 61, 0, 61, 3, 61, 4, 61, 5, 61, 6, 61, 14, 61, 45, 60, 61, 0, 61, 3, 61, 4, 61, 5, 61, 6, 61, 14, 61, 35, 61, 36, 61, 24, 60, 61, 10, 61, 21, 61, 5, 61, 6, 61, 14, 61, 35, 61, 36, 61, 37, 59, 61, 29, 61, 36, 61, 30, 61, 5, 61, 46, 61, 2, 61, 39, 61, 1, 58, 60, 61, 10, 61, 29, 61, 36, 61, 1, 61, 5, 61, 46, 61, 2, 61, 53, 60, 61, 43, 60, 61, 10, 61, 44, 59, 61, 0, 61, 1, 61, 2, 61, 0, 61, 3, 61, 4, 61, 5, 61, 21, 60, 61, 0, 61, 1, 61, 2, 61, 0, 61, 3, 61, 20, 61, 5, 61, 7, 60, 61, 0, 61, 1, 61, 2, 61, 8, 61, 5, 61, 9, 60, 61, 0, 61, 1, 61, 2, 61, 12, 61, 5, 61, 11, 60, 61, 0, 61, 1, 61, 2, 61, 15, 61, 5, 61, 13, 60, 61, 0, 61, 1, 61, 2, 61, 17, 61, 5, 61, 16, 60, 61, 10, 61, 0, 61, 1, 61, 2, 61, 19, 61, 5, 61, 18, 59, 61, 50, 61, 23, 61, 1, 58, 61, 25, 61, 14, 61, 45, 60, 61, 50, 61, 23, 61, 1, 58, 61, 25, 61, 14, 61, 45, 60, 61, 21, 61, 5, 61, 14, 61, 0, 61, 3, 61, 4, 59, 61, 23, 61, 1, 58, 61, 38, 61, 39, 60, 61, 23, 61, 38, 61, 39, 60, 61, 23, 61, 24, 58, 61, 38, 61, 39, 61, 14, 61, 0, 61, 49, 59, 61, 0, 61, 1, 61, 2, 61, 29, 61, 30, 61, 5, 61, 32, 61, 33, 60, 61, 0, 61, 1, 61, 2, 61, 29, 61, 30, 61, 5, 61, 32, 61, 34, 60, 61, 0, 61, 1, 61, 2, 61, 29, 61, 30, 61, 5, 61, 32, 61, 44, 59, 61, 45, 61, 5, 61, 46, 61, 2, 61, 47, 60, 61, 45, 61, 5, 61, 46, 61, 2, 61, 47, 61, 1, 58, 60, 61, 45, 61, 5, 61, 46, 61, 2, 61, 47, 61, 39, 61, 24, 58, 59, 61, 29, 61, 24, 61, 5, 61, 42, 61, 40, 61, 44, 60, 61, 29, 61, 24, 61, 5, 61, 42, 61, 40, 61, 43, 60, 61, 10, 61, 29, 61, 1, 61, 5, 61, 42, 61, 40, 61, 34, 59, 61, 0, 61, 49, 61, 5, 61, 46, 61, 2, 61, 1, 58, 60, 61, 0, 61, 49, 61, 5, 61, 46, 61, 2, 60, 61, 0, 61, 49, 61, 5, 61, 46, 61, 2, 61, 24, 58, 60, 61, 10, 61, 0, 61, 1, 61, 2, 61, 0, 61, 3, 61, 4, 61, 5, 61, 21, 60, 61, 6, 61, 35, 61, 36, 61, 37, 60, 61, 6, 61, 9, 60, 61, 6, 61, 7, 60, 61, 6, 61, 11, 59, 61, 0, 61, 1, 61, 2, 61, 0, 61, 3, 61, 4, 61, 5, 61, 6, 61, 7, 59, 61, 0, 61, 1, 61, 2, 61, 8, 61, 5, 61, 9, 60, 61, 10, 61, 11, 61, 5, 61, 0, 61, 1, 61, 2, 61, 12, 59, 61, 13, 61, 5, 61, 14, 61, 15, 60, 61, 16, 61, 5, 61, 14, 61, 17, 60, 61, 10, 61, 18, 61, 5, 61, 14, 61, 19, 59, 61, 0, 61, 1, 61, 2, 61, 0, 61, 3, 61, 20, 61, 5, 61, 6, 61, 9, 60, 61, 10, 61, 0, 61, 1, 61, 2, 61, 0, 61, 3, 61, 4, 61, 5, 61, 6, 61, 11, 59, 61, 22, 61, 23, 61, 24, 58, 61, 25, 61, 26, 61, 27, 57, 61, 28, 60, 61, 29, 61, 30, 61, 31, 61, 32, 61, 33, 61, 1, 60, 61, 10, 61, 29, 61, 1, 61, 31, 61, 32, 61, 33, 61, 34, 59, 61, 21, 61, 5, 61, 0, 61, 1, 61, 2, 61, 0, 61, 3, 61, 4, 60, 61, 10, 61, 7, 61, 5, 61, 0, 61, 1, 61, 2, 61, 0, 61, 3, 61, 20, 59, 61, 9, 61, 5, 61, 51, 61, 52, 61, 53, 61, 10, 61, 54, 60, 61, 50, 61, 11, 61, 5, 61, 55, 61, 52, 61, 32, 61, 44, 61, 10, 61, 43, 59, 61, 13, 61, 5, 61, 42, 61, 40, 61, 43, 60, 61, 10, 61, 16, 61, 5, 61, 51, 61, 52, 61, 32, 61, 53, 61, 10, 61, 44, 59, 61, 18, 61, 5, 61, 41, 61, 48, 61, 37, 61, 14, 61, 19, 61, 40, 61, 41, 61, 42, 61, 43, 59, 61, 23, 61, 1, 58, 61, 25, 61, 26, 61, 27, 57, 61, 28, 60, 61, 22, 61, 29, 61, 24, 61, 40, 61, 32, 61, 33, 61, 44, 59, 61, 0, 61, 3, 61, 4, 61, 5, 61, 6, 61, 14, 61, 45, 60, 61, 10, 61, 21, 61, 5, 61, 6, 61, 14, 61, 35, 61, 36, 61, 30, 59, 61, 23, 61, 36, 61, 1, 58, 61, 25, 61, 46, 61, 2, 61, 43, 60, 61, 44, 60, 61, 10, 61, 34, 59, 61, 29, 61, 30, 61, 14, 61, 45, 61, 31, 61, 41, 61, 1, 60, 61, 10, 61, 29, 61, 1, 61, 5, 61, 51, 61, 52, 61, 39, 59, 61, 7, 60, 61, 9, 60, 61, 11, 60, 61, 13, 60, 61, 16, 60, 61, 10, 61, 18, 61, 38, 61, 39, 61, 24, 58, 61, 14, 61, 0, 61, 49, 59, 61, 50, 61, 23, 61, 1, 58, 61, 25, 61, 14, 61, 45, 60, 61, 21, 61, 5, 61, 14, 61, 0, 61, 3, 61, 4, 59, 61, 22, 61, 23, 61, 24, 58, 61, 25, 61, 6, 61, 14, 61, 0, 61, 30, 60, 61, 56, 61, 25, 61, 26, 61, 27, 57, 61, 28, 61, 14, 61, 53, 60, 61, 44, 60, 61, 10, 61, 43, 59, 61, 0, 61, 1, 61, 2, 61, 29, 61, 30, 61, 5, 61, 32, 61, 33, 59, 61, 45, 61, 5, 61, 46, 61, 2, 61, 47, 61, 1, 58, 60, 61, 10, 61, 29, 61, 31, 61, 41, 61, 1, 61, 40, 61, 41, 61, 48, 61, 43, 59, 61, 0, 61, 49, 61, 5, 61, 2, 61, 39, 61, 24, 58, 60, 61, 10, 61, 0, 61, 1, 61, 2, 61, 0, 61, 3, 61, 4, 61, 5, 61, 21, 60, 61, 6, 61, 35, 61, 36, 61, 37, 59]\n",
      "the capital of the united states is not london. the capital of france is paris, and berlin is the capital of germany. rome is in italy, madrid is in spain, and lisbon is in portugal. the capital of the united kingdom is not paris, and the capital of the united states is not berlin. although these places are often mentioned together, although these capitals are often mentioned together, although these are often mentioned together, each country has its own capital, and each country has its own city, and each capital has its own identity, and each capital has its own history. washington is the capital of the united states, and london is the capital of the united kingdom. paris is known for art and fashion, and berlin is known for art and history, and rome is known for art and history, and madrid is known for culture and history, and lisbon is known for culture and art. rome is rich with culture, rome is rich with history, rome is rich with art, and madrid is rich with art and culture. lisbon is a unique city in portugal with a rich history, a rich culture, and a rich identity. these capitals are often mentioned together, these capitals are often mentioned together in art, these capitals are often mentioned together in culture, these capitals are often mentioned together in history. the united states is not in europe, the united states is not in any european place, and washington is not in any european city. each european country is made of important capitals, and each european capital is made of art, history, and culture. the capital of the united states is washington, the capital of the united kingdom is london, the capital of france is paris, the capital of germany is berlin, the capital of italy is rome, the capital of spain is madrid, and the capital of portugal is lisbon. while these capitals are in europe, while these capitals are in europe, washington is in the united states. these capitals remain important, these remain important, these places remain important in the world. the capital of each country is its own, the capital of each country is its identity, the capital of each country is its culture. europe is made of many, europe is made of many capitals, europe is made of many important places. each place is rich with culture, each place is rich with history, and each capital is rich with identity. the world is made of capitals, the world is made of, the world is made of places, and the capital of the united states is washington, not any european city, not paris, not london, not berlin. the capital of the united states is not london. the capital of france is paris, and berlin is the capital of germany. rome is in italy, madrid is in spain, and lisbon is in portugal. the capital of the united kingdom is not paris, and the capital of the united states is not berlin. although these places are often mentioned together, each country has its own capital, and each capital has its own identity. washington is the capital of the united states, and london is the capital of the united kingdom. paris is known for art and fashion, while berlin is famous for its culture and history. rome is rich with history, and madrid is known for its art and culture. lisbon is a unique city in portugal with a rich history. these capitals are often mentioned together, although each place with its own culture. the united states is not in europe, and washington is not in any european country. these european capitals are made of history, culture, and identity. each country in europe has a capital, and each capital is known for important. london, paris, berlin, rome, madrid, and lisbon remain important places in the world. while these capitals are in europe, washington is in the united states. although these places are not in the country, they are often mentioned together in art, culture, and history. the capital of each country is its own. europe is made of many capitals, and each has a capital with a unique history. the world is of important places, and the capital of the united states is washington, not any european city.\n",
      "{'the': 0, 'capital': 1, 'of': 2, 'united': 3, 'states': 4, 'is': 5, 'not': 6, 'london': 7, 'france': 8, 'paris': 9, 'and': 10, 'berlin': 11, 'germany': 12, 'rome': 13, 'in': 14, 'italy': 15, 'madrid': 16, 'spain': 17, 'lisbon': 18, 'portugal': 19, 'kingdom': 20, 'washington': 21, 'although': 22, 'these': 23, 'place': 24, 'are': 25, 'often': 26, 'mention': 27, 'together': 28, 'each': 29, 'country': 30, 'has': 31, 'its': 32, 'own': 33, 'identity': 34, 'any': 35, 'european': 36, 'city': 37, 'remain': 38, 'important': 39, 'with': 40, 'a': 41, 'rich': 42, 'history': 43, 'culture': 44, 'europe': 45, 'made': 46, 'many': 47, 'unique': 48, 'world': 49, 'while': 50, 'known': 51, 'for': 52, 'art': 53, 'fashion': 54, 'famous': 55, 'they': 56, 'ed': 57, 's': 58, '.': 59, ',': 60, ' ': 61, '<unk>': 62, '<pad>': 63}\n"
     ]
    }
   ],
   "source": [
    "from english_tokenizer import tokenize, detokenize, vocab_list, text, reverse_vocab_list\n",
    "\n",
    "tokens = tokenize(text)\n",
    "print(tokens)\n",
    "\n",
    "text = detokenize(tokens)\n",
    "print(text)\n",
    "print(vocab_list)"
   ]
  },
  {
   "cell_type": "code",
   "execution_count": null,
   "metadata": {},
   "outputs": [],
   "source": []
  },
  {
   "cell_type": "code",
   "execution_count": 2,
   "metadata": {},
   "outputs": [
    {
     "name": "stdout",
     "output_type": "stream",
     "text": [
      "64\n"
     ]
    }
   ],
   "source": [
    "from gpt_config import GPTConfig\n",
    "\n",
    "test_config = GPTConfig(\n",
    "    vocab_size=64,\n",
    "    n_layer=6,\n",
    "    n_head=4,\n",
    "    n_embd=12,\n",
    "    seq_len=32,\n",
    ")\n",
    "\n",
    "print(test_config.vocab_size)\n"
   ]
  },
  {
   "cell_type": "code",
   "execution_count": 3,
   "metadata": {},
   "outputs": [
    {
     "name": "stdout",
     "output_type": "stream",
     "text": [
      "mps\n"
     ]
    }
   ],
   "source": [
    "import torch\n",
    "\n",
    "device = 'cpu'\n",
    "\n",
    "if torch.cuda.is_available():\n",
    "    device = 'cuda'\n",
    "elif torch.backends.mps.is_available():\n",
    "    device = 'mps'\n",
    "\n",
    "print(device)\n"
   ]
  },
  {
   "cell_type": "code",
   "execution_count": 4,
   "metadata": {},
   "outputs": [
    {
     "name": "stdout",
     "output_type": "stream",
     "text": [
      "5296\n"
     ]
    },
    {
     "data": {
      "text/plain": [
       "GPTModel(\n",
       "  (token_embedding): Embedding(64, 12)\n",
       "  (blocks): Sequential(\n",
       "    (0): GPTBlock(\n",
       "      (mha): MultiHeadAttention(\n",
       "        (attn_heads): ModuleList(\n",
       "          (0-3): 4 x CausalSelfAttention()\n",
       "        )\n",
       "        (projection): Linear(in_features=48, out_features=12, bias=True)\n",
       "      )\n",
       "      (ln1): LayerNorm((12,), eps=1e-05, elementwise_affine=True)\n",
       "    )\n",
       "    (1): GPTBlock(\n",
       "      (mha): MultiHeadAttention(\n",
       "        (attn_heads): ModuleList(\n",
       "          (0-3): 4 x CausalSelfAttention()\n",
       "        )\n",
       "        (projection): Linear(in_features=48, out_features=12, bias=True)\n",
       "      )\n",
       "      (ln1): LayerNorm((12,), eps=1e-05, elementwise_affine=True)\n",
       "    )\n",
       "    (2): GPTBlock(\n",
       "      (mha): MultiHeadAttention(\n",
       "        (attn_heads): ModuleList(\n",
       "          (0-3): 4 x CausalSelfAttention()\n",
       "        )\n",
       "        (projection): Linear(in_features=48, out_features=12, bias=True)\n",
       "      )\n",
       "      (ln1): LayerNorm((12,), eps=1e-05, elementwise_affine=True)\n",
       "    )\n",
       "    (3): GPTBlock(\n",
       "      (mha): MultiHeadAttention(\n",
       "        (attn_heads): ModuleList(\n",
       "          (0-3): 4 x CausalSelfAttention()\n",
       "        )\n",
       "        (projection): Linear(in_features=48, out_features=12, bias=True)\n",
       "      )\n",
       "      (ln1): LayerNorm((12,), eps=1e-05, elementwise_affine=True)\n",
       "    )\n",
       "    (4): GPTBlock(\n",
       "      (mha): MultiHeadAttention(\n",
       "        (attn_heads): ModuleList(\n",
       "          (0-3): 4 x CausalSelfAttention()\n",
       "        )\n",
       "        (projection): Linear(in_features=48, out_features=12, bias=True)\n",
       "      )\n",
       "      (ln1): LayerNorm((12,), eps=1e-05, elementwise_affine=True)\n",
       "    )\n",
       "    (5): GPTBlock(\n",
       "      (mha): MultiHeadAttention(\n",
       "        (attn_heads): ModuleList(\n",
       "          (0-3): 4 x CausalSelfAttention()\n",
       "        )\n",
       "        (projection): Linear(in_features=48, out_features=12, bias=True)\n",
       "      )\n",
       "      (ln1): LayerNorm((12,), eps=1e-05, elementwise_affine=True)\n",
       "    )\n",
       "  )\n",
       "  (ln_f): LayerNorm((12,), eps=1e-05, elementwise_affine=True)\n",
       "  (head): Linear(in_features=12, out_features=64, bias=True)\n",
       ")"
      ]
     },
     "execution_count": 4,
     "metadata": {},
     "output_type": "execute_result"
    }
   ],
   "source": [
    "from gpt_model import GPTModel\n",
    "\n",
    "torch.manual_seed(42)\n",
    "model = GPTModel(test_config, device)\n",
    "\n",
    "parameters_count = 0\n",
    "\n",
    "for p in model.parameters():\n",
    "    parameters_count += p.numel()\n",
    "\n",
    "print(parameters_count)\n",
    "model"
   ]
  },
  {
   "cell_type": "code",
   "execution_count": null,
   "metadata": {},
   "outputs": [],
   "source": []
  },
  {
   "cell_type": "code",
   "execution_count": 5,
   "metadata": {},
   "outputs": [
    {
     "data": {
      "text/plain": [
       "array([[ 1.92691505e+00,  1.48728418e+00,  9.00717199e-01,\n",
       "        -2.10552144e+00,  6.78418458e-01, -1.23454499e+00,\n",
       "        -4.30674814e-02, -1.60466695e+00, -7.52136171e-01,\n",
       "         1.64872289e+00, -3.92478645e-01, -1.40360677e+00],\n",
       "       [-7.27881253e-01, -5.59429884e-01, -7.68838942e-01,\n",
       "         7.62445390e-01,  1.64231694e+00, -1.59597322e-01,\n",
       "        -4.97397482e-01,  4.39589232e-01, -7.58131146e-01,\n",
       "         1.07831764e+00,  8.00800502e-01,  1.68062055e+00],\n",
       "       [ 1.27912438e+00,  1.29642284e+00,  6.10466480e-01,\n",
       "         1.33473778e+00, -2.31624320e-01,  4.17594910e-02,\n",
       "        -2.51575261e-01,  8.59858513e-01, -1.38467419e+00,\n",
       "        -8.71236145e-01, -2.23365933e-01,  1.71736109e+00],\n",
       "       [ 3.18879724e-01, -4.24518973e-01,  3.05720329e-01,\n",
       "        -7.74592519e-01, -1.55757225e+00,  9.95636106e-01,\n",
       "        -8.79785836e-01, -6.01142943e-01, -1.27415144e+00,\n",
       "         2.12278509e+00, -1.23465335e+00, -4.87913877e-01],\n",
       "       [-9.13823009e-01, -6.58137262e-01,  7.80238733e-02,\n",
       "         5.25808752e-01, -4.87991720e-01,  1.19136918e+00,\n",
       "        -8.14007640e-01, -7.35992849e-01, -1.40324783e+00,\n",
       "         3.60038243e-02, -6.34772703e-02,  6.75614893e-01],\n",
       "       [-9.78068933e-02,  1.84459400e+00, -1.18453741e+00,\n",
       "         1.38354933e+00,  1.44513369e+00,  8.56412590e-01,\n",
       "         2.21807575e+00,  5.23165524e-01,  3.46646667e-01,\n",
       "        -1.97331443e-01, -1.05458987e+00,  1.27799511e+00],\n",
       "       [-1.72190815e-01,  5.23788452e-01,  5.66218160e-02,\n",
       "         4.26296145e-01,  5.75005054e-01, -6.41724169e-01,\n",
       "        -2.20639801e+00, -7.50803649e-01,  1.08681442e-02,\n",
       "        -3.38742614e-01, -1.34067988e+00, -5.85370541e-01],\n",
       "       [ 5.36188185e-01,  5.24622619e-01,  1.14120162e+00,\n",
       "         5.16436510e-02,  7.43951976e-01, -4.81584281e-01,\n",
       "        -1.04946578e+00,  6.03898823e-01, -1.72229505e+00,\n",
       "        -8.27768862e-01,  1.33470285e+00,  4.83539253e-01],\n",
       "       [-2.50954437e+00,  4.88001049e-01,  7.84586847e-01,\n",
       "         2.86472086e-02,  6.40755296e-01,  5.83247423e-01,\n",
       "         1.06692672e+00, -4.50153440e-01, -1.85267463e-01,\n",
       "         7.52758861e-01,  4.04757798e-01,  1.78465992e-01],\n",
       "       [ 2.64909506e-01,  1.27316833e+00, -1.31086365e-03,\n",
       "        -3.03603649e-01, -1.45702910e+00, -1.02335237e-01,\n",
       "        -5.99153042e-01,  4.77056414e-01,  7.26177216e-01,\n",
       "         9.11518633e-02, -3.89065206e-01,  5.27916491e-01],\n",
       "       [-1.26854787e-02,  2.40836322e-01,  1.32535368e-01,\n",
       "         7.64240623e-01,  1.09500968e+00,  3.39890957e-01,\n",
       "         7.19967425e-01,  4.11407620e-01,  1.93116057e+00,\n",
       "         1.01186383e+00, -1.43640649e+00, -1.12985981e+00],\n",
       "       [-1.36034533e-01,  1.63540971e+00,  6.54740453e-01,\n",
       "         5.76004624e-01,  1.14150798e+00,  1.85645763e-02,\n",
       "        -1.80580509e+00,  9.25434768e-01, -3.75344366e-01,\n",
       "         1.03308725e+00, -6.86651170e-01,  6.36813581e-01],\n",
       "       [-9.72673893e-01,  9.58457768e-01,  1.61920047e+00,\n",
       "         1.45060980e+00,  2.69480348e-01, -2.10375965e-01,\n",
       "        -7.32802749e-01,  1.04297929e-01,  3.48751694e-01,\n",
       "         9.67594028e-01, -4.65688437e-01,  1.60479724e+00],\n",
       "       [-2.48012042e+00, -4.17543739e-01, -1.19545376e+00,\n",
       "         8.12336862e-01, -1.90055323e+00,  2.28576526e-01,\n",
       "         2.48594042e-02, -3.45950216e-01,  2.86832094e-01,\n",
       "        -7.30842412e-01,  1.74820349e-01, -1.09392881e+00],\n",
       "       [-1.60216033e+00,  1.35289693e+00,  1.28882766e+00,\n",
       "         5.22955582e-02, -1.54685056e+00,  7.56706059e-01,\n",
       "         7.75519490e-01,  2.02653575e+00,  3.58176120e-02,\n",
       "         1.20588727e-01, -8.05663824e-01, -2.07576826e-01],\n",
       "       [-9.31947768e-01, -1.59096634e+00, -1.13597584e+00,\n",
       "        -5.22597551e-01, -5.18773317e-01, -1.50127637e+00,\n",
       "        -1.92665446e+00,  1.27851233e-01,  1.02291334e+00,\n",
       "        -5.55794775e-01,  7.04272747e-01,  7.09876001e-01],\n",
       "       [ 1.77438843e+00, -9.21550691e-01,  9.62449908e-01,\n",
       "        -3.37015569e-01, -1.17533362e+00,  3.58057082e-01,\n",
       "         4.78768080e-01,  1.35370004e+00,  5.26062071e-01,\n",
       "         2.11203814e+00, -5.20757139e-01, -9.32005882e-01],\n",
       "       [ 1.85161337e-01,  1.06869185e+00,  1.30653429e+00,\n",
       "         4.59834516e-01, -8.14626873e-01, -1.02123904e+00,\n",
       "        -4.94923502e-01, -5.92251480e-01,  1.54315978e-01,\n",
       "         4.40766871e-01, -1.48292184e-01, -2.31844306e+00],\n",
       "       [-3.97995323e-01,  1.08048654e+00, -1.78086436e+00,\n",
       "         1.50804555e+00,  3.09428513e-01, -5.00309229e-01,\n",
       "         1.03500319e+00,  1.68964756e+00, -4.50505177e-03,\n",
       "         1.66679239e+00,  1.53920174e-01, -1.06025326e+00],\n",
       "       [-5.72657585e-01,  8.35680440e-02,  3.99905354e-01,\n",
       "         1.98920715e+00, -7.19875097e-02, -9.06094551e-01,\n",
       "        -2.04871225e+00, -1.08105528e+00,  1.76232159e-02,\n",
       "         7.82259777e-02,  1.93158284e-01,  4.09673393e-01],\n",
       "       [-9.29130197e-01,  2.76190877e-01, -5.38875103e-01,\n",
       "         4.62582350e-01, -8.71889174e-01, -2.71182936e-02,\n",
       "        -3.53245765e-01,  1.46385705e+00,  1.25543427e+00,\n",
       "        -7.14955807e-01,  8.53919446e-01,  5.12991130e-01],\n",
       "       [ 5.39731026e-01,  5.65505028e-01,  5.05791724e-01,\n",
       "         2.22453684e-01, -6.85481548e-01,  5.63558996e-01,\n",
       "        -1.50717509e+00, -1.61066604e+00, -1.47904658e+00,\n",
       "         4.32274312e-01, -1.25025406e-01,  7.82118380e-01],\n",
       "       [-1.59876764e+00, -1.09129958e-01,  7.15199471e-01,\n",
       "         3.91396061e-02,  1.30586016e+00,  2.46592715e-01,\n",
       "        -1.97759092e+00,  1.78960431e-02, -1.37930191e+00,\n",
       "         6.25802755e-01, -2.58495045e+00, -2.39994396e-02],\n",
       "       [-1.22192845e-01, -7.46995211e-01,  1.70930874e+00,\n",
       "         5.79226948e-02,  1.19298089e+00,  1.93729317e+00,\n",
       "         7.28713453e-01,  9.80893791e-01,  4.14592326e-01,\n",
       "         1.15656340e+00,  2.69054562e-01, -3.66294384e-02],\n",
       "       [ 9.73294079e-01, -1.01507878e+00, -5.41917562e-01,\n",
       "        -4.41024870e-01, -3.13617796e-01, -1.29254222e-01,\n",
       "        -7.14962065e-01, -4.75620776e-02,  2.02074361e+00,\n",
       "         2.53919005e-01,  9.36438501e-01,  7.12236404e-01],\n",
       "       [-3.17655429e-02,  1.01640865e-01,  1.34330416e+00,\n",
       "         7.13269591e-01,  4.03802961e-01, -7.13978350e-01,\n",
       "         8.33729029e-01, -9.58545268e-01,  4.53634262e-01,\n",
       "         1.24609196e+00, -2.30650854e+00, -1.28689206e+00],\n",
       "       [ 1.79886505e-01, -2.12676263e+00, -1.34083539e-01,\n",
       "        -1.04076862e+00, -7.64722884e-01, -5.52825443e-02,\n",
       "         1.20485067e+00, -9.82473314e-01,  4.33438003e-01,\n",
       "        -7.17190444e-01,  1.05536842e+00, -1.45339692e+00],\n",
       "       [ 4.65150714e-01,  3.71391505e-01, -4.65678563e-03,\n",
       "         7.95494393e-02,  3.78178477e-01,  7.05114305e-01,\n",
       "        -1.72369790e+00, -8.43481123e-01,  4.35143560e-01,\n",
       "         2.65887201e-01, -5.87098539e-01,  8.26888457e-02],\n",
       "       [ 8.85380745e-01,  1.82443991e-01,  7.86381006e-01,\n",
       "        -5.79201654e-02,  5.66665292e-01, -7.09762514e-01,\n",
       "        -4.87505436e-01,  5.00958376e-02,  6.08408451e-01,\n",
       "         1.63086820e+00, -8.47230554e-02,  1.08441246e+00],\n",
       "       [ 9.47765648e-01, -6.76629245e-01, -5.73016822e-01,\n",
       "        -3.30317438e-01, -7.93943048e-01,  3.75231981e-01,\n",
       "         8.79096910e-02, -1.24148345e+00, -3.20254326e-01,\n",
       "        -8.44377995e-01, -5.51346600e-01,  1.98896122e+00],\n",
       "       [ 1.90031183e+00,  1.69508052e+00,  2.80895289e-02,\n",
       "        -1.75369650e-01, -1.77349579e+00, -7.04641163e-01,\n",
       "        -3.94651890e-01,  1.88681114e+00, -2.18443245e-01,\n",
       "         1.66299254e-01,  2.14416814e+00,  1.70456719e+00],\n",
       "       [ 3.45901251e-01,  6.42475128e-01, -2.03954488e-01,\n",
       "         6.85367346e-01, -1.39687926e-01, -1.18075037e+00,\n",
       "        -1.28292954e+00,  4.48485792e-01, -5.90737522e-01,\n",
       "         8.54063153e-01, -4.90067929e-01, -3.59457254e-01],\n",
       "       [ 6.66373789e-01, -7.42657483e-02, -2.09604830e-01,\n",
       "         1.66321412e-01,  1.47030377e+00, -9.39086676e-01,\n",
       "        -6.01318955e-01, -9.96402279e-02, -9.85151827e-01,\n",
       "        -2.48845935e+00, -3.31319004e-01,  8.43579948e-01],\n",
       "       [ 9.87447381e-01, -3.31974715e-01, -8.07618976e-01,\n",
       "         8.24364185e-01,  2.46999245e-02, -1.06414855e+00,\n",
       "        -7.60193467e-01, -4.07505989e-01,  9.62364614e-01,\n",
       "        -1.42641932e-01,  1.52713791e-01, -3.88023779e-02],\n",
       "       [ 9.44605887e-01, -1.58240533e+00,  9.87129092e-01,\n",
       "         1.14567399e+00, -1.41811475e-01, -2.76341468e-01,\n",
       "        -1.93213731e-01,  7.76780963e-01,  6.83875263e-01,\n",
       "        -1.32458949e+00, -5.16081750e-01,  6.00184262e-01],\n",
       "       [-4.70220715e-01, -6.08643651e-01, -4.61922735e-02,\n",
       "        -1.64573979e+00, -4.83327419e-01, -7.40294039e-01,\n",
       "         3.14281076e-01,  1.41555294e-01,  1.03481770e+00,\n",
       "        -6.26437604e-01, -5.15092194e-01,  6.90289974e-01],\n",
       "       [-4.93999153e-01,  1.13661265e+00, -4.61840063e-01,\n",
       "         1.41997945e+00,  8.48518968e-01, -4.78912480e-02,\n",
       "         6.68560266e-01,  1.04298019e+00,  6.89901829e-01,\n",
       "        -1.31293488e+00,  3.78037654e-02, -1.17021143e+00],\n",
       "       [-1.03185587e-01,  1.18947399e+00,  7.60694385e-01,\n",
       "        -7.46304929e-01, -1.38388419e+00,  4.86871570e-01,\n",
       "        -1.00202966e+00,  3.29488143e-02, -4.29195881e-01,\n",
       "        -9.81797874e-01, -6.42058611e-01,  8.26588809e-01],\n",
       "       [ 1.59139597e+00, -1.20813295e-01, -4.83020693e-01,\n",
       "         1.13297902e-01,  7.71509632e-02, -9.22812879e-01,\n",
       "        -1.26199913e+00,  1.08605325e+00,  1.09664118e+00,\n",
       "        -6.83693469e-01,  6.60433620e-02, -7.74141168e-04],\n",
       "       [ 1.62060454e-01,  1.19595826e+00, -1.30615354e+00,\n",
       "        -1.40397191e+00, -1.05972016e+00,  3.05729985e-01,\n",
       "         4.15058136e-01, -7.17414498e-01,  2.83396792e+00,\n",
       "         1.95347404e+00,  2.04868150e+00, -1.08803833e+00],\n",
       "       [ 1.62169456e+00,  8.51265669e-01, -4.00469989e-01,\n",
       "        -6.08827233e-01, -5.08095503e-01, -6.18490219e-01,\n",
       "        -1.64704061e+00, -1.03620982e+00, -4.50305730e-01,\n",
       "        -7.29660541e-02, -5.47954738e-01, -1.14255333e+00],\n",
       "       [-4.48751986e-01, -3.04543879e-02,  3.83031160e-01,\n",
       "        -4.47697155e-02,  1.17994153e+00, -3.31427813e-01,\n",
       "         6.49504244e-01,  9.49585140e-02, -7.52587318e-01,\n",
       "        -6.47229671e-01, -1.28226161e+00,  1.96529222e+00],\n",
       "       [-9.63849127e-01, -2.56679416e+00,  7.09612846e-01,\n",
       "         8.19842696e-01,  6.21446133e-01,  4.23186034e-01,\n",
       "        -3.38898033e-01,  5.17973304e-01, -1.36376953e+00,\n",
       "         1.92957595e-01, -6.10334277e-01,  1.63234457e-01],\n",
       "       [ 1.51017165e+00,  2.12304294e-01, -7.25201070e-01,\n",
       "        -9.52773273e-01,  5.21694660e-01, -4.63867426e-01,\n",
       "         1.82377443e-01, -3.86660755e-01, -1.79067683e+00,\n",
       "         9.32931378e-02, -1.91525686e+00, -6.42175317e-01],\n",
       "       [ 1.34385097e+00, -1.29223084e+00,  7.66244173e-01,\n",
       "         6.45400167e-01,  3.53316069e-01, -2.64748812e+00,\n",
       "        -1.45753670e+00, -9.71237957e-01,  2.54031092e-01,\n",
       "        -1.79058895e-01,  1.19928455e+00, -4.29217458e-01],\n",
       "       [ 1.01028419e+00,  6.11040115e-01,  1.22083855e+00,\n",
       "        -6.07644081e-01, -1.73760235e+00, -1.25352234e-01,\n",
       "        -1.36581457e+00,  1.11174619e+00, -6.22796595e-01,\n",
       "        -7.89180875e-01, -1.67824402e-01,  1.64331460e+00],\n",
       "       [ 2.00708866e+00, -1.25310183e+00,  1.11886966e+00,\n",
       "         1.77327764e+00, -2.07166028e+00, -4.12525535e-01,\n",
       "        -9.76955473e-01, -3.36338878e-02,  1.85949779e+00,\n",
       "         2.62214684e+00,  3.69052559e-01,  3.80297244e-01],\n",
       "       [ 1.98980302e-01, -2.36090913e-01,  3.03408563e-01,\n",
       "        -4.50076729e-01,  4.73904192e-01,  6.50336444e-01,\n",
       "         1.16623807e+00,  1.69359967e-02,  5.32586813e-01,\n",
       "        -6.03535116e-01, -1.74259737e-01,  6.09206319e-01],\n",
       "       [-8.03215265e-01, -1.12090087e+00,  1.95640728e-01,\n",
       "        -7.81518102e-01, -1.78987908e+00, -2.61573553e-01,\n",
       "        -4.40250337e-01,  2.18482947e+00, -4.80097145e-01,\n",
       "        -1.28717315e+00,  7.38882422e-01,  3.38947400e-02],\n",
       "       [-3.12293619e-01, -2.54175365e-01, -1.20553613e+00,\n",
       "        -9.54210341e-01,  6.12765700e-02,  8.52610320e-02,\n",
       "         7.48125255e-01, -1.63561970e-01, -9.08556759e-01,\n",
       "         3.12995821e-01,  8.05047691e-01, -1.11336029e+00],\n",
       "       [ 4.98162657e-01, -1.19995522e+00,  1.27113119e-01,\n",
       "         4.40366030e-01,  6.37771845e-01,  1.59788772e-01,\n",
       "         1.76979709e+00,  6.26817882e-01, -1.87365294e+00,\n",
       "         2.32590604e+00, -9.20390964e-01,  6.66114926e-01],\n",
       "       [-4.40264910e-01, -2.31795645e+00,  1.29458272e+00,\n",
       "         2.22673118e-01, -8.48341227e-01,  1.64894187e+00,\n",
       "         1.60056865e+00, -7.85892457e-02,  4.31045830e-01,\n",
       "         3.68353039e-01,  7.63797700e-01,  1.17922223e+00],\n",
       "       [-4.13786203e-01,  5.18408656e-01, -7.01536715e-01,\n",
       "        -4.32340890e-01,  1.41477048e-01,  7.11036250e-02,\n",
       "         5.63353062e-01, -5.78635812e-01, -1.08381164e+00,\n",
       "        -3.88926208e-01,  8.12610686e-01,  1.49811876e+00],\n",
       "       [ 4.38960828e-02,  1.44432330e+00,  2.32028916e-01,\n",
       "         5.06498277e-01, -1.27869666e+00, -3.84274684e-02,\n",
       "         1.91380095e+00,  3.37844610e-01,  1.25056073e-01,\n",
       "        -7.62151539e-01, -1.19056034e+00,  7.75607347e-01],\n",
       "       [ 4.55719918e-01,  2.50330329e-01, -1.36109710e+00,\n",
       "         1.80183411e+00, -7.43420050e-02, -1.56641379e-01,\n",
       "        -8.70845318e-01, -6.41097248e-01, -4.14562821e-01,\n",
       "        -6.90238059e-01, -2.29956686e-01, -2.17228389e+00],\n",
       "       [ 8.76832381e-02,  1.09378457e+00, -1.17720567e-01,\n",
       "        -2.98643231e-01, -9.53620613e-01, -9.24727768e-02,\n",
       "        -1.01665449e+00, -7.67569011e-03, -5.18220842e-01,\n",
       "         8.39542568e-01,  5.85227013e-02, -1.66824806e+00],\n",
       "       [ 2.12962484e+00, -1.51814735e+00,  1.38728276e-01,\n",
       "        -1.17975688e+00, -5.29741168e-01,  9.62515771e-01,\n",
       "         2.79438257e-01, -5.71819127e-01, -2.79362893e+00,\n",
       "        -7.11154163e-01,  5.23522019e-01, -1.71055007e+00],\n",
       "       [ 8.38485360e-01, -2.69845366e-01,  1.23061568e-01,\n",
       "         8.75751138e-01,  1.51329920e-01,  7.39393175e-01,\n",
       "         2.73103118e-01,  2.73123097e+00,  4.32005227e-01,\n",
       "        -3.09181809e-01, -9.65812430e-02,  1.54192519e+00],\n",
       "       [-1.08744852e-01, -4.18904692e-01,  1.43843842e+00,\n",
       "        -7.06842661e-01, -1.25195146e+00,  3.02504873e+00,\n",
       "         1.34625900e+00,  8.55606973e-01,  3.22029412e-01,\n",
       "         4.46056634e-01,  1.52295923e+00,  1.28048992e+00],\n",
       "       [-1.16160430e-01,  1.37053645e+00, -4.80938137e-01,\n",
       "        -9.90362227e-01, -1.36418128e+00,  8.20565224e-03,\n",
       "        -4.05860186e-01, -7.11085975e-01, -3.49579364e-01,\n",
       "         3.79748821e-01,  9.99303877e-01,  1.27518535e+00],\n",
       "       [ 9.59492743e-01,  1.03510000e-01,  8.29034388e-01,\n",
       "         2.09212947e+00,  7.95309544e-01,  2.79284090e-01,\n",
       "         1.86447844e-01,  3.54713202e-01,  9.06385034e-02,\n",
       "         1.74225533e+00, -1.26600158e+00,  3.89160812e-01],\n",
       "       [ 3.42875063e-01, -1.45906389e+00, -1.49365616e+00,\n",
       "        -2.21385375e-01,  2.25235060e-01, -7.72453770e-02,\n",
       "         9.85693812e-01,  1.27833664e+00,  2.88151890e-01,\n",
       "         8.69049609e-01, -8.09705794e-01, -1.42986047e+00],\n",
       "       [ 4.59015965e-01,  5.30932844e-01, -1.36148059e+00,\n",
       "         1.95624912e+00,  1.76848984e+00, -9.85798538e-01,\n",
       "        -1.23707592e+00, -2.30187511e+00, -1.00860186e-03,\n",
       "        -8.49425673e-01, -1.65939212e+00,  3.06290656e-01],\n",
       "       [ 1.18204451e+00,  3.26026946e-01, -3.89446974e-01,\n",
       "         2.85438061e+00,  8.24365079e-01,  7.98347056e-01,\n",
       "         1.88902223e+00,  5.93462765e-01,  6.96544424e-02,\n",
       "        -1.60343385e+00, -4.29821819e-01,  5.76158762e-01]], dtype=float32)"
      ]
     },
     "execution_count": 5,
     "metadata": {},
     "output_type": "execute_result"
    }
   ],
   "source": [
    "untrained_weights = model.token_embedding.weight.data.cpu().numpy()\n",
    "untrained_weights"
   ]
  },
  {
   "cell_type": "code",
   "execution_count": 35,
   "metadata": {},
   "outputs": [
    {
     "data": {
      "text/plain": [
       "array([[ 1.96563876e+00,  1.45459330e+00,  9.25036430e-01,\n",
       "        -2.10686803e+00,  6.64693117e-01, -1.24020886e+00,\n",
       "        -3.70992906e-02, -1.62299430e+00, -7.73678422e-01,\n",
       "         1.59684420e+00, -3.80364358e-01, -1.37007582e+00],\n",
       "       [-7.11033881e-01, -5.54280221e-01, -8.06302965e-01,\n",
       "         7.99924374e-01,  1.61554301e+00, -1.52125403e-01,\n",
       "        -4.69703645e-01,  4.04414564e-01, -7.51436651e-01,\n",
       "         1.06743884e+00,  8.08465362e-01,  1.66844857e+00],\n",
       "       [ 1.23820460e+00,  1.31468141e+00,  6.40396476e-01,\n",
       "         1.33877301e+00, -1.75310016e-01,  6.11681603e-02,\n",
       "        -3.04339647e-01,  8.26386034e-01, -1.40538216e+00,\n",
       "        -8.74114335e-01, -2.36074805e-01,  1.72334373e+00],\n",
       "       [ 2.29158044e-01, -3.98609698e-01,  3.74818802e-01,\n",
       "        -6.68083608e-01, -1.40524197e+00,  9.54515457e-01,\n",
       "        -9.36116040e-01, -6.35181487e-01, -1.36811090e+00,\n",
       "         2.05426049e+00, -1.29738927e+00, -3.75230491e-01],\n",
       "       [-8.75866830e-01, -7.43966758e-01,  1.19206242e-01,\n",
       "         6.71709657e-01, -4.44187403e-01,  1.21021259e+00,\n",
       "        -9.05247509e-01, -7.89851546e-01, -1.38038814e+00,\n",
       "         1.77333709e-02, -9.86319035e-02,  6.72786713e-01],\n",
       "       [-7.32978210e-02,  1.84438467e+00, -1.14688206e+00,\n",
       "         1.35863137e+00,  1.42216837e+00,  8.50115657e-01,\n",
       "         2.24552917e+00,  5.25625944e-01,  2.84588039e-01,\n",
       "        -1.79803833e-01, -1.04145193e+00,  1.27372611e+00],\n",
       "       [-1.49257943e-01,  4.64898795e-01,  1.14170216e-01,\n",
       "         4.60948735e-01,  5.90046942e-01, -6.58600748e-01,\n",
       "        -2.19794178e+00, -7.19960034e-01, -5.66222034e-02,\n",
       "        -3.06087375e-01, -1.33294070e+00, -6.23279870e-01],\n",
       "       [ 6.65009677e-01,  5.75672328e-01,  1.11368465e+00,\n",
       "         1.12033263e-01,  7.65630901e-01, -5.01240671e-01,\n",
       "        -1.09422183e+00,  6.18561745e-01, -1.69743657e+00,\n",
       "        -8.22538614e-01,  1.18760884e+00,  4.47240531e-01],\n",
       "       [-2.34824896e+00,  4.55580413e-01,  7.75202215e-01,\n",
       "         1.17131054e-01,  7.24469483e-01,  7.43300378e-01,\n",
       "         9.89716411e-01, -4.76109266e-01, -3.98679078e-01,\n",
       "         8.20179522e-01,  2.01910630e-01,  2.19390631e-01],\n",
       "       [ 2.37822831e-01,  1.39559972e+00,  1.64004922e-01,\n",
       "        -4.14269924e-01, -1.44895685e+00, -1.59023687e-01,\n",
       "        -5.72872996e-01,  4.48548228e-01,  7.39101350e-01,\n",
       "         1.82252094e-01, -4.01442856e-01,  3.99484843e-01],\n",
       "       [ 1.32104266e-03,  2.80310214e-01,  1.20332628e-01,\n",
       "         7.43763745e-01,  1.10527861e+00,  3.53715003e-01,\n",
       "         6.71206534e-01,  3.71397734e-01,  1.98541379e+00,\n",
       "         9.55110610e-01, -1.50869465e+00, -1.06784105e+00],\n",
       "       [-1.26683831e-01,  1.62859011e+00,  6.01128697e-01,\n",
       "         6.72995806e-01,  1.17101383e+00, -4.46404405e-02,\n",
       "        -1.86174989e+00,  9.79840636e-01, -3.90296459e-01,\n",
       "         1.05479527e+00, -6.97713792e-01,  6.12344086e-01],\n",
       "       [-9.36954737e-01,  9.38929975e-01,  1.69168842e+00,\n",
       "         1.44175994e+00,  2.80870050e-01, -1.97768077e-01,\n",
       "        -6.92551613e-01,  1.99770015e-02,  4.05942053e-01,\n",
       "         8.76291215e-01, -4.90512520e-01,  1.64179826e+00],\n",
       "       [-2.45254612e+00, -4.50044990e-01, -1.21976972e+00,\n",
       "         7.62640178e-01, -1.93777716e+00,  1.89588800e-01,\n",
       "         8.05017799e-02, -2.99397916e-01,  3.35835904e-01,\n",
       "        -7.37939239e-01,  2.28524923e-01, -1.13966286e+00],\n",
       "       [-1.56896722e+00,  1.41072822e+00,  1.30417740e+00,\n",
       "         2.74449419e-02, -1.60620630e+00,  7.16135919e-01,\n",
       "         7.83077002e-01,  2.07692075e+00,  1.51929548e-02,\n",
       "         1.46711007e-01, -8.03177357e-01, -2.21547782e-01],\n",
       "       [-9.57383275e-01, -1.64806473e+00, -1.09687281e+00,\n",
       "        -5.26502728e-01, -5.70360243e-01, -1.51807690e+00,\n",
       "        -1.91875935e+00,  1.44231677e-01,  1.06455457e+00,\n",
       "        -5.32336175e-01,  7.17852116e-01,  7.83129632e-01],\n",
       "       [ 1.70167363e+00, -8.02044570e-01,  9.97182310e-01,\n",
       "        -2.36396804e-01, -1.22146285e+00,  2.98828632e-01,\n",
       "         4.84322131e-01,  1.32074523e+00,  4.91578609e-01,\n",
       "         1.96541238e+00, -4.77676421e-01, -8.72301102e-01],\n",
       "       [ 2.09162012e-01,  9.63717520e-01,  1.23097086e+00,\n",
       "         3.66241634e-01, -8.30476224e-01, -8.94694686e-01,\n",
       "        -5.42297900e-01, -5.70750296e-01,  2.29946166e-01,\n",
       "         4.63839561e-01, -1.38819739e-01, -2.32886672e+00],\n",
       "       [-4.56387371e-01,  1.17397058e+00, -1.82033122e+00,\n",
       "         1.47514129e+00,  2.85949826e-01, -4.88949060e-01,\n",
       "         1.00692785e+00,  1.73852050e+00,  2.11571138e-02,\n",
       "         1.67689598e+00,  1.85510039e-01, -1.12285495e+00],\n",
       "       [-6.52178049e-01,  7.06605017e-02,  4.10945505e-01,\n",
       "         1.97769880e+00, -1.20664775e-01, -9.10659432e-01,\n",
       "        -2.12799692e+00, -1.03152573e+00,  6.48712441e-02,\n",
       "         7.03720599e-02,  2.66669363e-01,  3.95382345e-01],\n",
       "       [-9.65864241e-01,  2.88092196e-01, -5.67246079e-01,\n",
       "         4.21842575e-01, -8.52409601e-01, -1.00173928e-01,\n",
       "        -2.60602593e-01,  1.50805032e+00,  1.20977283e+00,\n",
       "        -5.93814671e-01,  8.20167780e-01,  6.17022455e-01],\n",
       "       [ 5.18323660e-01,  6.08262420e-01,  5.19742846e-01,\n",
       "         2.15031460e-01, -7.23166227e-01,  5.56843340e-01,\n",
       "        -1.48645735e+00, -1.55860150e+00, -1.52435076e+00,\n",
       "         4.44977731e-01, -1.42856717e-01,  7.61317551e-01],\n",
       "       [-1.56969976e+00,  2.37909406e-02,  7.67458737e-01,\n",
       "        -5.58464415e-02,  1.42645645e+00,  2.18261644e-01,\n",
       "        -1.91023207e+00, -6.96360543e-02, -1.46626735e+00,\n",
       "         5.90252876e-01, -2.51353335e+00, -2.52696145e-02],\n",
       "       [-1.90378800e-01, -6.05831325e-01,  1.73623610e+00,\n",
       "        -4.90379818e-02,  1.15379345e+00,  2.05694008e+00,\n",
       "         6.77187085e-01,  9.20311272e-01,  4.07062501e-01,\n",
       "         1.17331231e+00,  3.32388490e-01, -5.29606342e-02],\n",
       "       [ 1.00398672e+00, -9.65314269e-01, -5.72905660e-01,\n",
       "        -4.17663246e-01, -3.92188966e-01, -7.87777454e-02,\n",
       "        -5.96368194e-01, -6.49631098e-02,  2.01071024e+00,\n",
       "         2.20533609e-01,  9.87435699e-01,  6.63032055e-01],\n",
       "       [-2.57572196e-02,  1.48292854e-01,  1.31301749e+00,\n",
       "         7.89373577e-01,  3.83432209e-01, -7.65425384e-01,\n",
       "         9.70792353e-01, -1.06587017e+00,  4.06297177e-01,\n",
       "         1.26373470e+00, -2.24181008e+00, -1.28909576e+00],\n",
       "       [ 2.44589239e-01, -2.03520989e+00, -1.62096068e-01,\n",
       "        -1.15456629e+00, -6.91048861e-01, -1.42643765e-01,\n",
       "         1.09606194e+00, -8.98186505e-01,  3.44348133e-01,\n",
       "        -6.22187793e-01,  9.95029569e-01, -1.43687916e+00],\n",
       "       [ 4.43875253e-01,  3.26984882e-01,  9.64506157e-03,\n",
       "         7.59600243e-03,  4.49923456e-01,  6.77179337e-01,\n",
       "        -1.59103584e+00, -8.08661580e-01,  4.34819847e-01,\n",
       "         2.67615765e-01, -6.52530968e-01,  1.20003283e-01],\n",
       "       [ 9.76491988e-01,  2.71666020e-01,  9.41521585e-01,\n",
       "        -1.08649097e-01,  4.22379494e-01, -8.07395637e-01,\n",
       "        -4.01644230e-01,  1.13266438e-01,  6.05700135e-01,\n",
       "         1.63703191e+00, -2.22519860e-01,  9.85843956e-01],\n",
       "       [ 9.03156519e-01, -6.47050381e-01, -6.18772805e-01,\n",
       "        -3.18144709e-01, -7.90135443e-01,  3.88455272e-01,\n",
       "         6.24709129e-02, -1.22236705e+00, -3.33082587e-01,\n",
       "        -8.31565917e-01, -5.28840661e-01,  1.96605098e+00],\n",
       "       [ 1.87659454e+00,  1.71439576e+00, -3.59873697e-02,\n",
       "        -1.37114018e-01, -1.75108957e+00, -6.96572781e-01,\n",
       "        -4.31817263e-01,  1.87411940e+00, -2.29750022e-01,\n",
       "         1.96575180e-01,  2.13009167e+00,  1.75119662e+00],\n",
       "       [ 3.41345608e-01,  6.63437068e-01, -2.20525369e-01,\n",
       "         6.80053949e-01, -1.18163653e-01, -1.17950809e+00,\n",
       "        -1.32479799e+00,  4.53783065e-01, -6.22020245e-01,\n",
       "         8.71348917e-01, -4.71690506e-01, -3.38438451e-01],\n",
       "       [ 6.64056957e-01, -4.82306629e-02, -2.20480174e-01,\n",
       "         1.72434449e-01,  1.46910214e+00, -9.37308371e-01,\n",
       "        -6.15088880e-01, -1.14552312e-01, -9.54055727e-01,\n",
       "        -2.48301363e+00, -3.65591824e-01,  8.32601428e-01],\n",
       "       [ 9.79910016e-01, -3.55453372e-01, -8.00683558e-01,\n",
       "         7.94522405e-01, -5.11089433e-03, -1.06719744e+00,\n",
       "        -7.49627233e-01, -3.83882254e-01,  9.86685455e-01,\n",
       "        -9.95474681e-02,  1.28859669e-01, -1.80423073e-02],\n",
       "       [ 9.38430071e-01, -1.59220529e+00,  1.00540292e+00,\n",
       "         1.14302433e+00, -1.31880924e-01, -2.81253606e-01,\n",
       "        -1.95701301e-01,  7.68871248e-01,  6.81183219e-01,\n",
       "        -1.31032753e+00, -5.24648845e-01,  6.08902514e-01],\n",
       "       [-4.68238115e-01, -6.11515343e-01, -3.76991816e-02,\n",
       "        -1.58628178e+00, -5.32066166e-01, -7.60977328e-01,\n",
       "         2.75159091e-01,  1.35200679e-01,  1.09235919e+00,\n",
       "        -6.40019894e-01, -5.08962691e-01,  6.80370510e-01],\n",
       "       [-5.26056588e-01,  1.09880042e+00, -4.76017743e-01,\n",
       "         1.43470538e+00,  8.09902728e-01, -3.22819985e-02,\n",
       "         6.71260536e-01,  1.08468938e+00,  6.67344868e-01,\n",
       "        -1.28608251e+00,  7.56755695e-02, -1.16285598e+00],\n",
       "       [-8.82435217e-02,  1.13842833e+00,  8.83197725e-01,\n",
       "        -7.87573516e-01, -1.25104845e+00,  4.37079638e-01,\n",
       "        -9.19976950e-01,  2.98284385e-02, -5.23411393e-01,\n",
       "        -9.63707507e-01, -6.37332320e-01,  8.01211476e-01],\n",
       "       [ 1.71009052e+00, -1.99489087e-01, -5.38557410e-01,\n",
       "         1.62213489e-01, -1.34885395e-02, -1.01427364e+00,\n",
       "        -1.26527071e+00,  1.04923856e+00,  1.16432345e+00,\n",
       "        -4.81431574e-01,  1.24778956e-01, -8.31258893e-02],\n",
       "       [ 1.84359878e-01,  1.18116724e+00, -1.32783711e+00,\n",
       "        -1.42755246e+00, -1.03342807e+00,  3.02214950e-01,\n",
       "         4.67119962e-01, -7.25966752e-01,  2.79510021e+00,\n",
       "         2.00555396e+00,  2.00068212e+00, -1.04537880e+00],\n",
       "       [ 1.55807674e+00,  8.40251803e-01, -4.10639733e-01,\n",
       "        -5.88346660e-01, -4.89817888e-01, -6.00749671e-01,\n",
       "        -1.62558508e+00, -1.05910265e+00, -4.89708543e-01,\n",
       "        -5.91722392e-02, -5.37922740e-01, -1.12412286e+00],\n",
       "       [-5.18252373e-01, -8.63609463e-03,  4.23217624e-01,\n",
       "        -9.45757050e-03,  1.15177679e+00, -3.52954596e-01,\n",
       "         7.34477401e-01,  1.12853289e-01, -7.59593248e-01,\n",
       "        -6.85690224e-01, -1.31757092e+00,  1.90264332e+00],\n",
       "       [-9.92424548e-01, -2.56985450e+00,  6.60033047e-01,\n",
       "         7.76081622e-01,  5.92089117e-01,  4.46694165e-01,\n",
       "        -2.57805467e-01,  5.47833920e-01, -1.40814447e+00,\n",
       "         1.61146864e-01, -5.61072111e-01,  1.95903912e-01],\n",
       "       [ 1.51010466e+00,  1.83533356e-01, -7.39740312e-01,\n",
       "        -9.81717110e-01,  5.72056353e-01, -4.96844709e-01,\n",
       "         1.32125601e-01, -4.07243073e-01, -1.69638932e+00,\n",
       "         1.22532144e-01, -1.92046452e+00, -6.24435306e-01],\n",
       "       [ 1.33038330e+00, -1.28809500e+00,  7.58557498e-01,\n",
       "         6.46829784e-01,  3.55963886e-01, -2.65403652e+00,\n",
       "        -1.46526372e+00, -9.85477805e-01,  2.04900041e-01,\n",
       "        -1.26761734e-01,  1.22141719e+00, -4.25456941e-01],\n",
       "       [ 9.48154747e-01,  6.16511345e-01,  1.21696866e+00,\n",
       "        -7.16884732e-01, -1.74007225e+00, -1.48725301e-01,\n",
       "        -1.35971689e+00,  1.14711905e+00, -5.34302652e-01,\n",
       "        -7.44293869e-01, -1.48385614e-01,  1.63386059e+00],\n",
       "       [ 1.93416893e+00, -1.26100731e+00,  1.10262382e+00,\n",
       "         1.77509570e+00, -2.09001374e+00, -3.62060636e-01,\n",
       "        -9.65607584e-01, -4.36077714e-02,  1.88498962e+00,\n",
       "         2.61448574e+00,  3.55370939e-01,  3.76493543e-01],\n",
       "       [ 1.60232693e-01, -2.05260307e-01,  3.65194410e-01,\n",
       "        -4.91608173e-01,  5.31728685e-01,  6.67018354e-01,\n",
       "         1.16618049e+00,  2.52641346e-02,  4.68169600e-01,\n",
       "        -5.86809754e-01, -2.29279429e-01,  5.87392986e-01],\n",
       "       [-7.30240107e-01, -1.09848416e+00,  7.49210417e-02,\n",
       "        -6.87079728e-01, -1.84316051e+00, -1.72520995e-01,\n",
       "        -4.75005269e-01,  2.17246675e+00, -6.32938266e-01,\n",
       "        -1.12064588e+00,  7.80840456e-01,  7.47189857e-03],\n",
       "       [-3.76005173e-01, -2.79222339e-01, -1.23487616e+00,\n",
       "        -9.18167949e-01,  3.65045145e-02,  9.40285176e-02,\n",
       "         8.01296830e-01, -1.30427197e-01, -7.88131595e-01,\n",
       "         2.70630896e-01,  7.30578542e-01, -1.11016440e+00],\n",
       "       [ 4.51197982e-01, -1.22236347e+00,  2.61284858e-01,\n",
       "         4.23266858e-01,  5.41660726e-01,  1.99899614e-01,\n",
       "         1.72434020e+00,  7.10758269e-01, -1.74277842e+00,\n",
       "         2.31806040e+00, -1.02762806e+00,  6.37397587e-01],\n",
       "       [-4.07490700e-01, -2.22999454e+00,  1.23482716e+00,\n",
       "         2.17628881e-01, -9.46952343e-01,  1.65686750e+00,\n",
       "         1.59178448e+00, -8.00962970e-02,  4.64364707e-01,\n",
       "         3.48758936e-01,  7.88645744e-01,  1.17540359e+00],\n",
       "       [-5.01861691e-01,  5.22069037e-01, -7.23948061e-01,\n",
       "        -4.97497469e-01,  1.13035016e-01,  8.63828808e-02,\n",
       "         5.77380776e-01, -5.32680631e-01, -1.04796696e+00,\n",
       "        -3.87186915e-01,  8.26547146e-01,  1.51573646e+00],\n",
       "       [ 4.27131094e-02,  1.41489601e+00,  1.93494141e-01,\n",
       "         5.65573096e-01, -1.26396203e+00, -1.26348045e-02,\n",
       "         1.86617446e+00,  3.48279953e-01,  1.33729830e-01,\n",
       "        -7.71310568e-01, -1.15622222e+00,  7.81114399e-01],\n",
       "       [ 4.53227371e-01,  2.32501090e-01, -1.37292647e+00,\n",
       "         1.80523896e+00, -8.57100114e-02, -1.83949992e-01,\n",
       "        -9.10151958e-01, -6.39364421e-01, -3.88239563e-01,\n",
       "        -6.46164834e-01, -2.35685706e-01, -2.12272930e+00],\n",
       "       [-5.15472516e-02,  1.10434961e+00, -1.13485627e-01,\n",
       "        -3.77613991e-01, -9.09485042e-01,  1.04723871e-01,\n",
       "        -9.08317327e-01,  3.68698016e-02, -4.45161939e-01,\n",
       "         8.00150871e-01,  9.89433974e-02, -1.70669222e+00],\n",
       "       [ 2.03148246e+00, -1.63624132e+00,  3.92409321e-03,\n",
       "        -1.12787378e+00, -5.60120761e-01,  1.15619683e+00,\n",
       "         3.02068651e-01, -6.20535254e-01, -2.66968846e+00,\n",
       "        -8.15459013e-01,  5.83673894e-01, -1.74972892e+00],\n",
       "       [ 8.53676438e-01, -1.83570221e-01,  9.12761241e-02,\n",
       "         8.90775800e-01,  1.05882585e-01,  7.45611608e-01,\n",
       "         3.16492409e-01,  2.81667328e+00,  4.23079491e-01,\n",
       "        -3.55714619e-01, -6.65150434e-02,  1.50908840e+00],\n",
       "       [-6.84416294e-02, -3.42080712e-01,  1.40363526e+00,\n",
       "        -6.74860239e-01, -1.19713104e+00,  3.08076143e+00,\n",
       "         1.26087463e+00,  7.57150650e-01,  3.17617238e-01,\n",
       "         4.86215979e-01,  1.54101896e+00,  1.15577269e+00],\n",
       "       [-1.09851353e-01,  1.39317608e+00, -4.41637635e-01,\n",
       "        -9.97061133e-01, -1.36692941e+00, -3.38538848e-02,\n",
       "        -4.12638307e-01, -7.11000264e-01, -3.49157840e-01,\n",
       "         3.84804100e-01,  1.00606120e+00,  1.25868261e+00],\n",
       "       [ 9.65384841e-01,  1.35678604e-01,  8.04943740e-01,\n",
       "         2.10389900e+00,  7.86871850e-01,  3.05060357e-01,\n",
       "         2.29074627e-01,  3.63957644e-01,  7.39502013e-02,\n",
       "         1.73473215e+00, -1.31052792e+00,  3.60368460e-01],\n",
       "       [ 3.48881841e-01, -1.50971115e+00, -1.46533394e+00,\n",
       "        -2.11453736e-01,  2.37934217e-01, -1.04796976e-01,\n",
       "         9.72676337e-01,  1.28578615e+00,  3.16011339e-01,\n",
       "         8.90641510e-01, -8.15517843e-01, -1.46115363e+00],\n",
       "       [ 4.59015965e-01,  5.30932844e-01, -1.36148059e+00,\n",
       "         1.95624912e+00,  1.76848984e+00, -9.85798538e-01,\n",
       "        -1.23707592e+00, -2.30187511e+00, -1.00860186e-03,\n",
       "        -8.49425673e-01, -1.65939212e+00,  3.06290656e-01],\n",
       "       [ 1.18204451e+00,  3.26026946e-01, -3.89446974e-01,\n",
       "         2.85438061e+00,  8.24365079e-01,  7.98347056e-01,\n",
       "         1.88902223e+00,  5.93462765e-01,  6.96544424e-02,\n",
       "        -1.60343385e+00, -4.29821819e-01,  5.76158762e-01]], dtype=float32)"
      ]
     },
     "execution_count": 35,
     "metadata": {},
     "output_type": "execute_result"
    }
   ],
   "source": [
    "trained_weights = model.token_embedding.weight.data.cpu().numpy()\n",
    "trained_weights"
   ]
  },
  {
   "cell_type": "code",
   "execution_count": 7,
   "metadata": {},
   "outputs": [],
   "source": [
    "# Create an interactive visualization using plotly\n",
    "import plotly.graph_objects as go\n",
    "import plotly.offline"
   ]
  },
  {
   "cell_type": "code",
   "execution_count": 47,
   "metadata": {},
   "outputs": [],
   "source": [
    "def plot_dots(dots_data, title):\n",
    "  data = [\n",
    "      go.Scatter3d(\n",
    "          x=dot_data[\"dots\"][:, 0],\n",
    "          y=dot_data[\"dots\"][:, 1],\n",
    "          z=dot_data[\"dots\"][:, 2],\n",
    "          mode='markers+text',\n",
    "          marker=dict(\n",
    "              size=8,\n",
    "              color=dot_data[\"color\"],\n",
    "          ),\n",
    "          text=dot_data[\"labels\"],\n",
    "          hoverinfo='text'\n",
    "      ) for dot_data in dots_data\n",
    "  ]\n",
    "  layout = go.Layout(\n",
    "    scene = dict(\n",
    "      xaxis_title='Meyve',\n",
    "      yaxis_title='Teknoloji',\n",
    "      zaxis_title='Diğer'\n",
    "    ),\n",
    "    width=800,\n",
    "    height=800,\n",
    "    showlegend=False,\n",
    "    title=title\n",
    "  )\n",
    "  plot_figure = go.Figure(data=data, layout=layout)\n",
    "  plotly.offline.iplot(plot_figure)\n",
    "  "
   ]
  },
  {
   "cell_type": "code",
   "execution_count": 48,
   "metadata": {},
   "outputs": [
    {
     "data": {
      "application/vnd.plotly.v1+json": {
       "config": {
        "linkText": "Export to plot.ly",
        "plotlyServerURL": "https://plot.ly",
        "showLink": false
       },
       "data": [
        {
         "hoverinfo": "text",
         "marker": {
          "color": "blue",
          "size": 8
         },
         "mode": "markers+text",
         "text": [
          "the",
          "capital",
          "of",
          "united",
          "states",
          "is",
          "not",
          "london",
          "france",
          "paris",
          "and",
          "berlin",
          "germany",
          "rome",
          "in",
          "italy",
          "madrid",
          "spain",
          "lisbon",
          "portugal",
          "kingdom",
          "washington",
          "although",
          "these",
          "place",
          "are",
          "often",
          "mention",
          "together",
          "each",
          "country",
          "has",
          "its",
          "own",
          "identity",
          "any",
          "european",
          "city",
          "remain",
          "important",
          "with",
          "a",
          "rich",
          "history",
          "culture",
          "europe",
          "made",
          "many",
          "unique",
          "world",
          "while",
          "known",
          "for",
          "art",
          "fashion",
          "famous",
          "they",
          "ed",
          "s",
          ".",
          ",",
          " ",
          "<unk>",
          "<pad>"
         ],
         "type": "scatter3d",
         "x": {
          "bdata": "J6X2P21WOr9ZuqM/NESjPk7wab/7Tsi9ylIwvqFDCT9gnCDAOKKHPsHWT7yjTAu+KAF5v0u6HsCXE82/IZRuvykf4z/vmj0+C8bLvrCZEr96222/0CsKP2ukzL8+QPq9zSl5P5YcAr0rNDg+PCjuPlCoYj/FoHI/az3zP/gZsT55lyo/Wsl8P7HRcT/FwPC+de38vvdS073dsss/LfMlPrCTzz/SwuW+0b52v05NwT9PA6w//lCBPyR0AEB+wUs+hJ9Nv/Pkn74tD/8+Z2rhvsnb075hzDM9H1TpPkWTsz3GSwhA+qZWP5+13r2F5e29UaF1P1KNrz4kBOs+PE2XPw==",
          "dtype": "f4"
         },
         "y": {
          "bdata": "VF++P8w2D78v8aU/jVrZvq97KL+oG+w/ABcGP6tNBj9G2/k+LveiP8yddj4bVdE/fV11P0vI1b66K60/yaTLv7/qa7/lyog/Yk2KP7klqz3kaI0+8MQQP4d/370UOz+/Gu6BvxYp0D3hHAjABye+PpnSOj6TNy2/ZvjYP0B5JD+kGJi9l/ipvkKMyr8S0Bu/hnyRP69AmD/2bPe9KRWZP4zsWT97e/m8W0YkwExmWT7SZ6W/IG0cP6RloL/RwXG+rnmPv0Yjgr4imJm/ZlkUwG62BD+W37g/TCuAPiIBjD+nUsK/LCmKvq161r69ba8/Df3TPZvCur836wc/Ae2mPg==",
          "dtype": "f4"
         },
         "z": {
          "bdata": "Z5VmP6HSRL+IRxw/YIecPvvKnz3snpe/R+xnPeUSkj+v2kg/SdGrulq3Bz4SnSc/9kHPP6EEmb9O+KQ/qGeRvx5jdj+EPKc/XfPjv2XAzD648wm/kXsBP1AXNz+hyto/HLsKv2Txqz8yTQm+85eYu0RQST87sRK/AxzmPHLZUL6mola+HsBOv360fD8cND29TXbsvt68Qj99Tve+CjCnv2cKzb6pHMQ+MKk1P8emOb+UKEQ/cEScPx83jz9eWJs+C1ZIPgJPmr/xKQI+47SlP+mXM7/9mG0+bjiuv3sX8b3JDg4+tAf8PcAeuD+GPfa+mTtUPyAwv7//RK6/mGXHvg==",
          "dtype": "f4"
         }
        },
        {
         "hoverinfo": "text",
         "marker": {
          "color": "red",
          "size": 8
         },
         "mode": "markers+text",
         "text": [
          "the",
          "capital",
          "of",
          "united",
          "states",
          "is",
          "not",
          "london",
          "france",
          "paris",
          "and",
          "berlin",
          "germany",
          "rome",
          "in",
          "italy",
          "madrid",
          "spain",
          "lisbon",
          "portugal",
          "kingdom",
          "washington",
          "although",
          "these",
          "place",
          "are",
          "often",
          "mention",
          "together",
          "each",
          "country",
          "has",
          "its",
          "own",
          "identity",
          "any",
          "european",
          "city",
          "remain",
          "important",
          "with",
          "a",
          "rich",
          "history",
          "culture",
          "europe",
          "made",
          "many",
          "unique",
          "world",
          "while",
          "known",
          "for",
          "art",
          "fashion",
          "famous",
          "they",
          "ed",
          "s",
          ".",
          ",",
          " ",
          "<unk>",
          "<pad>"
         ],
         "type": "scatter3d",
         "x": {
          "bdata": "DZr7P1EGNr99fZ4/aKhqPs84YL8rHZa9E9cYvhM+Kj+2SRbA1IdzPtYmrTpouQG+RNxvv4T2HMDr08i/Ehd1v3HQ2T+RLlY+m6vpviT1Jr/hQne/3LAEP+zryL+p8kK+o4KAP84A07yadXo+nkPjPmH7eT9ENWc/QDTwP9rErj6j/yk/Ytt6P/Q8cD/ovO++pasGvwW5tL0/5No/1sg8Pg9vxz8wrAS/iQ9+vxxLwT8ASqo/RbpyP9mS9z8KFCQ+BPE6v8CDwL5sA+c+n6LQvgJ6AL/x8y49aw3oPjYjU73PAwJAiopaPyArjL2/+eC9diN3P6Sgsj4kBOs+PE2XPw==",
          "dtype": "f4"
         },
         "y": {
          "bdata": "HTC6P0/lDb97R6g/khbMvpt0Pr/MFOw/NwfuPkNfEz/WQek+A6OyP9KEjz6kddA/t11wP0xs5r6+krQ/yfPSv8tSTb8xtnY/q0SWP3S2kD3SgJM+FrcbPzjlwjzDFxu/1h53vxXaFz7hQALAkGqnPs8Xiz4YpSW/UnHbPwPXKT+EjUW9/P21vmLNy79FjBy/fqWMPwW4kT/eRky+fTCXP74aVz9ofg28f3gkwCvwOz5M4KS/sNMdP7Boob/CL1K+IZuMvzv2jr5odpy/O7gOwFGmBT9QG7U/xBRuPlRbjT9bcNG/1fk7vjQlr76YU7I/Ve8KPjc+wb836wc/Ae2mPg==",
          "dtype": "f4"
         },
         "z": {
          "bdata": "MM9sP99pTr8G8SM/QOi/Pmci9D0IzZK/E9LpPTiNjj+nc0Y/6PAnPvRw9j2S4xk/P4nYP2ohnL9J76Y/VGaMv1dHfz90kJ0/nQDpv3Nn0j4KNxG/3g0FPy14RD/8PN4/8qkSv/UQqD+D/CW+UgYePI8HcT/lZx6/fmcTvWfRYb6OxWG+mflMvwuxgD91ahq9mbjzvj8ZYj/m3gm/kfapv18/0r77r9g+7fcoP59fPb/TMEI/ocWbP8cijT/D+ro+NHCZPWwQnr8hx4U+0Q6eP6lUOb9UI0Y+Dryvvydr6L2ulYA7+u66PVKqsz9UHuK+yxBOPxCQu7//RK6/mGXHvg==",
          "dtype": "f4"
         }
        }
       ],
       "layout": {
        "height": 800,
        "scene": {
         "xaxis": {
          "title": {
           "text": "Meyve"
          }
         },
         "yaxis": {
          "title": {
           "text": "Teknoloji"
          }
         },
         "zaxis": {
          "title": {
           "text": "Diğer"
          }
         }
        },
        "showlegend": false,
        "template": {
         "data": {
          "bar": [
           {
            "error_x": {
             "color": "#2a3f5f"
            },
            "error_y": {
             "color": "#2a3f5f"
            },
            "marker": {
             "line": {
              "color": "#E5ECF6",
              "width": 0.5
             },
             "pattern": {
              "fillmode": "overlay",
              "size": 10,
              "solidity": 0.2
             }
            },
            "type": "bar"
           }
          ],
          "barpolar": [
           {
            "marker": {
             "line": {
              "color": "#E5ECF6",
              "width": 0.5
             },
             "pattern": {
              "fillmode": "overlay",
              "size": 10,
              "solidity": 0.2
             }
            },
            "type": "barpolar"
           }
          ],
          "carpet": [
           {
            "aaxis": {
             "endlinecolor": "#2a3f5f",
             "gridcolor": "white",
             "linecolor": "white",
             "minorgridcolor": "white",
             "startlinecolor": "#2a3f5f"
            },
            "baxis": {
             "endlinecolor": "#2a3f5f",
             "gridcolor": "white",
             "linecolor": "white",
             "minorgridcolor": "white",
             "startlinecolor": "#2a3f5f"
            },
            "type": "carpet"
           }
          ],
          "choropleth": [
           {
            "colorbar": {
             "outlinewidth": 0,
             "ticks": ""
            },
            "type": "choropleth"
           }
          ],
          "contour": [
           {
            "colorbar": {
             "outlinewidth": 0,
             "ticks": ""
            },
            "colorscale": [
             [
              0,
              "#0d0887"
             ],
             [
              0.1111111111111111,
              "#46039f"
             ],
             [
              0.2222222222222222,
              "#7201a8"
             ],
             [
              0.3333333333333333,
              "#9c179e"
             ],
             [
              0.4444444444444444,
              "#bd3786"
             ],
             [
              0.5555555555555556,
              "#d8576b"
             ],
             [
              0.6666666666666666,
              "#ed7953"
             ],
             [
              0.7777777777777778,
              "#fb9f3a"
             ],
             [
              0.8888888888888888,
              "#fdca26"
             ],
             [
              1,
              "#f0f921"
             ]
            ],
            "type": "contour"
           }
          ],
          "contourcarpet": [
           {
            "colorbar": {
             "outlinewidth": 0,
             "ticks": ""
            },
            "type": "contourcarpet"
           }
          ],
          "heatmap": [
           {
            "colorbar": {
             "outlinewidth": 0,
             "ticks": ""
            },
            "colorscale": [
             [
              0,
              "#0d0887"
             ],
             [
              0.1111111111111111,
              "#46039f"
             ],
             [
              0.2222222222222222,
              "#7201a8"
             ],
             [
              0.3333333333333333,
              "#9c179e"
             ],
             [
              0.4444444444444444,
              "#bd3786"
             ],
             [
              0.5555555555555556,
              "#d8576b"
             ],
             [
              0.6666666666666666,
              "#ed7953"
             ],
             [
              0.7777777777777778,
              "#fb9f3a"
             ],
             [
              0.8888888888888888,
              "#fdca26"
             ],
             [
              1,
              "#f0f921"
             ]
            ],
            "type": "heatmap"
           }
          ],
          "histogram": [
           {
            "marker": {
             "pattern": {
              "fillmode": "overlay",
              "size": 10,
              "solidity": 0.2
             }
            },
            "type": "histogram"
           }
          ],
          "histogram2d": [
           {
            "colorbar": {
             "outlinewidth": 0,
             "ticks": ""
            },
            "colorscale": [
             [
              0,
              "#0d0887"
             ],
             [
              0.1111111111111111,
              "#46039f"
             ],
             [
              0.2222222222222222,
              "#7201a8"
             ],
             [
              0.3333333333333333,
              "#9c179e"
             ],
             [
              0.4444444444444444,
              "#bd3786"
             ],
             [
              0.5555555555555556,
              "#d8576b"
             ],
             [
              0.6666666666666666,
              "#ed7953"
             ],
             [
              0.7777777777777778,
              "#fb9f3a"
             ],
             [
              0.8888888888888888,
              "#fdca26"
             ],
             [
              1,
              "#f0f921"
             ]
            ],
            "type": "histogram2d"
           }
          ],
          "histogram2dcontour": [
           {
            "colorbar": {
             "outlinewidth": 0,
             "ticks": ""
            },
            "colorscale": [
             [
              0,
              "#0d0887"
             ],
             [
              0.1111111111111111,
              "#46039f"
             ],
             [
              0.2222222222222222,
              "#7201a8"
             ],
             [
              0.3333333333333333,
              "#9c179e"
             ],
             [
              0.4444444444444444,
              "#bd3786"
             ],
             [
              0.5555555555555556,
              "#d8576b"
             ],
             [
              0.6666666666666666,
              "#ed7953"
             ],
             [
              0.7777777777777778,
              "#fb9f3a"
             ],
             [
              0.8888888888888888,
              "#fdca26"
             ],
             [
              1,
              "#f0f921"
             ]
            ],
            "type": "histogram2dcontour"
           }
          ],
          "mesh3d": [
           {
            "colorbar": {
             "outlinewidth": 0,
             "ticks": ""
            },
            "type": "mesh3d"
           }
          ],
          "parcoords": [
           {
            "line": {
             "colorbar": {
              "outlinewidth": 0,
              "ticks": ""
             }
            },
            "type": "parcoords"
           }
          ],
          "pie": [
           {
            "automargin": true,
            "type": "pie"
           }
          ],
          "scatter": [
           {
            "fillpattern": {
             "fillmode": "overlay",
             "size": 10,
             "solidity": 0.2
            },
            "type": "scatter"
           }
          ],
          "scatter3d": [
           {
            "line": {
             "colorbar": {
              "outlinewidth": 0,
              "ticks": ""
             }
            },
            "marker": {
             "colorbar": {
              "outlinewidth": 0,
              "ticks": ""
             }
            },
            "type": "scatter3d"
           }
          ],
          "scattercarpet": [
           {
            "marker": {
             "colorbar": {
              "outlinewidth": 0,
              "ticks": ""
             }
            },
            "type": "scattercarpet"
           }
          ],
          "scattergeo": [
           {
            "marker": {
             "colorbar": {
              "outlinewidth": 0,
              "ticks": ""
             }
            },
            "type": "scattergeo"
           }
          ],
          "scattergl": [
           {
            "marker": {
             "colorbar": {
              "outlinewidth": 0,
              "ticks": ""
             }
            },
            "type": "scattergl"
           }
          ],
          "scattermap": [
           {
            "marker": {
             "colorbar": {
              "outlinewidth": 0,
              "ticks": ""
             }
            },
            "type": "scattermap"
           }
          ],
          "scattermapbox": [
           {
            "marker": {
             "colorbar": {
              "outlinewidth": 0,
              "ticks": ""
             }
            },
            "type": "scattermapbox"
           }
          ],
          "scatterpolar": [
           {
            "marker": {
             "colorbar": {
              "outlinewidth": 0,
              "ticks": ""
             }
            },
            "type": "scatterpolar"
           }
          ],
          "scatterpolargl": [
           {
            "marker": {
             "colorbar": {
              "outlinewidth": 0,
              "ticks": ""
             }
            },
            "type": "scatterpolargl"
           }
          ],
          "scatterternary": [
           {
            "marker": {
             "colorbar": {
              "outlinewidth": 0,
              "ticks": ""
             }
            },
            "type": "scatterternary"
           }
          ],
          "surface": [
           {
            "colorbar": {
             "outlinewidth": 0,
             "ticks": ""
            },
            "colorscale": [
             [
              0,
              "#0d0887"
             ],
             [
              0.1111111111111111,
              "#46039f"
             ],
             [
              0.2222222222222222,
              "#7201a8"
             ],
             [
              0.3333333333333333,
              "#9c179e"
             ],
             [
              0.4444444444444444,
              "#bd3786"
             ],
             [
              0.5555555555555556,
              "#d8576b"
             ],
             [
              0.6666666666666666,
              "#ed7953"
             ],
             [
              0.7777777777777778,
              "#fb9f3a"
             ],
             [
              0.8888888888888888,
              "#fdca26"
             ],
             [
              1,
              "#f0f921"
             ]
            ],
            "type": "surface"
           }
          ],
          "table": [
           {
            "cells": {
             "fill": {
              "color": "#EBF0F8"
             },
             "line": {
              "color": "white"
             }
            },
            "header": {
             "fill": {
              "color": "#C8D4E3"
             },
             "line": {
              "color": "white"
             }
            },
            "type": "table"
           }
          ]
         },
         "layout": {
          "annotationdefaults": {
           "arrowcolor": "#2a3f5f",
           "arrowhead": 0,
           "arrowwidth": 1
          },
          "autotypenumbers": "strict",
          "coloraxis": {
           "colorbar": {
            "outlinewidth": 0,
            "ticks": ""
           }
          },
          "colorscale": {
           "diverging": [
            [
             0,
             "#8e0152"
            ],
            [
             0.1,
             "#c51b7d"
            ],
            [
             0.2,
             "#de77ae"
            ],
            [
             0.3,
             "#f1b6da"
            ],
            [
             0.4,
             "#fde0ef"
            ],
            [
             0.5,
             "#f7f7f7"
            ],
            [
             0.6,
             "#e6f5d0"
            ],
            [
             0.7,
             "#b8e186"
            ],
            [
             0.8,
             "#7fbc41"
            ],
            [
             0.9,
             "#4d9221"
            ],
            [
             1,
             "#276419"
            ]
           ],
           "sequential": [
            [
             0,
             "#0d0887"
            ],
            [
             0.1111111111111111,
             "#46039f"
            ],
            [
             0.2222222222222222,
             "#7201a8"
            ],
            [
             0.3333333333333333,
             "#9c179e"
            ],
            [
             0.4444444444444444,
             "#bd3786"
            ],
            [
             0.5555555555555556,
             "#d8576b"
            ],
            [
             0.6666666666666666,
             "#ed7953"
            ],
            [
             0.7777777777777778,
             "#fb9f3a"
            ],
            [
             0.8888888888888888,
             "#fdca26"
            ],
            [
             1,
             "#f0f921"
            ]
           ],
           "sequentialminus": [
            [
             0,
             "#0d0887"
            ],
            [
             0.1111111111111111,
             "#46039f"
            ],
            [
             0.2222222222222222,
             "#7201a8"
            ],
            [
             0.3333333333333333,
             "#9c179e"
            ],
            [
             0.4444444444444444,
             "#bd3786"
            ],
            [
             0.5555555555555556,
             "#d8576b"
            ],
            [
             0.6666666666666666,
             "#ed7953"
            ],
            [
             0.7777777777777778,
             "#fb9f3a"
            ],
            [
             0.8888888888888888,
             "#fdca26"
            ],
            [
             1,
             "#f0f921"
            ]
           ]
          },
          "colorway": [
           "#636efa",
           "#EF553B",
           "#00cc96",
           "#ab63fa",
           "#FFA15A",
           "#19d3f3",
           "#FF6692",
           "#B6E880",
           "#FF97FF",
           "#FECB52"
          ],
          "font": {
           "color": "#2a3f5f"
          },
          "geo": {
           "bgcolor": "white",
           "lakecolor": "white",
           "landcolor": "#E5ECF6",
           "showlakes": true,
           "showland": true,
           "subunitcolor": "white"
          },
          "hoverlabel": {
           "align": "left"
          },
          "hovermode": "closest",
          "mapbox": {
           "style": "light"
          },
          "paper_bgcolor": "white",
          "plot_bgcolor": "#E5ECF6",
          "polar": {
           "angularaxis": {
            "gridcolor": "white",
            "linecolor": "white",
            "ticks": ""
           },
           "bgcolor": "#E5ECF6",
           "radialaxis": {
            "gridcolor": "white",
            "linecolor": "white",
            "ticks": ""
           }
          },
          "scene": {
           "xaxis": {
            "backgroundcolor": "#E5ECF6",
            "gridcolor": "white",
            "gridwidth": 2,
            "linecolor": "white",
            "showbackground": true,
            "ticks": "",
            "zerolinecolor": "white"
           },
           "yaxis": {
            "backgroundcolor": "#E5ECF6",
            "gridcolor": "white",
            "gridwidth": 2,
            "linecolor": "white",
            "showbackground": true,
            "ticks": "",
            "zerolinecolor": "white"
           },
           "zaxis": {
            "backgroundcolor": "#E5ECF6",
            "gridcolor": "white",
            "gridwidth": 2,
            "linecolor": "white",
            "showbackground": true,
            "ticks": "",
            "zerolinecolor": "white"
           }
          },
          "shapedefaults": {
           "line": {
            "color": "#2a3f5f"
           }
          },
          "ternary": {
           "aaxis": {
            "gridcolor": "white",
            "linecolor": "white",
            "ticks": ""
           },
           "baxis": {
            "gridcolor": "white",
            "linecolor": "white",
            "ticks": ""
           },
           "bgcolor": "#E5ECF6",
           "caxis": {
            "gridcolor": "white",
            "linecolor": "white",
            "ticks": ""
           }
          },
          "title": {
           "x": 0.05
          },
          "xaxis": {
           "automargin": true,
           "gridcolor": "white",
           "linecolor": "white",
           "ticks": "",
           "title": {
            "standoff": 15
           },
           "zerolinecolor": "white",
           "zerolinewidth": 2
          },
          "yaxis": {
           "automargin": true,
           "gridcolor": "white",
           "linecolor": "white",
           "ticks": "",
           "title": {
            "standoff": 15
           },
           "zerolinecolor": "white",
           "zerolinewidth": 2
          }
         }
        },
        "title": {
         "text": "Embedding Uzayı yani sözlük uzayı"
        },
        "width": 800
       }
      }
     },
     "metadata": {},
     "output_type": "display_data"
    }
   ],
   "source": [
    "dots_data = [\n",
    "  {\n",
    "    \"dots\": untrained_weights,\n",
    "    \"color\": \"blue\",\n",
    "    \"labels\": [reverse_vocab_list[i] for i in range(len(reverse_vocab_list))]\n",
    "  },\n",
    "  {\n",
    "    \"dots\": trained_weights,\n",
    "    \"color\": \"red\",\n",
    "    \"labels\": [reverse_vocab_list[i] for i in range(len(reverse_vocab_list))]\n",
    "  }\n",
    "]\n",
    "\n",
    "plot_dots(dots_data, \"Embedding Uzayı yani sözlük uzayı\")\n"
   ]
  },
  {
   "cell_type": "code",
   "execution_count": 10,
   "metadata": {},
   "outputs": [
    {
     "data": {
      "text/plain": [
       "([0, 61, 1, 61, 2, 61, 8, 61, 5],\n",
       " [0,\n",
       "  61,\n",
       "  1,\n",
       "  61,\n",
       "  2,\n",
       "  61,\n",
       "  8,\n",
       "  61,\n",
       "  5,\n",
       "  63,\n",
       "  63,\n",
       "  63,\n",
       "  63,\n",
       "  63,\n",
       "  63,\n",
       "  63,\n",
       "  63,\n",
       "  63,\n",
       "  63,\n",
       "  63,\n",
       "  63,\n",
       "  63,\n",
       "  63,\n",
       "  63,\n",
       "  63,\n",
       "  63,\n",
       "  63,\n",
       "  63,\n",
       "  63,\n",
       "  63,\n",
       "  63,\n",
       "  63])"
      ]
     },
     "execution_count": 10,
     "metadata": {},
     "output_type": "execute_result"
    }
   ],
   "source": [
    "prompt = \"the capital of france is\"\n",
    "tokens = tokenize(prompt)\n",
    "num_tokens = len(tokens)\n",
    "tokens_padded = tokens + [vocab_list['<pad>']] * (test_config.seq_len - num_tokens)\n",
    "tokens, tokens_padded"
   ]
  },
  {
   "cell_type": "code",
   "execution_count": 11,
   "metadata": {},
   "outputs": [
    {
     "data": {
      "text/plain": [
       "torch.Size([1, 32, 12])"
      ]
     },
     "execution_count": 11,
     "metadata": {},
     "output_type": "execute_result"
    }
   ],
   "source": [
    "cumle = model.token_embedding(torch.tensor([tokens_padded]).to(device))\n",
    "cumle.shape"
   ]
  },
  {
   "cell_type": "code",
   "execution_count": 12,
   "metadata": {},
   "outputs": [
    {
     "data": {
      "text/plain": [
       "tensor([[ 1.9269,  1.4873,  0.9007, -2.1055,  0.6784, -1.2345, -0.0431, -1.6047,\n",
       "         -0.7521,  1.6487, -0.3925, -1.4036],\n",
       "        [ 0.3429, -1.4591, -1.4937, -0.2214,  0.2252, -0.0772,  0.9857,  1.2783,\n",
       "          0.2882,  0.8690, -0.8097, -1.4299],\n",
       "        [-0.7279, -0.5594, -0.7688,  0.7624,  1.6423, -0.1596, -0.4974,  0.4396,\n",
       "         -0.7581,  1.0783,  0.8008,  1.6806],\n",
       "        [ 0.3429, -1.4591, -1.4937, -0.2214,  0.2252, -0.0772,  0.9857,  1.2783,\n",
       "          0.2882,  0.8690, -0.8097, -1.4299],\n",
       "        [ 1.2791,  1.2964,  0.6105,  1.3347, -0.2316,  0.0418, -0.2516,  0.8599,\n",
       "         -1.3847, -0.8712, -0.2234,  1.7174],\n",
       "        [ 0.3429, -1.4591, -1.4937, -0.2214,  0.2252, -0.0772,  0.9857,  1.2783,\n",
       "          0.2882,  0.8690, -0.8097, -1.4299],\n",
       "        [-2.5095,  0.4880,  0.7846,  0.0286,  0.6408,  0.5832,  1.0669, -0.4502,\n",
       "         -0.1853,  0.7528,  0.4048,  0.1785],\n",
       "        [ 0.3429, -1.4591, -1.4937, -0.2214,  0.2252, -0.0772,  0.9857,  1.2783,\n",
       "          0.2882,  0.8690, -0.8097, -1.4299],\n",
       "        [-0.0978,  1.8446, -1.1845,  1.3835,  1.4451,  0.8564,  2.2181,  0.5232,\n",
       "          0.3466, -0.1973, -1.0546,  1.2780],\n",
       "        [ 1.1820,  0.3260, -0.3894,  2.8544,  0.8244,  0.7983,  1.8890,  0.5935,\n",
       "          0.0697, -1.6034, -0.4298,  0.5762],\n",
       "        [ 1.1820,  0.3260, -0.3894,  2.8544,  0.8244,  0.7983,  1.8890,  0.5935,\n",
       "          0.0697, -1.6034, -0.4298,  0.5762],\n",
       "        [ 1.1820,  0.3260, -0.3894,  2.8544,  0.8244,  0.7983,  1.8890,  0.5935,\n",
       "          0.0697, -1.6034, -0.4298,  0.5762],\n",
       "        [ 1.1820,  0.3260, -0.3894,  2.8544,  0.8244,  0.7983,  1.8890,  0.5935,\n",
       "          0.0697, -1.6034, -0.4298,  0.5762],\n",
       "        [ 1.1820,  0.3260, -0.3894,  2.8544,  0.8244,  0.7983,  1.8890,  0.5935,\n",
       "          0.0697, -1.6034, -0.4298,  0.5762],\n",
       "        [ 1.1820,  0.3260, -0.3894,  2.8544,  0.8244,  0.7983,  1.8890,  0.5935,\n",
       "          0.0697, -1.6034, -0.4298,  0.5762],\n",
       "        [ 1.1820,  0.3260, -0.3894,  2.8544,  0.8244,  0.7983,  1.8890,  0.5935,\n",
       "          0.0697, -1.6034, -0.4298,  0.5762],\n",
       "        [ 1.1820,  0.3260, -0.3894,  2.8544,  0.8244,  0.7983,  1.8890,  0.5935,\n",
       "          0.0697, -1.6034, -0.4298,  0.5762],\n",
       "        [ 1.1820,  0.3260, -0.3894,  2.8544,  0.8244,  0.7983,  1.8890,  0.5935,\n",
       "          0.0697, -1.6034, -0.4298,  0.5762],\n",
       "        [ 1.1820,  0.3260, -0.3894,  2.8544,  0.8244,  0.7983,  1.8890,  0.5935,\n",
       "          0.0697, -1.6034, -0.4298,  0.5762],\n",
       "        [ 1.1820,  0.3260, -0.3894,  2.8544,  0.8244,  0.7983,  1.8890,  0.5935,\n",
       "          0.0697, -1.6034, -0.4298,  0.5762],\n",
       "        [ 1.1820,  0.3260, -0.3894,  2.8544,  0.8244,  0.7983,  1.8890,  0.5935,\n",
       "          0.0697, -1.6034, -0.4298,  0.5762],\n",
       "        [ 1.1820,  0.3260, -0.3894,  2.8544,  0.8244,  0.7983,  1.8890,  0.5935,\n",
       "          0.0697, -1.6034, -0.4298,  0.5762],\n",
       "        [ 1.1820,  0.3260, -0.3894,  2.8544,  0.8244,  0.7983,  1.8890,  0.5935,\n",
       "          0.0697, -1.6034, -0.4298,  0.5762],\n",
       "        [ 1.1820,  0.3260, -0.3894,  2.8544,  0.8244,  0.7983,  1.8890,  0.5935,\n",
       "          0.0697, -1.6034, -0.4298,  0.5762],\n",
       "        [ 1.1820,  0.3260, -0.3894,  2.8544,  0.8244,  0.7983,  1.8890,  0.5935,\n",
       "          0.0697, -1.6034, -0.4298,  0.5762],\n",
       "        [ 1.1820,  0.3260, -0.3894,  2.8544,  0.8244,  0.7983,  1.8890,  0.5935,\n",
       "          0.0697, -1.6034, -0.4298,  0.5762],\n",
       "        [ 1.1820,  0.3260, -0.3894,  2.8544,  0.8244,  0.7983,  1.8890,  0.5935,\n",
       "          0.0697, -1.6034, -0.4298,  0.5762],\n",
       "        [ 1.1820,  0.3260, -0.3894,  2.8544,  0.8244,  0.7983,  1.8890,  0.5935,\n",
       "          0.0697, -1.6034, -0.4298,  0.5762],\n",
       "        [ 1.1820,  0.3260, -0.3894,  2.8544,  0.8244,  0.7983,  1.8890,  0.5935,\n",
       "          0.0697, -1.6034, -0.4298,  0.5762],\n",
       "        [ 1.1820,  0.3260, -0.3894,  2.8544,  0.8244,  0.7983,  1.8890,  0.5935,\n",
       "          0.0697, -1.6034, -0.4298,  0.5762],\n",
       "        [ 1.1820,  0.3260, -0.3894,  2.8544,  0.8244,  0.7983,  1.8890,  0.5935,\n",
       "          0.0697, -1.6034, -0.4298,  0.5762],\n",
       "        [ 1.1820,  0.3260, -0.3894,  2.8544,  0.8244,  0.7983,  1.8890,  0.5935,\n",
       "          0.0697, -1.6034, -0.4298,  0.5762]], device='mps:0',\n",
       "       grad_fn=<SelectBackward0>)"
      ]
     },
     "execution_count": 12,
     "metadata": {},
     "output_type": "execute_result"
    }
   ],
   "source": [
    "cumle[0]"
   ]
  },
  {
   "cell_type": "code",
   "execution_count": 13,
   "metadata": {},
   "outputs": [
    {
     "data": {
      "application/vnd.plotly.v1+json": {
       "config": {
        "linkText": "Export to plot.ly",
        "plotlyServerURL": "https://plot.ly",
        "showLink": false
       },
       "data": [
        {
         "hoverinfo": "text",
         "marker": {
          "color": "red",
          "size": 8
         },
         "mode": "markers+text",
         "text": [
          "the",
          " ",
          "capital",
          " ",
          "of",
          " ",
          "france",
          " ",
          "is",
          "<pad>",
          "<pad>",
          "<pad>",
          "<pad>",
          "<pad>",
          "<pad>",
          "<pad>",
          "<pad>",
          "<pad>",
          "<pad>",
          "<pad>",
          "<pad>",
          "<pad>",
          "<pad>",
          "<pad>",
          "<pad>",
          "<pad>",
          "<pad>",
          "<pad>",
          "<pad>",
          "<pad>",
          "<pad>",
          "<pad>"
         ],
         "type": "scatter3d",
         "x": {
          "bdata": "J6X2P1KNrz5tVjq/Uo2vPlm6oz9Sja8+YJwgwFKNrz77Tsi9PE2XPzxNlz88TZc/PE2XPzxNlz88TZc/PE2XPzxNlz88TZc/PE2XPzxNlz88TZc/PE2XPzxNlz88TZc/PE2XPzxNlz88TZc/PE2XPzxNlz88TZc/PE2XPzxNlz8=",
          "dtype": "f4"
         },
         "y": {
          "bdata": "VF++P5vCur/MNg+/m8K6vy/xpT+bwrq/Rtv5PpvCur+oG+w/Ae2mPgHtpj4B7aY+Ae2mPgHtpj4B7aY+Ae2mPgHtpj4B7aY+Ae2mPgHtpj4B7aY+Ae2mPgHtpj4B7aY+Ae2mPgHtpj4B7aY+Ae2mPgHtpj4B7aY+Ae2mPgHtpj4=",
          "dtype": "f4"
         },
         "z": {
          "bdata": "Z5VmPyAwv7+h0kS/IDC/v4hHHD8gML+/r9pIPyAwv7/snpe/mGXHvphlx76YZce+mGXHvphlx76YZce+mGXHvphlx76YZce+mGXHvphlx76YZce+mGXHvphlx76YZce+mGXHvphlx76YZce+mGXHvphlx76YZce+mGXHvphlx74=",
          "dtype": "f4"
         }
        }
       ],
       "layout": {
        "height": 800,
        "scene": {
         "xaxis": {
          "title": {
           "text": "Meyve"
          }
         },
         "yaxis": {
          "title": {
           "text": "Teknoloji"
          }
         },
         "zaxis": {
          "title": {
           "text": "Diğer"
          }
         }
        },
        "showlegend": false,
        "template": {
         "data": {
          "bar": [
           {
            "error_x": {
             "color": "#2a3f5f"
            },
            "error_y": {
             "color": "#2a3f5f"
            },
            "marker": {
             "line": {
              "color": "#E5ECF6",
              "width": 0.5
             },
             "pattern": {
              "fillmode": "overlay",
              "size": 10,
              "solidity": 0.2
             }
            },
            "type": "bar"
           }
          ],
          "barpolar": [
           {
            "marker": {
             "line": {
              "color": "#E5ECF6",
              "width": 0.5
             },
             "pattern": {
              "fillmode": "overlay",
              "size": 10,
              "solidity": 0.2
             }
            },
            "type": "barpolar"
           }
          ],
          "carpet": [
           {
            "aaxis": {
             "endlinecolor": "#2a3f5f",
             "gridcolor": "white",
             "linecolor": "white",
             "minorgridcolor": "white",
             "startlinecolor": "#2a3f5f"
            },
            "baxis": {
             "endlinecolor": "#2a3f5f",
             "gridcolor": "white",
             "linecolor": "white",
             "minorgridcolor": "white",
             "startlinecolor": "#2a3f5f"
            },
            "type": "carpet"
           }
          ],
          "choropleth": [
           {
            "colorbar": {
             "outlinewidth": 0,
             "ticks": ""
            },
            "type": "choropleth"
           }
          ],
          "contour": [
           {
            "colorbar": {
             "outlinewidth": 0,
             "ticks": ""
            },
            "colorscale": [
             [
              0,
              "#0d0887"
             ],
             [
              0.1111111111111111,
              "#46039f"
             ],
             [
              0.2222222222222222,
              "#7201a8"
             ],
             [
              0.3333333333333333,
              "#9c179e"
             ],
             [
              0.4444444444444444,
              "#bd3786"
             ],
             [
              0.5555555555555556,
              "#d8576b"
             ],
             [
              0.6666666666666666,
              "#ed7953"
             ],
             [
              0.7777777777777778,
              "#fb9f3a"
             ],
             [
              0.8888888888888888,
              "#fdca26"
             ],
             [
              1,
              "#f0f921"
             ]
            ],
            "type": "contour"
           }
          ],
          "contourcarpet": [
           {
            "colorbar": {
             "outlinewidth": 0,
             "ticks": ""
            },
            "type": "contourcarpet"
           }
          ],
          "heatmap": [
           {
            "colorbar": {
             "outlinewidth": 0,
             "ticks": ""
            },
            "colorscale": [
             [
              0,
              "#0d0887"
             ],
             [
              0.1111111111111111,
              "#46039f"
             ],
             [
              0.2222222222222222,
              "#7201a8"
             ],
             [
              0.3333333333333333,
              "#9c179e"
             ],
             [
              0.4444444444444444,
              "#bd3786"
             ],
             [
              0.5555555555555556,
              "#d8576b"
             ],
             [
              0.6666666666666666,
              "#ed7953"
             ],
             [
              0.7777777777777778,
              "#fb9f3a"
             ],
             [
              0.8888888888888888,
              "#fdca26"
             ],
             [
              1,
              "#f0f921"
             ]
            ],
            "type": "heatmap"
           }
          ],
          "histogram": [
           {
            "marker": {
             "pattern": {
              "fillmode": "overlay",
              "size": 10,
              "solidity": 0.2
             }
            },
            "type": "histogram"
           }
          ],
          "histogram2d": [
           {
            "colorbar": {
             "outlinewidth": 0,
             "ticks": ""
            },
            "colorscale": [
             [
              0,
              "#0d0887"
             ],
             [
              0.1111111111111111,
              "#46039f"
             ],
             [
              0.2222222222222222,
              "#7201a8"
             ],
             [
              0.3333333333333333,
              "#9c179e"
             ],
             [
              0.4444444444444444,
              "#bd3786"
             ],
             [
              0.5555555555555556,
              "#d8576b"
             ],
             [
              0.6666666666666666,
              "#ed7953"
             ],
             [
              0.7777777777777778,
              "#fb9f3a"
             ],
             [
              0.8888888888888888,
              "#fdca26"
             ],
             [
              1,
              "#f0f921"
             ]
            ],
            "type": "histogram2d"
           }
          ],
          "histogram2dcontour": [
           {
            "colorbar": {
             "outlinewidth": 0,
             "ticks": ""
            },
            "colorscale": [
             [
              0,
              "#0d0887"
             ],
             [
              0.1111111111111111,
              "#46039f"
             ],
             [
              0.2222222222222222,
              "#7201a8"
             ],
             [
              0.3333333333333333,
              "#9c179e"
             ],
             [
              0.4444444444444444,
              "#bd3786"
             ],
             [
              0.5555555555555556,
              "#d8576b"
             ],
             [
              0.6666666666666666,
              "#ed7953"
             ],
             [
              0.7777777777777778,
              "#fb9f3a"
             ],
             [
              0.8888888888888888,
              "#fdca26"
             ],
             [
              1,
              "#f0f921"
             ]
            ],
            "type": "histogram2dcontour"
           }
          ],
          "mesh3d": [
           {
            "colorbar": {
             "outlinewidth": 0,
             "ticks": ""
            },
            "type": "mesh3d"
           }
          ],
          "parcoords": [
           {
            "line": {
             "colorbar": {
              "outlinewidth": 0,
              "ticks": ""
             }
            },
            "type": "parcoords"
           }
          ],
          "pie": [
           {
            "automargin": true,
            "type": "pie"
           }
          ],
          "scatter": [
           {
            "fillpattern": {
             "fillmode": "overlay",
             "size": 10,
             "solidity": 0.2
            },
            "type": "scatter"
           }
          ],
          "scatter3d": [
           {
            "line": {
             "colorbar": {
              "outlinewidth": 0,
              "ticks": ""
             }
            },
            "marker": {
             "colorbar": {
              "outlinewidth": 0,
              "ticks": ""
             }
            },
            "type": "scatter3d"
           }
          ],
          "scattercarpet": [
           {
            "marker": {
             "colorbar": {
              "outlinewidth": 0,
              "ticks": ""
             }
            },
            "type": "scattercarpet"
           }
          ],
          "scattergeo": [
           {
            "marker": {
             "colorbar": {
              "outlinewidth": 0,
              "ticks": ""
             }
            },
            "type": "scattergeo"
           }
          ],
          "scattergl": [
           {
            "marker": {
             "colorbar": {
              "outlinewidth": 0,
              "ticks": ""
             }
            },
            "type": "scattergl"
           }
          ],
          "scattermap": [
           {
            "marker": {
             "colorbar": {
              "outlinewidth": 0,
              "ticks": ""
             }
            },
            "type": "scattermap"
           }
          ],
          "scattermapbox": [
           {
            "marker": {
             "colorbar": {
              "outlinewidth": 0,
              "ticks": ""
             }
            },
            "type": "scattermapbox"
           }
          ],
          "scatterpolar": [
           {
            "marker": {
             "colorbar": {
              "outlinewidth": 0,
              "ticks": ""
             }
            },
            "type": "scatterpolar"
           }
          ],
          "scatterpolargl": [
           {
            "marker": {
             "colorbar": {
              "outlinewidth": 0,
              "ticks": ""
             }
            },
            "type": "scatterpolargl"
           }
          ],
          "scatterternary": [
           {
            "marker": {
             "colorbar": {
              "outlinewidth": 0,
              "ticks": ""
             }
            },
            "type": "scatterternary"
           }
          ],
          "surface": [
           {
            "colorbar": {
             "outlinewidth": 0,
             "ticks": ""
            },
            "colorscale": [
             [
              0,
              "#0d0887"
             ],
             [
              0.1111111111111111,
              "#46039f"
             ],
             [
              0.2222222222222222,
              "#7201a8"
             ],
             [
              0.3333333333333333,
              "#9c179e"
             ],
             [
              0.4444444444444444,
              "#bd3786"
             ],
             [
              0.5555555555555556,
              "#d8576b"
             ],
             [
              0.6666666666666666,
              "#ed7953"
             ],
             [
              0.7777777777777778,
              "#fb9f3a"
             ],
             [
              0.8888888888888888,
              "#fdca26"
             ],
             [
              1,
              "#f0f921"
             ]
            ],
            "type": "surface"
           }
          ],
          "table": [
           {
            "cells": {
             "fill": {
              "color": "#EBF0F8"
             },
             "line": {
              "color": "white"
             }
            },
            "header": {
             "fill": {
              "color": "#C8D4E3"
             },
             "line": {
              "color": "white"
             }
            },
            "type": "table"
           }
          ]
         },
         "layout": {
          "annotationdefaults": {
           "arrowcolor": "#2a3f5f",
           "arrowhead": 0,
           "arrowwidth": 1
          },
          "autotypenumbers": "strict",
          "coloraxis": {
           "colorbar": {
            "outlinewidth": 0,
            "ticks": ""
           }
          },
          "colorscale": {
           "diverging": [
            [
             0,
             "#8e0152"
            ],
            [
             0.1,
             "#c51b7d"
            ],
            [
             0.2,
             "#de77ae"
            ],
            [
             0.3,
             "#f1b6da"
            ],
            [
             0.4,
             "#fde0ef"
            ],
            [
             0.5,
             "#f7f7f7"
            ],
            [
             0.6,
             "#e6f5d0"
            ],
            [
             0.7,
             "#b8e186"
            ],
            [
             0.8,
             "#7fbc41"
            ],
            [
             0.9,
             "#4d9221"
            ],
            [
             1,
             "#276419"
            ]
           ],
           "sequential": [
            [
             0,
             "#0d0887"
            ],
            [
             0.1111111111111111,
             "#46039f"
            ],
            [
             0.2222222222222222,
             "#7201a8"
            ],
            [
             0.3333333333333333,
             "#9c179e"
            ],
            [
             0.4444444444444444,
             "#bd3786"
            ],
            [
             0.5555555555555556,
             "#d8576b"
            ],
            [
             0.6666666666666666,
             "#ed7953"
            ],
            [
             0.7777777777777778,
             "#fb9f3a"
            ],
            [
             0.8888888888888888,
             "#fdca26"
            ],
            [
             1,
             "#f0f921"
            ]
           ],
           "sequentialminus": [
            [
             0,
             "#0d0887"
            ],
            [
             0.1111111111111111,
             "#46039f"
            ],
            [
             0.2222222222222222,
             "#7201a8"
            ],
            [
             0.3333333333333333,
             "#9c179e"
            ],
            [
             0.4444444444444444,
             "#bd3786"
            ],
            [
             0.5555555555555556,
             "#d8576b"
            ],
            [
             0.6666666666666666,
             "#ed7953"
            ],
            [
             0.7777777777777778,
             "#fb9f3a"
            ],
            [
             0.8888888888888888,
             "#fdca26"
            ],
            [
             1,
             "#f0f921"
            ]
           ]
          },
          "colorway": [
           "#636efa",
           "#EF553B",
           "#00cc96",
           "#ab63fa",
           "#FFA15A",
           "#19d3f3",
           "#FF6692",
           "#B6E880",
           "#FF97FF",
           "#FECB52"
          ],
          "font": {
           "color": "#2a3f5f"
          },
          "geo": {
           "bgcolor": "white",
           "lakecolor": "white",
           "landcolor": "#E5ECF6",
           "showlakes": true,
           "showland": true,
           "subunitcolor": "white"
          },
          "hoverlabel": {
           "align": "left"
          },
          "hovermode": "closest",
          "mapbox": {
           "style": "light"
          },
          "paper_bgcolor": "white",
          "plot_bgcolor": "#E5ECF6",
          "polar": {
           "angularaxis": {
            "gridcolor": "white",
            "linecolor": "white",
            "ticks": ""
           },
           "bgcolor": "#E5ECF6",
           "radialaxis": {
            "gridcolor": "white",
            "linecolor": "white",
            "ticks": ""
           }
          },
          "scene": {
           "xaxis": {
            "backgroundcolor": "#E5ECF6",
            "gridcolor": "white",
            "gridwidth": 2,
            "linecolor": "white",
            "showbackground": true,
            "ticks": "",
            "zerolinecolor": "white"
           },
           "yaxis": {
            "backgroundcolor": "#E5ECF6",
            "gridcolor": "white",
            "gridwidth": 2,
            "linecolor": "white",
            "showbackground": true,
            "ticks": "",
            "zerolinecolor": "white"
           },
           "zaxis": {
            "backgroundcolor": "#E5ECF6",
            "gridcolor": "white",
            "gridwidth": 2,
            "linecolor": "white",
            "showbackground": true,
            "ticks": "",
            "zerolinecolor": "white"
           }
          },
          "shapedefaults": {
           "line": {
            "color": "#2a3f5f"
           }
          },
          "ternary": {
           "aaxis": {
            "gridcolor": "white",
            "linecolor": "white",
            "ticks": ""
           },
           "baxis": {
            "gridcolor": "white",
            "linecolor": "white",
            "ticks": ""
           },
           "bgcolor": "#E5ECF6",
           "caxis": {
            "gridcolor": "white",
            "linecolor": "white",
            "ticks": ""
           }
          },
          "title": {
           "x": 0.05
          },
          "xaxis": {
           "automargin": true,
           "gridcolor": "white",
           "linecolor": "white",
           "ticks": "",
           "title": {
            "standoff": 15
           },
           "zerolinecolor": "white",
           "zerolinewidth": 2
          },
          "yaxis": {
           "automargin": true,
           "gridcolor": "white",
           "linecolor": "white",
           "ticks": "",
           "title": {
            "standoff": 15
           },
           "zerolinecolor": "white",
           "zerolinewidth": 2
          }
         }
        },
        "title": {
         "text": "Attention Uzayı yani bağlam uzayı"
        },
        "width": 800
       }
      }
     },
     "metadata": {},
     "output_type": "display_data"
    }
   ],
   "source": [
    "\n",
    "dots_data = [\n",
    "  {\n",
    "    \"dots\": cumle[0].detach().cpu().numpy(),\n",
    "    \"color\": \"red\",\n",
    "    \"labels\": [reverse_vocab_list[i] for i in tokens_padded]\n",
    "  }\n",
    "]\n",
    "\n",
    "plot_dots(dots_data, \"Attention Uzayı yani bağlam uzayı\")"
   ]
  },
  {
   "cell_type": "code",
   "execution_count": 14,
   "metadata": {},
   "outputs": [
    {
     "data": {
      "text/plain": [
       "tensor([[[ 1.9269,  2.4873,  0.9007, -1.1055,  0.6784, -0.2345, -0.0431,\n",
       "          -0.6047, -0.7521,  2.6487, -0.3925, -0.4036],\n",
       "         [ 1.1843, -0.9188, -1.2799,  0.7555,  0.2716,  0.9217,  0.9957,\n",
       "           2.2783,  0.2903,  1.8690, -0.8092, -0.4299],\n",
       "         [ 0.1814, -0.9756, -0.3512,  1.6710,  1.7350,  0.8361, -0.4774,\n",
       "           1.4394, -0.7538,  2.0783,  0.8017,  2.6806],\n",
       "         [ 0.4840, -2.4491, -0.8914,  0.5769,  0.3640,  0.9131,  1.0157,\n",
       "           2.2779,  0.2946,  1.8690, -0.8083, -0.4299],\n",
       "         [ 0.5223,  0.6428,  1.3695,  1.9858, -0.0470,  1.0246, -0.2116,\n",
       "           1.8591, -1.3761,  0.1287, -0.2215,  2.7174],\n",
       "         [-0.6160, -1.1754, -0.6130,  0.2524,  0.4552,  0.8959,  1.0357,\n",
       "           2.2771,  0.2989,  1.8690, -0.8074, -0.4299],\n",
       "         [-2.7890,  1.4482,  1.7462,  0.3032,  0.9157,  1.5447,  1.1269,\n",
       "           0.5480, -0.1723,  1.7527,  0.4075,  1.1785],\n",
       "         [ 0.9999, -0.7052, -0.4956, -0.1587,  0.5445,  0.8704,  1.0556,\n",
       "           2.2759,  0.3032,  1.8689, -0.8065, -0.4299],\n",
       "         [ 0.8916,  1.6991, -0.1962,  1.2314,  1.8080,  1.7883,  2.2980,\n",
       "           1.5200,  0.3639,  0.8025, -1.0509,  2.2780],\n",
       "         [ 1.5942, -0.5851,  0.5435,  2.4944,  1.2301,  1.7124,  1.9789,\n",
       "           1.5894,  0.0890, -0.6036, -0.4256,  1.5762],\n",
       "         [ 0.6380, -0.5130,  0.4450,  2.3033,  1.2720,  1.6925,  1.9889,\n",
       "           1.5885,  0.0912, -0.6037, -0.4252,  1.5761],\n",
       "         [ 0.1821,  0.3305,  0.3079,  2.1377,  1.3130,  1.6708,  1.9988,\n",
       "           1.5874,  0.0934, -0.6037, -0.4247,  1.5761],\n",
       "         [ 0.6455,  1.1699,  0.1386,  2.0052,  1.3530,  1.6472,  2.0087,\n",
       "           1.5863,  0.0955, -0.6038, -0.4243,  1.5761],\n",
       "         [ 1.6022,  1.2335, -0.0552,  1.9119,  1.3918,  1.6218,  2.0187,\n",
       "           1.5850,  0.0977, -0.6038, -0.4238,  1.5761],\n",
       "         [ 2.1727,  0.4628, -0.2644,  1.8622,  1.4294,  1.5945,  2.0286,\n",
       "           1.5837,  0.0998, -0.6039, -0.4233,  1.5761],\n",
       "         [ 1.8323, -0.4337, -0.4794,  1.8584,  1.4657,  1.5656,  2.0385,\n",
       "           1.5822,  0.1020, -0.6040, -0.4229,  1.5761],\n",
       "         [ 0.8941, -0.6316, -0.6902,  1.9007,  1.5006,  1.5350,  2.0483,\n",
       "           1.5807,  0.1041, -0.6040, -0.4224,  1.5761],\n",
       "         [ 0.2206,  0.0509, -0.8871,  1.9870,  1.5341,  1.5029,  2.0582,\n",
       "           1.5790,  0.1063, -0.6041, -0.4219,  1.5761],\n",
       "         [ 0.4311,  0.9863, -1.0611,  2.1135,  1.5660,  1.4692,  2.0681,\n",
       "           1.5773,  0.1084, -0.6042, -0.4215,  1.5761],\n",
       "         [ 1.3319,  1.3147, -1.2039,  2.2742,  1.5963,  1.4340,  2.0779,\n",
       "           1.5755,  0.1106, -0.6043, -0.4210,  1.5761],\n",
       "         [ 2.0950,  0.7341, -1.3091,  2.4617,  1.6250,  1.3975,  2.0877,\n",
       "           1.5735,  0.1127, -0.6044, -0.4205,  1.5761],\n",
       "         [ 2.0187, -0.2217, -1.3718,  2.6674,  1.6519,  1.3597,  2.0975,\n",
       "           1.5715,  0.1149, -0.6045, -0.4201,  1.5761],\n",
       "         [ 1.1732, -0.6739, -1.3891,  2.8817,  1.6771,  1.3207,  2.1073,\n",
       "           1.5694,  0.1170, -0.6046, -0.4196,  1.5761],\n",
       "         [ 0.3358, -0.2068, -1.3601,  3.0948,  1.7004,  1.2806,  2.1170,\n",
       "           1.5671,  0.1192, -0.6047, -0.4191,  1.5761],\n",
       "         [ 0.2765,  0.7502, -1.2863,  3.2968,  1.7218,  1.2394,  2.1267,\n",
       "           1.5648,  0.1213, -0.6048, -0.4187,  1.5761],\n",
       "         [ 1.0497,  1.3172, -1.1710,  3.4783,  1.7413,  1.1973,  2.1364,\n",
       "           1.5624,  0.1235, -0.6049, -0.4182,  1.5761],\n",
       "         [ 1.9446,  0.9729, -1.0195,  3.6309,  1.7589,  1.1543,  2.1461,\n",
       "           1.5599,  0.1256, -0.6050, -0.4178,  1.5761],\n",
       "         [ 2.1384,  0.0339, -0.8390,  3.7477,  1.7744,  1.1106,  2.1558,\n",
       "           1.5572,  0.1278, -0.6051, -0.4173,  1.5761],\n",
       "         [ 1.4530, -0.6366, -0.6376,  3.8231,  1.7878,  1.0662,  2.1654,\n",
       "           1.5545,  0.1299, -0.6053, -0.4168,  1.5761],\n",
       "         [ 0.5184, -0.4220, -0.4248,  3.8538,  1.7992,  1.0212,  2.1750,\n",
       "           1.5517,  0.1321, -0.6054, -0.4164,  1.5761],\n",
       "         [ 0.1940,  0.4803, -0.2103,  3.8382,  1.8085,  0.9757,  2.1845,\n",
       "           1.5488,  0.1342, -0.6055, -0.4159,  1.5761],\n",
       "         [ 0.7780,  1.2408, -0.0041,  3.7772,  1.8157,  0.9299,  2.1941,\n",
       "           1.5458,  0.1364, -0.6057, -0.4154,  1.5761]]], device='mps:0',\n",
       "       grad_fn=<AddBackward0>)"
      ]
     },
     "execution_count": 14,
     "metadata": {},
     "output_type": "execute_result"
    }
   ],
   "source": [
    "from gpt_model import get_position_encoding\n",
    "\n",
    "position_encoding = get_position_encoding(test_config.seq_len, test_config.n_embd, device=device)\n",
    "positioned_cumle = cumle + position_encoding\n",
    "positioned_cumle\n"
   ]
  },
  {
   "cell_type": "code",
   "execution_count": 15,
   "metadata": {},
   "outputs": [
    {
     "data": {
      "application/vnd.plotly.v1+json": {
       "config": {
        "linkText": "Export to plot.ly",
        "plotlyServerURL": "https://plot.ly",
        "showLink": false
       },
       "data": [
        {
         "hoverinfo": "text",
         "marker": {
          "color": "red",
          "size": 8
         },
         "mode": "markers+text",
         "text": [
          "the",
          " ",
          "capital",
          " ",
          "of",
          " ",
          "france",
          " ",
          "is",
          "<pad>",
          "<pad>",
          "<pad>",
          "<pad>",
          "<pad>",
          "<pad>",
          "<pad>",
          "<pad>",
          "<pad>",
          "<pad>",
          "<pad>",
          "<pad>",
          "<pad>",
          "<pad>",
          "<pad>",
          "<pad>",
          "<pad>",
          "<pad>",
          "<pad>",
          "<pad>",
          "<pad>",
          "<pad>",
          "<pad>"
         ],
         "type": "scatter3d",
         "x": {
          "bdata": "J6X2P6aYlz8oxTk+NM73PuO2BT9ntR2/Un4ywO/2fz+2PGQ/iA3MP4BVIz9wbDo+oD0lP0QVzT+6DAtA3onqP3DmZD9M8WE+irPcPml8qj9QFAZAYjIBQDIrlj8i8as++IyNPlVchj/A6Pg/4tsIQEb6uT+PtgQ/UKtGPnUrRz8=",
          "dtype": "f4"
         },
         "y": {
          "bdata": "qi8fQPYza79mv3m/V70cwC6NJD+Qc5a/rl25P3mFNL/pe9k/VMkVv+RWA78XMak+qL6VP3jinT9s7+w+zwjevqyyIb9YVlA9BIF8PyBJqD+S7js/7gVjvu6GLL/6xFO+gA1AP/yaqD8CE3k/SM4KPdb2Ir9lFNi+Def1PofRnj8=",
          "dtype": "f4"
         },
         "z": {
          "bdata": "Z5VmP/bSo7+Fy7O+eTJkv6JKrz9x7hy/CYLfP/7B/b6840i+4yQLPyrZ4z5wp50+6OYNPjgEYr1HXoe+6HH1vj6yML8kHGO/9tCHv0wamr+gkae/kJevvyHNsb8uGK6/maSkv0Dilb/Vf4K/lsVWv3A5I7+2etm+CFlXvkAAh7s=",
          "dtype": "f4"
         }
        },
        {
         "hoverinfo": "text",
         "marker": {
          "color": "blue",
          "size": 8
         },
         "mode": "markers+text",
         "text": [
          "the",
          " ",
          "capital",
          " ",
          "of",
          " ",
          "france",
          " ",
          "is",
          "<pad>",
          "<pad>",
          "<pad>",
          "<pad>",
          "<pad>",
          "<pad>",
          "<pad>",
          "<pad>",
          "<pad>",
          "<pad>",
          "<pad>",
          "<pad>",
          "<pad>",
          "<pad>",
          "<pad>",
          "<pad>",
          "<pad>",
          "<pad>",
          "<pad>",
          "<pad>",
          "<pad>",
          "<pad>",
          "<pad>"
         ],
         "type": "scatter3d",
         "x": {
          "bdata": "J6X2P1KNrz5tVjq/Uo2vPlm6oz9Sja8+YJwgwFKNrz77Tsi9PE2XPzxNlz88TZc/PE2XPzxNlz88TZc/PE2XPzxNlz88TZc/PE2XPzxNlz88TZc/PE2XPzxNlz88TZc/PE2XPzxNlz88TZc/PE2XPzxNlz88TZc/PE2XPzxNlz8=",
          "dtype": "f4"
         },
         "y": {
          "bdata": "VF++P5vCur/MNg+/m8K6vy/xpT+bwrq/Rtv5PpvCur+oG+w/Ae2mPgHtpj4B7aY+Ae2mPgHtpj4B7aY+Ae2mPgHtpj4B7aY+Ae2mPgHtpj4B7aY+Ae2mPgHtpj4B7aY+Ae2mPgHtpj4B7aY+Ae2mPgHtpj4B7aY+Ae2mPgHtpj4=",
          "dtype": "f4"
         },
         "z": {
          "bdata": "Z5VmPyAwv7+h0kS/IDC/v4hHHD8gML+/r9pIPyAwv7/snpe/mGXHvphlx76YZce+mGXHvphlx76YZce+mGXHvphlx76YZce+mGXHvphlx76YZce+mGXHvphlx76YZce+mGXHvphlx76YZce+mGXHvphlx76YZce+mGXHvphlx74=",
          "dtype": "f4"
         }
        }
       ],
       "layout": {
        "height": 800,
        "scene": {
         "xaxis": {
          "title": {
           "text": "Meyve"
          }
         },
         "yaxis": {
          "title": {
           "text": "Teknoloji"
          }
         },
         "zaxis": {
          "title": {
           "text": "Diğer"
          }
         }
        },
        "showlegend": false,
        "template": {
         "data": {
          "bar": [
           {
            "error_x": {
             "color": "#2a3f5f"
            },
            "error_y": {
             "color": "#2a3f5f"
            },
            "marker": {
             "line": {
              "color": "#E5ECF6",
              "width": 0.5
             },
             "pattern": {
              "fillmode": "overlay",
              "size": 10,
              "solidity": 0.2
             }
            },
            "type": "bar"
           }
          ],
          "barpolar": [
           {
            "marker": {
             "line": {
              "color": "#E5ECF6",
              "width": 0.5
             },
             "pattern": {
              "fillmode": "overlay",
              "size": 10,
              "solidity": 0.2
             }
            },
            "type": "barpolar"
           }
          ],
          "carpet": [
           {
            "aaxis": {
             "endlinecolor": "#2a3f5f",
             "gridcolor": "white",
             "linecolor": "white",
             "minorgridcolor": "white",
             "startlinecolor": "#2a3f5f"
            },
            "baxis": {
             "endlinecolor": "#2a3f5f",
             "gridcolor": "white",
             "linecolor": "white",
             "minorgridcolor": "white",
             "startlinecolor": "#2a3f5f"
            },
            "type": "carpet"
           }
          ],
          "choropleth": [
           {
            "colorbar": {
             "outlinewidth": 0,
             "ticks": ""
            },
            "type": "choropleth"
           }
          ],
          "contour": [
           {
            "colorbar": {
             "outlinewidth": 0,
             "ticks": ""
            },
            "colorscale": [
             [
              0,
              "#0d0887"
             ],
             [
              0.1111111111111111,
              "#46039f"
             ],
             [
              0.2222222222222222,
              "#7201a8"
             ],
             [
              0.3333333333333333,
              "#9c179e"
             ],
             [
              0.4444444444444444,
              "#bd3786"
             ],
             [
              0.5555555555555556,
              "#d8576b"
             ],
             [
              0.6666666666666666,
              "#ed7953"
             ],
             [
              0.7777777777777778,
              "#fb9f3a"
             ],
             [
              0.8888888888888888,
              "#fdca26"
             ],
             [
              1,
              "#f0f921"
             ]
            ],
            "type": "contour"
           }
          ],
          "contourcarpet": [
           {
            "colorbar": {
             "outlinewidth": 0,
             "ticks": ""
            },
            "type": "contourcarpet"
           }
          ],
          "heatmap": [
           {
            "colorbar": {
             "outlinewidth": 0,
             "ticks": ""
            },
            "colorscale": [
             [
              0,
              "#0d0887"
             ],
             [
              0.1111111111111111,
              "#46039f"
             ],
             [
              0.2222222222222222,
              "#7201a8"
             ],
             [
              0.3333333333333333,
              "#9c179e"
             ],
             [
              0.4444444444444444,
              "#bd3786"
             ],
             [
              0.5555555555555556,
              "#d8576b"
             ],
             [
              0.6666666666666666,
              "#ed7953"
             ],
             [
              0.7777777777777778,
              "#fb9f3a"
             ],
             [
              0.8888888888888888,
              "#fdca26"
             ],
             [
              1,
              "#f0f921"
             ]
            ],
            "type": "heatmap"
           }
          ],
          "histogram": [
           {
            "marker": {
             "pattern": {
              "fillmode": "overlay",
              "size": 10,
              "solidity": 0.2
             }
            },
            "type": "histogram"
           }
          ],
          "histogram2d": [
           {
            "colorbar": {
             "outlinewidth": 0,
             "ticks": ""
            },
            "colorscale": [
             [
              0,
              "#0d0887"
             ],
             [
              0.1111111111111111,
              "#46039f"
             ],
             [
              0.2222222222222222,
              "#7201a8"
             ],
             [
              0.3333333333333333,
              "#9c179e"
             ],
             [
              0.4444444444444444,
              "#bd3786"
             ],
             [
              0.5555555555555556,
              "#d8576b"
             ],
             [
              0.6666666666666666,
              "#ed7953"
             ],
             [
              0.7777777777777778,
              "#fb9f3a"
             ],
             [
              0.8888888888888888,
              "#fdca26"
             ],
             [
              1,
              "#f0f921"
             ]
            ],
            "type": "histogram2d"
           }
          ],
          "histogram2dcontour": [
           {
            "colorbar": {
             "outlinewidth": 0,
             "ticks": ""
            },
            "colorscale": [
             [
              0,
              "#0d0887"
             ],
             [
              0.1111111111111111,
              "#46039f"
             ],
             [
              0.2222222222222222,
              "#7201a8"
             ],
             [
              0.3333333333333333,
              "#9c179e"
             ],
             [
              0.4444444444444444,
              "#bd3786"
             ],
             [
              0.5555555555555556,
              "#d8576b"
             ],
             [
              0.6666666666666666,
              "#ed7953"
             ],
             [
              0.7777777777777778,
              "#fb9f3a"
             ],
             [
              0.8888888888888888,
              "#fdca26"
             ],
             [
              1,
              "#f0f921"
             ]
            ],
            "type": "histogram2dcontour"
           }
          ],
          "mesh3d": [
           {
            "colorbar": {
             "outlinewidth": 0,
             "ticks": ""
            },
            "type": "mesh3d"
           }
          ],
          "parcoords": [
           {
            "line": {
             "colorbar": {
              "outlinewidth": 0,
              "ticks": ""
             }
            },
            "type": "parcoords"
           }
          ],
          "pie": [
           {
            "automargin": true,
            "type": "pie"
           }
          ],
          "scatter": [
           {
            "fillpattern": {
             "fillmode": "overlay",
             "size": 10,
             "solidity": 0.2
            },
            "type": "scatter"
           }
          ],
          "scatter3d": [
           {
            "line": {
             "colorbar": {
              "outlinewidth": 0,
              "ticks": ""
             }
            },
            "marker": {
             "colorbar": {
              "outlinewidth": 0,
              "ticks": ""
             }
            },
            "type": "scatter3d"
           }
          ],
          "scattercarpet": [
           {
            "marker": {
             "colorbar": {
              "outlinewidth": 0,
              "ticks": ""
             }
            },
            "type": "scattercarpet"
           }
          ],
          "scattergeo": [
           {
            "marker": {
             "colorbar": {
              "outlinewidth": 0,
              "ticks": ""
             }
            },
            "type": "scattergeo"
           }
          ],
          "scattergl": [
           {
            "marker": {
             "colorbar": {
              "outlinewidth": 0,
              "ticks": ""
             }
            },
            "type": "scattergl"
           }
          ],
          "scattermap": [
           {
            "marker": {
             "colorbar": {
              "outlinewidth": 0,
              "ticks": ""
             }
            },
            "type": "scattermap"
           }
          ],
          "scattermapbox": [
           {
            "marker": {
             "colorbar": {
              "outlinewidth": 0,
              "ticks": ""
             }
            },
            "type": "scattermapbox"
           }
          ],
          "scatterpolar": [
           {
            "marker": {
             "colorbar": {
              "outlinewidth": 0,
              "ticks": ""
             }
            },
            "type": "scatterpolar"
           }
          ],
          "scatterpolargl": [
           {
            "marker": {
             "colorbar": {
              "outlinewidth": 0,
              "ticks": ""
             }
            },
            "type": "scatterpolargl"
           }
          ],
          "scatterternary": [
           {
            "marker": {
             "colorbar": {
              "outlinewidth": 0,
              "ticks": ""
             }
            },
            "type": "scatterternary"
           }
          ],
          "surface": [
           {
            "colorbar": {
             "outlinewidth": 0,
             "ticks": ""
            },
            "colorscale": [
             [
              0,
              "#0d0887"
             ],
             [
              0.1111111111111111,
              "#46039f"
             ],
             [
              0.2222222222222222,
              "#7201a8"
             ],
             [
              0.3333333333333333,
              "#9c179e"
             ],
             [
              0.4444444444444444,
              "#bd3786"
             ],
             [
              0.5555555555555556,
              "#d8576b"
             ],
             [
              0.6666666666666666,
              "#ed7953"
             ],
             [
              0.7777777777777778,
              "#fb9f3a"
             ],
             [
              0.8888888888888888,
              "#fdca26"
             ],
             [
              1,
              "#f0f921"
             ]
            ],
            "type": "surface"
           }
          ],
          "table": [
           {
            "cells": {
             "fill": {
              "color": "#EBF0F8"
             },
             "line": {
              "color": "white"
             }
            },
            "header": {
             "fill": {
              "color": "#C8D4E3"
             },
             "line": {
              "color": "white"
             }
            },
            "type": "table"
           }
          ]
         },
         "layout": {
          "annotationdefaults": {
           "arrowcolor": "#2a3f5f",
           "arrowhead": 0,
           "arrowwidth": 1
          },
          "autotypenumbers": "strict",
          "coloraxis": {
           "colorbar": {
            "outlinewidth": 0,
            "ticks": ""
           }
          },
          "colorscale": {
           "diverging": [
            [
             0,
             "#8e0152"
            ],
            [
             0.1,
             "#c51b7d"
            ],
            [
             0.2,
             "#de77ae"
            ],
            [
             0.3,
             "#f1b6da"
            ],
            [
             0.4,
             "#fde0ef"
            ],
            [
             0.5,
             "#f7f7f7"
            ],
            [
             0.6,
             "#e6f5d0"
            ],
            [
             0.7,
             "#b8e186"
            ],
            [
             0.8,
             "#7fbc41"
            ],
            [
             0.9,
             "#4d9221"
            ],
            [
             1,
             "#276419"
            ]
           ],
           "sequential": [
            [
             0,
             "#0d0887"
            ],
            [
             0.1111111111111111,
             "#46039f"
            ],
            [
             0.2222222222222222,
             "#7201a8"
            ],
            [
             0.3333333333333333,
             "#9c179e"
            ],
            [
             0.4444444444444444,
             "#bd3786"
            ],
            [
             0.5555555555555556,
             "#d8576b"
            ],
            [
             0.6666666666666666,
             "#ed7953"
            ],
            [
             0.7777777777777778,
             "#fb9f3a"
            ],
            [
             0.8888888888888888,
             "#fdca26"
            ],
            [
             1,
             "#f0f921"
            ]
           ],
           "sequentialminus": [
            [
             0,
             "#0d0887"
            ],
            [
             0.1111111111111111,
             "#46039f"
            ],
            [
             0.2222222222222222,
             "#7201a8"
            ],
            [
             0.3333333333333333,
             "#9c179e"
            ],
            [
             0.4444444444444444,
             "#bd3786"
            ],
            [
             0.5555555555555556,
             "#d8576b"
            ],
            [
             0.6666666666666666,
             "#ed7953"
            ],
            [
             0.7777777777777778,
             "#fb9f3a"
            ],
            [
             0.8888888888888888,
             "#fdca26"
            ],
            [
             1,
             "#f0f921"
            ]
           ]
          },
          "colorway": [
           "#636efa",
           "#EF553B",
           "#00cc96",
           "#ab63fa",
           "#FFA15A",
           "#19d3f3",
           "#FF6692",
           "#B6E880",
           "#FF97FF",
           "#FECB52"
          ],
          "font": {
           "color": "#2a3f5f"
          },
          "geo": {
           "bgcolor": "white",
           "lakecolor": "white",
           "landcolor": "#E5ECF6",
           "showlakes": true,
           "showland": true,
           "subunitcolor": "white"
          },
          "hoverlabel": {
           "align": "left"
          },
          "hovermode": "closest",
          "mapbox": {
           "style": "light"
          },
          "paper_bgcolor": "white",
          "plot_bgcolor": "#E5ECF6",
          "polar": {
           "angularaxis": {
            "gridcolor": "white",
            "linecolor": "white",
            "ticks": ""
           },
           "bgcolor": "#E5ECF6",
           "radialaxis": {
            "gridcolor": "white",
            "linecolor": "white",
            "ticks": ""
           }
          },
          "scene": {
           "xaxis": {
            "backgroundcolor": "#E5ECF6",
            "gridcolor": "white",
            "gridwidth": 2,
            "linecolor": "white",
            "showbackground": true,
            "ticks": "",
            "zerolinecolor": "white"
           },
           "yaxis": {
            "backgroundcolor": "#E5ECF6",
            "gridcolor": "white",
            "gridwidth": 2,
            "linecolor": "white",
            "showbackground": true,
            "ticks": "",
            "zerolinecolor": "white"
           },
           "zaxis": {
            "backgroundcolor": "#E5ECF6",
            "gridcolor": "white",
            "gridwidth": 2,
            "linecolor": "white",
            "showbackground": true,
            "ticks": "",
            "zerolinecolor": "white"
           }
          },
          "shapedefaults": {
           "line": {
            "color": "#2a3f5f"
           }
          },
          "ternary": {
           "aaxis": {
            "gridcolor": "white",
            "linecolor": "white",
            "ticks": ""
           },
           "baxis": {
            "gridcolor": "white",
            "linecolor": "white",
            "ticks": ""
           },
           "bgcolor": "#E5ECF6",
           "caxis": {
            "gridcolor": "white",
            "linecolor": "white",
            "ticks": ""
           }
          },
          "title": {
           "x": 0.05
          },
          "xaxis": {
           "automargin": true,
           "gridcolor": "white",
           "linecolor": "white",
           "ticks": "",
           "title": {
            "standoff": 15
           },
           "zerolinecolor": "white",
           "zerolinewidth": 2
          },
          "yaxis": {
           "automargin": true,
           "gridcolor": "white",
           "linecolor": "white",
           "ticks": "",
           "title": {
            "standoff": 15
           },
           "zerolinecolor": "white",
           "zerolinewidth": 2
          }
         }
        },
        "title": {
         "text": "Position Encoding"
        },
        "width": 800
       }
      }
     },
     "metadata": {},
     "output_type": "display_data"
    }
   ],
   "source": [
    "dots_data = [\n",
    "  {\n",
    "    \"dots\": positioned_cumle[0].detach().cpu().numpy(),\n",
    "    \"color\": \"red\",\n",
    "    \"labels\": [reverse_vocab_list[i] for i in tokens_padded]\n",
    "  },\n",
    "  {\n",
    "    \"dots\": cumle[0].detach().cpu().numpy(),\n",
    "    \"color\": \"blue\",\n",
    "    \"labels\": [reverse_vocab_list[i] for i in tokens_padded]\n",
    "  }\n",
    "]\n",
    "\n",
    "plot_dots(dots_data, \"Position Encoding\")"
   ]
  },
  {
   "cell_type": "code",
   "execution_count": 16,
   "metadata": {},
   "outputs": [
    {
     "data": {
      "text/plain": [
       "tensor([[ 0.3444, -3.1016, -1.4587, -1.4318, -0.6071, -0.2597, -0.7190, -0.3858,\n",
       "          0.5234, -0.8212, -0.4709,  0.6016],\n",
       "        [-0.2825,  0.7693, -0.7669, -0.9495,  0.0169,  0.0803,  0.7448,  1.3455,\n",
       "          0.1268, -2.4521,  0.4160,  1.9025],\n",
       "        [-0.7347,  0.0447, -1.5211,  0.3478,  0.7402,  1.4162,  0.6834, -0.1383,\n",
       "          0.9213,  0.5282, -0.0082, -1.4493],\n",
       "        [-0.6052, -0.1792,  0.1996, -1.2462, -0.4146,  1.4559,  0.3317, -1.0001,\n",
       "         -0.6920, -0.4720, -1.2894,  1.0763],\n",
       "        [-1.0667, -1.9893,  0.2973,  0.4345,  0.0034, -1.0240,  0.2240, -0.7555,\n",
       "          1.3676, -0.3197, -0.9131,  1.9192],\n",
       "        [-1.6515,  2.1477, -0.6604,  0.1135, -0.2206,  0.7118,  0.3416,  1.5886,\n",
       "         -0.3489, -0.4579, -1.2322, -0.5981],\n",
       "        [-0.2815,  0.0528,  0.4250,  0.4826,  0.4881,  1.0082, -0.5950,  0.3926,\n",
       "          0.8230, -0.8860,  1.4801,  0.8392],\n",
       "        [-0.2000,  0.9950,  0.7202, -0.1341, -1.4068, -2.3610, -0.2905, -0.1335,\n",
       "         -0.1569,  1.1383, -0.2505,  1.6705],\n",
       "        [-0.5453, -2.1582, -1.6608, -0.6637,  0.3658, -0.3992,  0.4967, -2.3692,\n",
       "         -0.5615, -0.5949,  1.2687,  1.2904],\n",
       "        [-1.1756, -0.0783, -0.9706,  1.4724,  1.4109, -1.3144, -1.3162, -1.2524,\n",
       "         -1.5844, -2.5447,  1.3719, -0.5379],\n",
       "        [ 0.7378, -0.8505,  0.0361,  1.3407,  0.9200, -0.3788, -1.5598, -0.8010,\n",
       "         -0.7111, -0.3867,  0.9578, -0.8225],\n",
       "        [-2.3908,  0.3222,  1.8754,  1.1043, -0.5224, -0.7402,  0.1624, -0.2370,\n",
       "          0.5099,  1.6706,  1.5921, -0.4162]], device='mps:0',\n",
       "       grad_fn=<ToCopyBackward0>)"
      ]
     },
     "execution_count": 16,
     "metadata": {},
     "output_type": "execute_result"
    }
   ],
   "source": [
    "model.blocks[0].mha.attn_heads[0].Wq"
   ]
  },
  {
   "cell_type": "code",
   "execution_count": 17,
   "metadata": {},
   "outputs": [
    {
     "data": {
      "text/plain": [
       "tensor([[[ 6.7951, -1.3240, -4.2024, -9.5275, -1.3352, -3.0350,  6.1411,\n",
       "           4.5569, -2.3280, -1.6019,  7.6986,  3.6092],\n",
       "         [ 6.7809, -1.3340, -4.1601, -9.4753, -1.3161, -2.9810,  6.1285,\n",
       "           4.5397, -2.3490, -1.6296,  7.7097,  3.5860],\n",
       "         [ 3.4518, -3.6974,  5.7888,  2.8127,  3.1824,  9.7019,  3.1825,\n",
       "           0.5022, -7.2760, -8.1291, 10.3237, -1.8657],\n",
       "         [ 4.3968, -3.0169,  2.9829, -0.6498,  1.9056,  6.1096,  4.0104,\n",
       "           1.6308, -5.8762, -6.2884,  9.5758, -0.3209],\n",
       "         [ 6.1177, -2.2096,  0.5250, -2.7651, -3.9434,  5.5242,  4.3857,\n",
       "          -2.6253,  2.3173, -1.4423, 14.7557,  3.8697],\n",
       "         [ 5.0727, -2.0716,  0.2987, -3.8080,  0.4281,  2.0342,  4.1419,\n",
       "           2.0372, -4.9573, -4.0329,  8.0598,  1.4006],\n",
       "         [ 3.8244, -2.9540, -3.3364, -6.5394, -1.0544, -4.3810,  1.4876,\n",
       "           1.7957, -6.6680,  1.3385,  7.5117,  4.9827],\n",
       "         [ 6.7779, -1.3355, -4.1514, -9.4644, -1.3125, -2.9704,  6.1257,\n",
       "           4.5357, -2.3537, -1.6346,  7.7108,  3.5815],\n",
       "         [ 2.9292, -2.5523,  5.4732,  2.9313,  2.1579,  7.1680,  1.2230,\n",
       "          -1.5473, -8.2946, -6.3138,  7.6498, -0.8620],\n",
       "         [ 3.2207, -3.3713, -3.5482, -6.9512, -0.5355, -2.7004,  1.7038,\n",
       "           3.1097, -6.8357,  1.0565,  8.1606,  4.4620],\n",
       "         [ 3.5531, -3.1515, -3.6919, -6.7360, -1.1533, -4.9700,  1.0736,\n",
       "           1.7723, -7.0071,  1.9713,  7.5280,  5.3666],\n",
       "         [ 3.5605, -3.1416, -3.6537, -6.6838, -1.1578, -4.9869,  1.0534,\n",
       "           1.7135, -7.0188,  1.9623,  7.5077,  5.3666],\n",
       "         [ 3.1353, -3.0528, -0.6207, -3.6702,  0.2512,  0.1721,  1.4034,\n",
       "           1.3939, -7.3272, -1.1973,  7.8528,  2.8385],\n",
       "         [ 1.2115, -2.5964,  0.2495, -2.8951,  1.9893,  6.7824,  2.0408,\n",
       "           6.0155, -4.9355, -3.4118,  8.6887, -0.5766],\n",
       "         [ 0.5661, -2.1877, -0.0868, -2.8382,  2.1419,  6.7616,  1.6692,\n",
       "           7.0052, -4.1457, -3.1687,  8.4160, -0.9447],\n",
       "         [ 1.1968, -3.5720, -1.8625, -6.0530,  2.2907,  7.4799,  3.5070,\n",
       "           8.5383, -5.3215, -3.1937, 10.0765, -0.2420],\n",
       "         [ 1.6105, -4.3278, -2.8091, -7.8124,  2.3512,  7.8941,  4.5593,\n",
       "           9.3364, -5.9508, -3.2138, 11.0337,  0.1806],\n",
       "         [ 0.7156, -3.7859, -1.9989, -5.9706,  2.2821,  7.8665,  3.4294,\n",
       "           8.6611, -5.2045, -3.2589,  9.9822, -0.5478],\n",
       "         [-0.7205, -3.5007, -1.4773, -4.3359,  2.3540,  7.8847,  2.0737,\n",
       "           8.4899, -4.3701, -3.3641,  8.8796, -1.6361],\n",
       "         [-1.4378, -3.1529, -0.9542, -3.0826,  2.3573,  7.9112,  1.2733,\n",
       "           8.1892, -3.7749, -3.4405,  8.1692, -2.2428],\n",
       "         [-1.6212, -3.1222, -0.8835, -2.8714,  2.3854,  7.9530,  1.1311,\n",
       "           8.2153, -3.6290, -3.4928,  8.0694, -2.4089],\n",
       "         [-1.6365, -3.2632, -1.0711, -3.1660,  2.4036,  7.9342,  1.2046,\n",
       "           8.3629, -3.7356, -3.4714,  8.1767, -2.3687],\n",
       "         [-1.1239, -3.4127, -1.2783, -3.8294,  2.4306,  8.0194,  1.7079,\n",
       "           8.4661, -4.0370, -3.5294,  8.7296, -1.9882],\n",
       "         [-1.4966, -2.4025,  0.6066, -1.2392,  2.8916,  8.7333, -0.0195,\n",
       "           6.5145, -2.9311, -4.9909,  9.5114, -2.4551],\n",
       "         [-1.5781, -2.9080, -0.2306, -2.5599,  2.9756,  8.2242,  0.0699,\n",
       "           7.1332, -3.4064, -4.7962,  9.8290, -2.2049],\n",
       "         [-1.8034, -2.7005,  0.0704, -1.9008,  2.9188,  8.2887, -0.1726,\n",
       "           6.9479, -3.1444, -4.7701,  9.4100, -2.4541],\n",
       "         [-2.1426, -2.4373,  0.5950, -1.0923,  3.1131,  8.4502, -0.8945,\n",
       "           6.4353, -2.7347, -5.2593,  9.6190, -2.7238],\n",
       "         [-2.2480, -2.4509,  0.6216, -1.0945,  3.2146,  8.4318, -1.1255,\n",
       "           6.3514, -2.6964, -5.4336,  9.8374, -2.7445],\n",
       "         [-2.2760, -2.5121,  0.5262, -1.2457,  3.2337,  8.3633, -1.1526,\n",
       "           6.4054, -2.7520, -5.4254,  9.8919, -2.7170],\n",
       "         [-2.1013, -2.5674,  0.4015, -1.4811,  3.1716,  8.3471, -0.8838,\n",
       "           6.5269, -2.8793, -5.2950,  9.8690, -2.6000],\n",
       "         [-1.1216, -2.9384, -0.3922, -2.9168,  2.8005,  8.2193,  0.6946,\n",
       "           7.3008, -3.6474, -4.4898,  9.6983, -1.9342],\n",
       "         [-1.3655, -2.6284, -0.0418, -2.0475,  2.6111,  8.1867,  0.4949,\n",
       "           7.1098, -3.3623, -4.2211,  8.8307, -2.2278]]], device='mps:0',\n",
       "       grad_fn=<UnsafeViewBackward0>)"
      ]
     },
     "execution_count": 17,
     "metadata": {},
     "output_type": "execute_result"
    }
   ],
   "source": [
    "attention_output = model.blocks[0].mha.attn_heads[0](positioned_cumle)\n",
    "attention_output\n"
   ]
  },
  {
   "cell_type": "code",
   "execution_count": 18,
   "metadata": {},
   "outputs": [
    {
     "data": {
      "application/vnd.plotly.v1+json": {
       "config": {
        "linkText": "Export to plot.ly",
        "plotlyServerURL": "https://plot.ly",
        "showLink": false
       },
       "data": [
        {
         "hoverinfo": "text",
         "marker": {
          "color": "red",
          "size": 8
         },
         "mode": "markers+text",
         "text": [
          "the",
          " ",
          "capital",
          " ",
          "of",
          " ",
          "france",
          " ",
          "is",
          "<pad>",
          "<pad>",
          "<pad>",
          "<pad>",
          "<pad>",
          "<pad>",
          "<pad>",
          "<pad>",
          "<pad>",
          "<pad>",
          "<pad>",
          "<pad>",
          "<pad>",
          "<pad>",
          "<pad>",
          "<pad>",
          "<pad>",
          "<pad>",
          "<pad>",
          "<pad>",
          "<pad>",
          "<pad>",
          "<pad>"
         ],
         "type": "scatter3d",
         "x": {
          "bdata": "DXHZQBf92EBY6lxA6LKMQFXEw0CoU6JAksN0QJHk2EBYdztAYyBOQEllY0Bf32NAQqlIQCoRmz//6xA/kC+ZP8klzj/mMTc//HI4v1cKuL9lgs+/sHnRv5rcj7+tkb+/RP/Jv5vW5r+0HwnA+t4PwCmqEcAffAbArZGPvwLKrr8=",
          "dtype": "f4"
         },
         "y": {
          "bdata": "xHipvw7Cqr/IomzABBVBwPVpDcBOlATAGQ89wJnyqr9MWCPAZMNXwMSyScCAD0nAs2BDwO8qJsBTAwzA2ppkwGR9isDUS3LA4gpgwM3IScBP0UfAFNhQwC9pWsAuwxnAeR06wDnULMB+/BvALdwcwM7FIMAJUCTA3g48wBo4KMA=",
          "dtype": "f4"
         },
         "z": {
          "bdata": "wHmGwDUfhcA5PrlAgOc+QN5oBj9A7pg+DIhVwP/XhMCWJK9A7BRjwOtHbMDH1mnACugev2xxfz66z7G9eGXuv7PHM8Bp2v+/cBi9vwJHdL8ZLGK/JxuJv7+fo7/aSRs/3S1sviAzkD06Uxg/ox4fPw6zBj8lls0+js3IviBKK70=",
          "dtype": "f4"
         }
        }
       ],
       "layout": {
        "height": 800,
        "scene": {
         "xaxis": {
          "title": {
           "text": "Meyve"
          }
         },
         "yaxis": {
          "title": {
           "text": "Teknoloji"
          }
         },
         "zaxis": {
          "title": {
           "text": "Diğer"
          }
         }
        },
        "showlegend": false,
        "template": {
         "data": {
          "bar": [
           {
            "error_x": {
             "color": "#2a3f5f"
            },
            "error_y": {
             "color": "#2a3f5f"
            },
            "marker": {
             "line": {
              "color": "#E5ECF6",
              "width": 0.5
             },
             "pattern": {
              "fillmode": "overlay",
              "size": 10,
              "solidity": 0.2
             }
            },
            "type": "bar"
           }
          ],
          "barpolar": [
           {
            "marker": {
             "line": {
              "color": "#E5ECF6",
              "width": 0.5
             },
             "pattern": {
              "fillmode": "overlay",
              "size": 10,
              "solidity": 0.2
             }
            },
            "type": "barpolar"
           }
          ],
          "carpet": [
           {
            "aaxis": {
             "endlinecolor": "#2a3f5f",
             "gridcolor": "white",
             "linecolor": "white",
             "minorgridcolor": "white",
             "startlinecolor": "#2a3f5f"
            },
            "baxis": {
             "endlinecolor": "#2a3f5f",
             "gridcolor": "white",
             "linecolor": "white",
             "minorgridcolor": "white",
             "startlinecolor": "#2a3f5f"
            },
            "type": "carpet"
           }
          ],
          "choropleth": [
           {
            "colorbar": {
             "outlinewidth": 0,
             "ticks": ""
            },
            "type": "choropleth"
           }
          ],
          "contour": [
           {
            "colorbar": {
             "outlinewidth": 0,
             "ticks": ""
            },
            "colorscale": [
             [
              0,
              "#0d0887"
             ],
             [
              0.1111111111111111,
              "#46039f"
             ],
             [
              0.2222222222222222,
              "#7201a8"
             ],
             [
              0.3333333333333333,
              "#9c179e"
             ],
             [
              0.4444444444444444,
              "#bd3786"
             ],
             [
              0.5555555555555556,
              "#d8576b"
             ],
             [
              0.6666666666666666,
              "#ed7953"
             ],
             [
              0.7777777777777778,
              "#fb9f3a"
             ],
             [
              0.8888888888888888,
              "#fdca26"
             ],
             [
              1,
              "#f0f921"
             ]
            ],
            "type": "contour"
           }
          ],
          "contourcarpet": [
           {
            "colorbar": {
             "outlinewidth": 0,
             "ticks": ""
            },
            "type": "contourcarpet"
           }
          ],
          "heatmap": [
           {
            "colorbar": {
             "outlinewidth": 0,
             "ticks": ""
            },
            "colorscale": [
             [
              0,
              "#0d0887"
             ],
             [
              0.1111111111111111,
              "#46039f"
             ],
             [
              0.2222222222222222,
              "#7201a8"
             ],
             [
              0.3333333333333333,
              "#9c179e"
             ],
             [
              0.4444444444444444,
              "#bd3786"
             ],
             [
              0.5555555555555556,
              "#d8576b"
             ],
             [
              0.6666666666666666,
              "#ed7953"
             ],
             [
              0.7777777777777778,
              "#fb9f3a"
             ],
             [
              0.8888888888888888,
              "#fdca26"
             ],
             [
              1,
              "#f0f921"
             ]
            ],
            "type": "heatmap"
           }
          ],
          "histogram": [
           {
            "marker": {
             "pattern": {
              "fillmode": "overlay",
              "size": 10,
              "solidity": 0.2
             }
            },
            "type": "histogram"
           }
          ],
          "histogram2d": [
           {
            "colorbar": {
             "outlinewidth": 0,
             "ticks": ""
            },
            "colorscale": [
             [
              0,
              "#0d0887"
             ],
             [
              0.1111111111111111,
              "#46039f"
             ],
             [
              0.2222222222222222,
              "#7201a8"
             ],
             [
              0.3333333333333333,
              "#9c179e"
             ],
             [
              0.4444444444444444,
              "#bd3786"
             ],
             [
              0.5555555555555556,
              "#d8576b"
             ],
             [
              0.6666666666666666,
              "#ed7953"
             ],
             [
              0.7777777777777778,
              "#fb9f3a"
             ],
             [
              0.8888888888888888,
              "#fdca26"
             ],
             [
              1,
              "#f0f921"
             ]
            ],
            "type": "histogram2d"
           }
          ],
          "histogram2dcontour": [
           {
            "colorbar": {
             "outlinewidth": 0,
             "ticks": ""
            },
            "colorscale": [
             [
              0,
              "#0d0887"
             ],
             [
              0.1111111111111111,
              "#46039f"
             ],
             [
              0.2222222222222222,
              "#7201a8"
             ],
             [
              0.3333333333333333,
              "#9c179e"
             ],
             [
              0.4444444444444444,
              "#bd3786"
             ],
             [
              0.5555555555555556,
              "#d8576b"
             ],
             [
              0.6666666666666666,
              "#ed7953"
             ],
             [
              0.7777777777777778,
              "#fb9f3a"
             ],
             [
              0.8888888888888888,
              "#fdca26"
             ],
             [
              1,
              "#f0f921"
             ]
            ],
            "type": "histogram2dcontour"
           }
          ],
          "mesh3d": [
           {
            "colorbar": {
             "outlinewidth": 0,
             "ticks": ""
            },
            "type": "mesh3d"
           }
          ],
          "parcoords": [
           {
            "line": {
             "colorbar": {
              "outlinewidth": 0,
              "ticks": ""
             }
            },
            "type": "parcoords"
           }
          ],
          "pie": [
           {
            "automargin": true,
            "type": "pie"
           }
          ],
          "scatter": [
           {
            "fillpattern": {
             "fillmode": "overlay",
             "size": 10,
             "solidity": 0.2
            },
            "type": "scatter"
           }
          ],
          "scatter3d": [
           {
            "line": {
             "colorbar": {
              "outlinewidth": 0,
              "ticks": ""
             }
            },
            "marker": {
             "colorbar": {
              "outlinewidth": 0,
              "ticks": ""
             }
            },
            "type": "scatter3d"
           }
          ],
          "scattercarpet": [
           {
            "marker": {
             "colorbar": {
              "outlinewidth": 0,
              "ticks": ""
             }
            },
            "type": "scattercarpet"
           }
          ],
          "scattergeo": [
           {
            "marker": {
             "colorbar": {
              "outlinewidth": 0,
              "ticks": ""
             }
            },
            "type": "scattergeo"
           }
          ],
          "scattergl": [
           {
            "marker": {
             "colorbar": {
              "outlinewidth": 0,
              "ticks": ""
             }
            },
            "type": "scattergl"
           }
          ],
          "scattermap": [
           {
            "marker": {
             "colorbar": {
              "outlinewidth": 0,
              "ticks": ""
             }
            },
            "type": "scattermap"
           }
          ],
          "scattermapbox": [
           {
            "marker": {
             "colorbar": {
              "outlinewidth": 0,
              "ticks": ""
             }
            },
            "type": "scattermapbox"
           }
          ],
          "scatterpolar": [
           {
            "marker": {
             "colorbar": {
              "outlinewidth": 0,
              "ticks": ""
             }
            },
            "type": "scatterpolar"
           }
          ],
          "scatterpolargl": [
           {
            "marker": {
             "colorbar": {
              "outlinewidth": 0,
              "ticks": ""
             }
            },
            "type": "scatterpolargl"
           }
          ],
          "scatterternary": [
           {
            "marker": {
             "colorbar": {
              "outlinewidth": 0,
              "ticks": ""
             }
            },
            "type": "scatterternary"
           }
          ],
          "surface": [
           {
            "colorbar": {
             "outlinewidth": 0,
             "ticks": ""
            },
            "colorscale": [
             [
              0,
              "#0d0887"
             ],
             [
              0.1111111111111111,
              "#46039f"
             ],
             [
              0.2222222222222222,
              "#7201a8"
             ],
             [
              0.3333333333333333,
              "#9c179e"
             ],
             [
              0.4444444444444444,
              "#bd3786"
             ],
             [
              0.5555555555555556,
              "#d8576b"
             ],
             [
              0.6666666666666666,
              "#ed7953"
             ],
             [
              0.7777777777777778,
              "#fb9f3a"
             ],
             [
              0.8888888888888888,
              "#fdca26"
             ],
             [
              1,
              "#f0f921"
             ]
            ],
            "type": "surface"
           }
          ],
          "table": [
           {
            "cells": {
             "fill": {
              "color": "#EBF0F8"
             },
             "line": {
              "color": "white"
             }
            },
            "header": {
             "fill": {
              "color": "#C8D4E3"
             },
             "line": {
              "color": "white"
             }
            },
            "type": "table"
           }
          ]
         },
         "layout": {
          "annotationdefaults": {
           "arrowcolor": "#2a3f5f",
           "arrowhead": 0,
           "arrowwidth": 1
          },
          "autotypenumbers": "strict",
          "coloraxis": {
           "colorbar": {
            "outlinewidth": 0,
            "ticks": ""
           }
          },
          "colorscale": {
           "diverging": [
            [
             0,
             "#8e0152"
            ],
            [
             0.1,
             "#c51b7d"
            ],
            [
             0.2,
             "#de77ae"
            ],
            [
             0.3,
             "#f1b6da"
            ],
            [
             0.4,
             "#fde0ef"
            ],
            [
             0.5,
             "#f7f7f7"
            ],
            [
             0.6,
             "#e6f5d0"
            ],
            [
             0.7,
             "#b8e186"
            ],
            [
             0.8,
             "#7fbc41"
            ],
            [
             0.9,
             "#4d9221"
            ],
            [
             1,
             "#276419"
            ]
           ],
           "sequential": [
            [
             0,
             "#0d0887"
            ],
            [
             0.1111111111111111,
             "#46039f"
            ],
            [
             0.2222222222222222,
             "#7201a8"
            ],
            [
             0.3333333333333333,
             "#9c179e"
            ],
            [
             0.4444444444444444,
             "#bd3786"
            ],
            [
             0.5555555555555556,
             "#d8576b"
            ],
            [
             0.6666666666666666,
             "#ed7953"
            ],
            [
             0.7777777777777778,
             "#fb9f3a"
            ],
            [
             0.8888888888888888,
             "#fdca26"
            ],
            [
             1,
             "#f0f921"
            ]
           ],
           "sequentialminus": [
            [
             0,
             "#0d0887"
            ],
            [
             0.1111111111111111,
             "#46039f"
            ],
            [
             0.2222222222222222,
             "#7201a8"
            ],
            [
             0.3333333333333333,
             "#9c179e"
            ],
            [
             0.4444444444444444,
             "#bd3786"
            ],
            [
             0.5555555555555556,
             "#d8576b"
            ],
            [
             0.6666666666666666,
             "#ed7953"
            ],
            [
             0.7777777777777778,
             "#fb9f3a"
            ],
            [
             0.8888888888888888,
             "#fdca26"
            ],
            [
             1,
             "#f0f921"
            ]
           ]
          },
          "colorway": [
           "#636efa",
           "#EF553B",
           "#00cc96",
           "#ab63fa",
           "#FFA15A",
           "#19d3f3",
           "#FF6692",
           "#B6E880",
           "#FF97FF",
           "#FECB52"
          ],
          "font": {
           "color": "#2a3f5f"
          },
          "geo": {
           "bgcolor": "white",
           "lakecolor": "white",
           "landcolor": "#E5ECF6",
           "showlakes": true,
           "showland": true,
           "subunitcolor": "white"
          },
          "hoverlabel": {
           "align": "left"
          },
          "hovermode": "closest",
          "mapbox": {
           "style": "light"
          },
          "paper_bgcolor": "white",
          "plot_bgcolor": "#E5ECF6",
          "polar": {
           "angularaxis": {
            "gridcolor": "white",
            "linecolor": "white",
            "ticks": ""
           },
           "bgcolor": "#E5ECF6",
           "radialaxis": {
            "gridcolor": "white",
            "linecolor": "white",
            "ticks": ""
           }
          },
          "scene": {
           "xaxis": {
            "backgroundcolor": "#E5ECF6",
            "gridcolor": "white",
            "gridwidth": 2,
            "linecolor": "white",
            "showbackground": true,
            "ticks": "",
            "zerolinecolor": "white"
           },
           "yaxis": {
            "backgroundcolor": "#E5ECF6",
            "gridcolor": "white",
            "gridwidth": 2,
            "linecolor": "white",
            "showbackground": true,
            "ticks": "",
            "zerolinecolor": "white"
           },
           "zaxis": {
            "backgroundcolor": "#E5ECF6",
            "gridcolor": "white",
            "gridwidth": 2,
            "linecolor": "white",
            "showbackground": true,
            "ticks": "",
            "zerolinecolor": "white"
           }
          },
          "shapedefaults": {
           "line": {
            "color": "#2a3f5f"
           }
          },
          "ternary": {
           "aaxis": {
            "gridcolor": "white",
            "linecolor": "white",
            "ticks": ""
           },
           "baxis": {
            "gridcolor": "white",
            "linecolor": "white",
            "ticks": ""
           },
           "bgcolor": "#E5ECF6",
           "caxis": {
            "gridcolor": "white",
            "linecolor": "white",
            "ticks": ""
           }
          },
          "title": {
           "x": 0.05
          },
          "xaxis": {
           "automargin": true,
           "gridcolor": "white",
           "linecolor": "white",
           "ticks": "",
           "title": {
            "standoff": 15
           },
           "zerolinecolor": "white",
           "zerolinewidth": 2
          },
          "yaxis": {
           "automargin": true,
           "gridcolor": "white",
           "linecolor": "white",
           "ticks": "",
           "title": {
            "standoff": 15
           },
           "zerolinecolor": "white",
           "zerolinewidth": 2
          }
         }
        },
        "title": {
         "text": "Attention"
        },
        "width": 800
       }
      }
     },
     "metadata": {},
     "output_type": "display_data"
    }
   ],
   "source": [
    "dots_data = [\n",
    "  {\n",
    "    \"dots\": attention_output[0].detach().cpu().numpy(),\n",
    "    \"color\": \"red\",\n",
    "    \"labels\": [reverse_vocab_list[i] for i in tokens_padded]\n",
    "  }\n",
    "]\n",
    "\n",
    "plot_dots(dots_data, \"Attention\")"
   ]
  },
  {
   "cell_type": "code",
   "execution_count": 19,
   "metadata": {},
   "outputs": [
    {
     "data": {
      "text/plain": [
       "tensor([[[ 1.2606, -0.3534, -0.9257, -1.9843, -0.3557, -0.6936,  1.1306,\n",
       "           0.8157, -0.5530, -0.4087,  1.4402,  0.6273],\n",
       "         [ 1.2612, -0.3575, -0.9212, -1.9815, -0.3539, -0.6861,  1.1311,\n",
       "           0.8141, -0.5600, -0.4165,  1.4465,  0.6239],\n",
       "         [ 0.3455, -0.9187,  0.7587,  0.2324,  0.2978,  1.4506,  0.2978,\n",
       "          -0.1761, -1.5515, -1.7023,  1.5606, -0.5948],\n",
       "         [ 0.7051, -0.9326,  0.3928, -0.4097,  0.1548,  1.0835,  0.6197,\n",
       "           0.0941, -1.5643, -1.6553,  1.8492, -0.3371],\n",
       "         [ 0.7986, -0.8332, -0.2973, -0.9421, -1.1730,  0.6822,  0.4592,\n",
       "          -0.9147,  0.0539, -0.6829,  2.4912,  0.3580],\n",
       "         [ 1.1511, -0.7369, -0.1105, -1.1958, -0.0763,  0.3481,  0.9051,\n",
       "           0.3489, -1.4995, -1.2552,  1.9404,  0.1807],\n",
       "         [ 0.9513, -0.5998, -0.6873, -1.4203, -0.1651, -0.9264,  0.4165,\n",
       "           0.4870, -1.4497,  0.3824,  1.7950,  1.2163],\n",
       "         [ 1.2614, -0.3582, -0.9203, -1.9809, -0.3537, -0.6846,  1.1312,\n",
       "           0.8138, -0.5615, -0.4179,  1.4476,  0.6233],\n",
       "         [ 0.4399, -0.7089,  0.9730,  0.4403,  0.2783,  1.3282,  0.0823,\n",
       "          -0.4983, -1.9123, -1.4972,  1.4292, -0.3546],\n",
       "         [ 0.7669, -0.7172, -0.7570, -1.5232, -0.0788, -0.5661,  0.4254,\n",
       "           0.7420, -1.4972,  0.2797,  1.8791,  1.0464],\n",
       "         [ 0.8816, -0.5936, -0.7125, -1.3823, -0.1539, -0.9937,  0.3361,\n",
       "           0.4898, -1.4419,  0.5336,  1.7562,  1.2806],\n",
       "         [ 0.8861, -0.5923, -0.7053, -1.3737, -0.1547, -0.9994,  0.3331,\n",
       "           0.4787, -1.4476,  0.5336,  1.7568,  1.2845],\n",
       "         [ 0.8273, -0.8583, -0.1958, -1.0265,  0.0417,  0.0201,  0.3555,\n",
       "           0.3529, -2.0226, -0.3529,  2.1122,  0.7464],\n",
       "         [ 0.0398, -0.8801, -0.1926, -0.9523,  0.2277,  1.3855,  0.2401,\n",
       "           1.2003, -1.4451, -1.0771,  1.8460, -0.3922],\n",
       "         [-0.1306, -0.8055, -0.2906, -0.9649,  0.2556,  1.3878,  0.1397,\n",
       "           1.4475, -1.2854, -1.0459,  1.7932, -0.5009],\n",
       "         [ 0.0242, -0.8892, -0.5618, -1.3645,  0.2338,  1.2277,  0.4667,\n",
       "           1.4305, -1.2244, -0.8168,  1.7251, -0.2514],\n",
       "         [ 0.0912, -0.9128, -0.6560, -1.5019,  0.2165,  1.1536,  0.5898,\n",
       "           1.3974, -1.1872, -0.7244,  1.6844, -0.1505],\n",
       "         [-0.0566, -0.9103, -0.5714, -1.3246,  0.2404,  1.2995,  0.4580,\n",
       "           1.4502, -1.1793, -0.8104,  1.7007, -0.2962],\n",
       "         [-0.3259, -0.9004, -0.4823, -1.0730,  0.3095,  1.4524,  0.2516,\n",
       "           1.5775, -1.0801, -0.8722,  1.6580, -0.5151],\n",
       "         [-0.4951, -0.8716, -0.3890, -0.8561,  0.3379,  1.5570,  0.1000,\n",
       "           1.6180, -1.0081, -0.9347,  1.6136, -0.6718],\n",
       "         [-0.5354, -0.8659, -0.3730, -0.8107,  0.3468,  1.5727,  0.0706,\n",
       "           1.6304, -0.9775, -0.9475,  1.5983, -0.7089],\n",
       "         [-0.5236, -0.8759, -0.4011, -0.8549,  0.3515,  1.5494,  0.0918,\n",
       "           1.6423, -0.9783, -0.9210,  1.6020, -0.6822],\n",
       "         [-0.4120, -0.8907, -0.4443, -0.9779,  0.3314,  1.5002,  0.1802,\n",
       "           1.5937, -1.0213, -0.9151,  1.6488, -0.5928],\n",
       "         [-0.5563, -0.7534, -0.0987, -0.5003,  0.3985,  1.6695, -0.2349,\n",
       "           1.1867, -0.8684, -1.3166,  1.8388, -0.7648],\n",
       "         [-0.5163, -0.7958, -0.2332, -0.7226,  0.4406,  1.5435, -0.1700,\n",
       "           1.3143, -0.9005, -1.1926,  1.8808, -0.6481],\n",
       "         [-0.5818, -0.7755, -0.1772, -0.6028,  0.4379,  1.5974, -0.2296,\n",
       "           1.3079, -0.8713, -1.2223,  1.8395, -0.7223],\n",
       "         [-0.6553, -0.7185, -0.0677, -0.4299,  0.4727,  1.6181, -0.3874,\n",
       "           1.1857, -0.7824, -1.3242,  1.8690, -0.7800],\n",
       "         [-0.6646, -0.7076, -0.0566, -0.4202,  0.4928,  1.5982, -0.4267,\n",
       "           1.1574, -0.7596, -1.3395,  1.8961, -0.7698],\n",
       "         [-0.6622, -0.7120, -0.0708, -0.4447,  0.5006,  1.5832, -0.4251,\n",
       "           1.1700, -0.7627, -1.3269,  1.9058, -0.7553],\n",
       "         [-0.6302, -0.7289, -0.1004, -0.4989,  0.4861,  1.5817, -0.3725,\n",
       "           1.1964, -0.7949, -1.3063,  1.9039, -0.7358],\n",
       "         [-0.4358, -0.8199, -0.2816, -0.8154,  0.3935,  1.5393, -0.0518,\n",
       "           1.3451, -0.9699, -1.1480,  1.8520, -0.6076],\n",
       "         [-0.5178, -0.8008, -0.2211, -0.6706,  0.3734,  1.6229, -0.1008,\n",
       "           1.3815, -0.9652, -1.1577,  1.7672, -0.7110]]], device='mps:0',\n",
       "       grad_fn=<NativeLayerNormBackward0>)"
      ]
     },
     "execution_count": 19,
     "metadata": {},
     "output_type": "execute_result"
    }
   ],
   "source": [
    "l_normalized = model.ln_f(attention_output)\n",
    "l_normalized"
   ]
  },
  {
   "cell_type": "code",
   "execution_count": 20,
   "metadata": {},
   "outputs": [
    {
     "data": {
      "application/vnd.plotly.v1+json": {
       "config": {
        "linkText": "Export to plot.ly",
        "plotlyServerURL": "https://plot.ly",
        "showLink": false
       },
       "data": [
        {
         "hoverinfo": "text",
         "marker": {
          "color": "red",
          "size": 8
         },
         "mode": "markers+text",
         "text": [
          "the",
          " ",
          "capital",
          " ",
          "of",
          " ",
          "france",
          " ",
          "is",
          "<pad>",
          "<pad>",
          "<pad>",
          "<pad>",
          "<pad>",
          "<pad>",
          "<pad>",
          "<pad>",
          "<pad>",
          "<pad>",
          "<pad>",
          "<pad>",
          "<pad>",
          "<pad>",
          "<pad>",
          "<pad>",
          "<pad>",
          "<pad>",
          "<pad>",
          "<pad>",
          "<pad>",
          "<pad>",
          "<pad>"
         ],
         "type": "scatter3d",
         "x": {
          "bdata": "nluhP5puoT8x37A+wYE0Py9uTD8lVpM/R4dzP1N0oT8POOE+sFZEP/awYT+i2WI/ycZTPwngIj39vAW+PFHGPJDRuj187me9rtqmvuJ//b4SEAm/TQoGv6z30r6haQ6/pC4Ev0/uFL/owCe/vCEqvw6GKb/FViG/SSDfvrmLBL8=",
          "dtype": "f4"
         },
         "y": {
          "bdata": "Mfa0vv8Nt76QMGu/bsFuv75MVb+tpTy/BY8Zv4Jrt74QeDW/4Jo3v3L1F7+UoBe/Hblbv39NYb8lNU6/i6Rjv/urab9qCWm/jIJmv+0eX79Uq12/KT1gv6YGZL/c3kC/j7pLvxuERr9V8je/4CM1vx1HNr/TmDq/WudRv9v+TL8=",
          "dtype": "f4"
         },
         "z": {
          "bdata": "n/dsv5zWa78mOkI/0hbJPoA9mL5eX+K9dfUvv2uba78kGXk/UsxBvzJlNr/KjDS/dIpIvr4/Rb4wzJS+8dAPv/LvJ79wRxK/Se72vqMmx76U9r6+C2HNvg2A476nHsq9IsZuvi1nNb7rvoq9wcVnvQoBkb2cks29dCiQvoRsYr4=",
          "dtype": "f4"
         }
        }
       ],
       "layout": {
        "height": 800,
        "scene": {
         "xaxis": {
          "title": {
           "text": "Meyve"
          }
         },
         "yaxis": {
          "title": {
           "text": "Teknoloji"
          }
         },
         "zaxis": {
          "title": {
           "text": "Diğer"
          }
         }
        },
        "showlegend": false,
        "template": {
         "data": {
          "bar": [
           {
            "error_x": {
             "color": "#2a3f5f"
            },
            "error_y": {
             "color": "#2a3f5f"
            },
            "marker": {
             "line": {
              "color": "#E5ECF6",
              "width": 0.5
             },
             "pattern": {
              "fillmode": "overlay",
              "size": 10,
              "solidity": 0.2
             }
            },
            "type": "bar"
           }
          ],
          "barpolar": [
           {
            "marker": {
             "line": {
              "color": "#E5ECF6",
              "width": 0.5
             },
             "pattern": {
              "fillmode": "overlay",
              "size": 10,
              "solidity": 0.2
             }
            },
            "type": "barpolar"
           }
          ],
          "carpet": [
           {
            "aaxis": {
             "endlinecolor": "#2a3f5f",
             "gridcolor": "white",
             "linecolor": "white",
             "minorgridcolor": "white",
             "startlinecolor": "#2a3f5f"
            },
            "baxis": {
             "endlinecolor": "#2a3f5f",
             "gridcolor": "white",
             "linecolor": "white",
             "minorgridcolor": "white",
             "startlinecolor": "#2a3f5f"
            },
            "type": "carpet"
           }
          ],
          "choropleth": [
           {
            "colorbar": {
             "outlinewidth": 0,
             "ticks": ""
            },
            "type": "choropleth"
           }
          ],
          "contour": [
           {
            "colorbar": {
             "outlinewidth": 0,
             "ticks": ""
            },
            "colorscale": [
             [
              0,
              "#0d0887"
             ],
             [
              0.1111111111111111,
              "#46039f"
             ],
             [
              0.2222222222222222,
              "#7201a8"
             ],
             [
              0.3333333333333333,
              "#9c179e"
             ],
             [
              0.4444444444444444,
              "#bd3786"
             ],
             [
              0.5555555555555556,
              "#d8576b"
             ],
             [
              0.6666666666666666,
              "#ed7953"
             ],
             [
              0.7777777777777778,
              "#fb9f3a"
             ],
             [
              0.8888888888888888,
              "#fdca26"
             ],
             [
              1,
              "#f0f921"
             ]
            ],
            "type": "contour"
           }
          ],
          "contourcarpet": [
           {
            "colorbar": {
             "outlinewidth": 0,
             "ticks": ""
            },
            "type": "contourcarpet"
           }
          ],
          "heatmap": [
           {
            "colorbar": {
             "outlinewidth": 0,
             "ticks": ""
            },
            "colorscale": [
             [
              0,
              "#0d0887"
             ],
             [
              0.1111111111111111,
              "#46039f"
             ],
             [
              0.2222222222222222,
              "#7201a8"
             ],
             [
              0.3333333333333333,
              "#9c179e"
             ],
             [
              0.4444444444444444,
              "#bd3786"
             ],
             [
              0.5555555555555556,
              "#d8576b"
             ],
             [
              0.6666666666666666,
              "#ed7953"
             ],
             [
              0.7777777777777778,
              "#fb9f3a"
             ],
             [
              0.8888888888888888,
              "#fdca26"
             ],
             [
              1,
              "#f0f921"
             ]
            ],
            "type": "heatmap"
           }
          ],
          "histogram": [
           {
            "marker": {
             "pattern": {
              "fillmode": "overlay",
              "size": 10,
              "solidity": 0.2
             }
            },
            "type": "histogram"
           }
          ],
          "histogram2d": [
           {
            "colorbar": {
             "outlinewidth": 0,
             "ticks": ""
            },
            "colorscale": [
             [
              0,
              "#0d0887"
             ],
             [
              0.1111111111111111,
              "#46039f"
             ],
             [
              0.2222222222222222,
              "#7201a8"
             ],
             [
              0.3333333333333333,
              "#9c179e"
             ],
             [
              0.4444444444444444,
              "#bd3786"
             ],
             [
              0.5555555555555556,
              "#d8576b"
             ],
             [
              0.6666666666666666,
              "#ed7953"
             ],
             [
              0.7777777777777778,
              "#fb9f3a"
             ],
             [
              0.8888888888888888,
              "#fdca26"
             ],
             [
              1,
              "#f0f921"
             ]
            ],
            "type": "histogram2d"
           }
          ],
          "histogram2dcontour": [
           {
            "colorbar": {
             "outlinewidth": 0,
             "ticks": ""
            },
            "colorscale": [
             [
              0,
              "#0d0887"
             ],
             [
              0.1111111111111111,
              "#46039f"
             ],
             [
              0.2222222222222222,
              "#7201a8"
             ],
             [
              0.3333333333333333,
              "#9c179e"
             ],
             [
              0.4444444444444444,
              "#bd3786"
             ],
             [
              0.5555555555555556,
              "#d8576b"
             ],
             [
              0.6666666666666666,
              "#ed7953"
             ],
             [
              0.7777777777777778,
              "#fb9f3a"
             ],
             [
              0.8888888888888888,
              "#fdca26"
             ],
             [
              1,
              "#f0f921"
             ]
            ],
            "type": "histogram2dcontour"
           }
          ],
          "mesh3d": [
           {
            "colorbar": {
             "outlinewidth": 0,
             "ticks": ""
            },
            "type": "mesh3d"
           }
          ],
          "parcoords": [
           {
            "line": {
             "colorbar": {
              "outlinewidth": 0,
              "ticks": ""
             }
            },
            "type": "parcoords"
           }
          ],
          "pie": [
           {
            "automargin": true,
            "type": "pie"
           }
          ],
          "scatter": [
           {
            "fillpattern": {
             "fillmode": "overlay",
             "size": 10,
             "solidity": 0.2
            },
            "type": "scatter"
           }
          ],
          "scatter3d": [
           {
            "line": {
             "colorbar": {
              "outlinewidth": 0,
              "ticks": ""
             }
            },
            "marker": {
             "colorbar": {
              "outlinewidth": 0,
              "ticks": ""
             }
            },
            "type": "scatter3d"
           }
          ],
          "scattercarpet": [
           {
            "marker": {
             "colorbar": {
              "outlinewidth": 0,
              "ticks": ""
             }
            },
            "type": "scattercarpet"
           }
          ],
          "scattergeo": [
           {
            "marker": {
             "colorbar": {
              "outlinewidth": 0,
              "ticks": ""
             }
            },
            "type": "scattergeo"
           }
          ],
          "scattergl": [
           {
            "marker": {
             "colorbar": {
              "outlinewidth": 0,
              "ticks": ""
             }
            },
            "type": "scattergl"
           }
          ],
          "scattermap": [
           {
            "marker": {
             "colorbar": {
              "outlinewidth": 0,
              "ticks": ""
             }
            },
            "type": "scattermap"
           }
          ],
          "scattermapbox": [
           {
            "marker": {
             "colorbar": {
              "outlinewidth": 0,
              "ticks": ""
             }
            },
            "type": "scattermapbox"
           }
          ],
          "scatterpolar": [
           {
            "marker": {
             "colorbar": {
              "outlinewidth": 0,
              "ticks": ""
             }
            },
            "type": "scatterpolar"
           }
          ],
          "scatterpolargl": [
           {
            "marker": {
             "colorbar": {
              "outlinewidth": 0,
              "ticks": ""
             }
            },
            "type": "scatterpolargl"
           }
          ],
          "scatterternary": [
           {
            "marker": {
             "colorbar": {
              "outlinewidth": 0,
              "ticks": ""
             }
            },
            "type": "scatterternary"
           }
          ],
          "surface": [
           {
            "colorbar": {
             "outlinewidth": 0,
             "ticks": ""
            },
            "colorscale": [
             [
              0,
              "#0d0887"
             ],
             [
              0.1111111111111111,
              "#46039f"
             ],
             [
              0.2222222222222222,
              "#7201a8"
             ],
             [
              0.3333333333333333,
              "#9c179e"
             ],
             [
              0.4444444444444444,
              "#bd3786"
             ],
             [
              0.5555555555555556,
              "#d8576b"
             ],
             [
              0.6666666666666666,
              "#ed7953"
             ],
             [
              0.7777777777777778,
              "#fb9f3a"
             ],
             [
              0.8888888888888888,
              "#fdca26"
             ],
             [
              1,
              "#f0f921"
             ]
            ],
            "type": "surface"
           }
          ],
          "table": [
           {
            "cells": {
             "fill": {
              "color": "#EBF0F8"
             },
             "line": {
              "color": "white"
             }
            },
            "header": {
             "fill": {
              "color": "#C8D4E3"
             },
             "line": {
              "color": "white"
             }
            },
            "type": "table"
           }
          ]
         },
         "layout": {
          "annotationdefaults": {
           "arrowcolor": "#2a3f5f",
           "arrowhead": 0,
           "arrowwidth": 1
          },
          "autotypenumbers": "strict",
          "coloraxis": {
           "colorbar": {
            "outlinewidth": 0,
            "ticks": ""
           }
          },
          "colorscale": {
           "diverging": [
            [
             0,
             "#8e0152"
            ],
            [
             0.1,
             "#c51b7d"
            ],
            [
             0.2,
             "#de77ae"
            ],
            [
             0.3,
             "#f1b6da"
            ],
            [
             0.4,
             "#fde0ef"
            ],
            [
             0.5,
             "#f7f7f7"
            ],
            [
             0.6,
             "#e6f5d0"
            ],
            [
             0.7,
             "#b8e186"
            ],
            [
             0.8,
             "#7fbc41"
            ],
            [
             0.9,
             "#4d9221"
            ],
            [
             1,
             "#276419"
            ]
           ],
           "sequential": [
            [
             0,
             "#0d0887"
            ],
            [
             0.1111111111111111,
             "#46039f"
            ],
            [
             0.2222222222222222,
             "#7201a8"
            ],
            [
             0.3333333333333333,
             "#9c179e"
            ],
            [
             0.4444444444444444,
             "#bd3786"
            ],
            [
             0.5555555555555556,
             "#d8576b"
            ],
            [
             0.6666666666666666,
             "#ed7953"
            ],
            [
             0.7777777777777778,
             "#fb9f3a"
            ],
            [
             0.8888888888888888,
             "#fdca26"
            ],
            [
             1,
             "#f0f921"
            ]
           ],
           "sequentialminus": [
            [
             0,
             "#0d0887"
            ],
            [
             0.1111111111111111,
             "#46039f"
            ],
            [
             0.2222222222222222,
             "#7201a8"
            ],
            [
             0.3333333333333333,
             "#9c179e"
            ],
            [
             0.4444444444444444,
             "#bd3786"
            ],
            [
             0.5555555555555556,
             "#d8576b"
            ],
            [
             0.6666666666666666,
             "#ed7953"
            ],
            [
             0.7777777777777778,
             "#fb9f3a"
            ],
            [
             0.8888888888888888,
             "#fdca26"
            ],
            [
             1,
             "#f0f921"
            ]
           ]
          },
          "colorway": [
           "#636efa",
           "#EF553B",
           "#00cc96",
           "#ab63fa",
           "#FFA15A",
           "#19d3f3",
           "#FF6692",
           "#B6E880",
           "#FF97FF",
           "#FECB52"
          ],
          "font": {
           "color": "#2a3f5f"
          },
          "geo": {
           "bgcolor": "white",
           "lakecolor": "white",
           "landcolor": "#E5ECF6",
           "showlakes": true,
           "showland": true,
           "subunitcolor": "white"
          },
          "hoverlabel": {
           "align": "left"
          },
          "hovermode": "closest",
          "mapbox": {
           "style": "light"
          },
          "paper_bgcolor": "white",
          "plot_bgcolor": "#E5ECF6",
          "polar": {
           "angularaxis": {
            "gridcolor": "white",
            "linecolor": "white",
            "ticks": ""
           },
           "bgcolor": "#E5ECF6",
           "radialaxis": {
            "gridcolor": "white",
            "linecolor": "white",
            "ticks": ""
           }
          },
          "scene": {
           "xaxis": {
            "backgroundcolor": "#E5ECF6",
            "gridcolor": "white",
            "gridwidth": 2,
            "linecolor": "white",
            "showbackground": true,
            "ticks": "",
            "zerolinecolor": "white"
           },
           "yaxis": {
            "backgroundcolor": "#E5ECF6",
            "gridcolor": "white",
            "gridwidth": 2,
            "linecolor": "white",
            "showbackground": true,
            "ticks": "",
            "zerolinecolor": "white"
           },
           "zaxis": {
            "backgroundcolor": "#E5ECF6",
            "gridcolor": "white",
            "gridwidth": 2,
            "linecolor": "white",
            "showbackground": true,
            "ticks": "",
            "zerolinecolor": "white"
           }
          },
          "shapedefaults": {
           "line": {
            "color": "#2a3f5f"
           }
          },
          "ternary": {
           "aaxis": {
            "gridcolor": "white",
            "linecolor": "white",
            "ticks": ""
           },
           "baxis": {
            "gridcolor": "white",
            "linecolor": "white",
            "ticks": ""
           },
           "bgcolor": "#E5ECF6",
           "caxis": {
            "gridcolor": "white",
            "linecolor": "white",
            "ticks": ""
           }
          },
          "title": {
           "x": 0.05
          },
          "xaxis": {
           "automargin": true,
           "gridcolor": "white",
           "linecolor": "white",
           "ticks": "",
           "title": {
            "standoff": 15
           },
           "zerolinecolor": "white",
           "zerolinewidth": 2
          },
          "yaxis": {
           "automargin": true,
           "gridcolor": "white",
           "linecolor": "white",
           "ticks": "",
           "title": {
            "standoff": 15
           },
           "zerolinecolor": "white",
           "zerolinewidth": 2
          }
         }
        },
        "title": {
         "text": "Normalized"
        },
        "width": 800
       }
      }
     },
     "metadata": {},
     "output_type": "display_data"
    }
   ],
   "source": [
    "dots_data = [\n",
    "  {\n",
    "    \"dots\": l_normalized[0].detach().cpu().numpy(),\n",
    "    \"color\": \"red\",\n",
    "    \"labels\": [reverse_vocab_list[i] for i in tokens_padded]\n",
    "  }\n",
    "]\n",
    "\n",
    "plot_dots(dots_data, \"Normalized\")"
   ]
  },
  {
   "cell_type": "code",
   "execution_count": 21,
   "metadata": {},
   "outputs": [],
   "source": [
    "logits = model(torch.tensor([tokens_padded]).to(device))\n"
   ]
  },
  {
   "cell_type": "code",
   "execution_count": 22,
   "metadata": {},
   "outputs": [
    {
     "data": {
      "text/plain": [
       "torch.Size([1, 32, 64])"
      ]
     },
     "execution_count": 22,
     "metadata": {},
     "output_type": "execute_result"
    }
   ],
   "source": [
    "logits.shape"
   ]
  },
  {
   "cell_type": "code",
   "execution_count": 23,
   "metadata": {},
   "outputs": [
    {
     "data": {
      "text/plain": [
       "'and'"
      ]
     },
     "execution_count": 23,
     "metadata": {},
     "output_type": "execute_result"
    }
   ],
   "source": [
    "reverse_vocab_list[torch.argmax(logits[0, 2, :]).item()]"
   ]
  },
  {
   "cell_type": "code",
   "execution_count": 24,
   "metadata": {},
   "outputs": [
    {
     "data": {
      "text/plain": [
       "(8, 10)"
      ]
     },
     "execution_count": 24,
     "metadata": {},
     "output_type": "execute_result"
    }
   ],
   "source": [
    "num_tokens-1, torch.argmax(logits[0, 11, :]).item()"
   ]
  },
  {
   "cell_type": "code",
   "execution_count": 25,
   "metadata": {},
   "outputs": [
    {
     "data": {
      "text/plain": [
       "(Parameter containing:\n",
       " tensor([[-0.0278,  0.4427,  0.0776],\n",
       "         [ 0.4939,  0.0236, -0.4395],\n",
       "         [-0.3948,  0.2665,  0.3651]], requires_grad=True),\n",
       " Parameter containing:\n",
       " tensor([[-0.2618,  1.4711, -1.0085],\n",
       "         [-1.3464, -0.8184,  0.2786],\n",
       "         [ 0.7985,  1.1991,  1.3985]], requires_grad=True))"
      ]
     },
     "execution_count": 25,
     "metadata": {},
     "output_type": "execute_result"
    }
   ],
   "source": [
    "l1 = torch.nn.Linear(3, 3)\n",
    "p1 = torch.nn.Parameter(torch.randn(3, 3))\n",
    "l1.weight, p1"
   ]
  },
  {
   "cell_type": "code",
   "execution_count": 26,
   "metadata": {},
   "outputs": [
    {
     "name": "stdout",
     "output_type": "stream",
     "text": [
      "Original:  the capital of the united states\n",
      "Predicted: the <unk>a<unk><unk><unk>aeuropetheyinand\n"
     ]
    }
   ],
   "source": [
    "def inference(prompt, max_new_tokens):\n",
    "    tokens = tokenize(prompt)\n",
    "    #print(\"tokens: \", tokens)\n",
    "    for _ in range(max_new_tokens):\n",
    "        num_tokens = len(tokens)\n",
    "        tokens_padded = tokens + [19] * (test_config.seq_len - num_tokens)\n",
    "        tokens_padded = torch.tensor(tokens_padded).unsqueeze(0).to(device)\n",
    "        # print(\"tokens_padded: \", tokens_padded)\n",
    "        logits = model(tokens_padded)\n",
    "        predicted_token = torch.argmax(logits[0, num_tokens-1, :]).item()\n",
    "        tokens.append(predicted_token)\n",
    "    return detokenize(tokens)\n",
    "\n",
    "print(\"Original: \", text[:test_config.seq_len])\n",
    "row_model_prediction = inference(text[:10], max_new_tokens=4)\n",
    "print(\"Predicted:\", row_model_prediction)"
   ]
  },
  {
   "cell_type": "code",
   "execution_count": 27,
   "metadata": {},
   "outputs": [
    {
     "name": "stdout",
     "output_type": "stream",
     "text": [
      "Input Shape torch.Size([4, 32])\n",
      "Output Shape torch.Size([4, 32])\n",
      "Input Example:\n",
      "tensor([[ 0, 61,  1, 61,  2, 61,  0, 61,  3, 61,  4, 61,  5, 61,  6, 61,  7, 59,\n",
      "         61,  0, 61,  1, 61,  2, 61,  8, 61,  5, 61,  9, 60, 61],\n",
      "        [61, 11, 61,  5, 61,  0, 61,  1, 61,  2, 61, 12, 59, 61, 13, 61,  5, 61,\n",
      "         14, 61, 15, 60, 61, 16, 61,  5, 61, 14, 61, 17, 60, 61],\n",
      "        [61, 18, 61,  5, 61, 14, 61, 19, 59, 61,  0, 61,  1, 61,  2, 61,  0, 61,\n",
      "          3, 61, 20, 61,  5, 61,  6, 61,  9, 60, 61, 10, 61,  0],\n",
      "        [ 1, 61,  2, 61,  0, 61,  3, 61,  4, 61,  5, 61,  6, 61, 11, 59, 61, 22,\n",
      "         61, 23, 61, 24, 58, 61, 25, 61, 26, 61, 27, 57, 61, 28]],\n",
      "       device='mps:0')\n",
      "Output Example:\n",
      "tensor([[61,  1, 61,  2, 61,  0, 61,  3, 61,  4, 61,  5, 61,  6, 61,  7, 59, 61,\n",
      "          0, 61,  1, 61,  2, 61,  8, 61,  5, 61,  9, 60, 61, 10],\n",
      "        [11, 61,  5, 61,  0, 61,  1, 61,  2, 61, 12, 59, 61, 13, 61,  5, 61, 14,\n",
      "         61, 15, 60, 61, 16, 61,  5, 61, 14, 61, 17, 60, 61, 10],\n",
      "        [18, 61,  5, 61, 14, 61, 19, 59, 61,  0, 61,  1, 61,  2, 61,  0, 61,  3,\n",
      "         61, 20, 61,  5, 61,  6, 61,  9, 60, 61, 10, 61,  0, 61],\n",
      "        [61,  2, 61,  0, 61,  3, 61,  4, 61,  5, 61,  6, 61, 11, 59, 61, 22, 61,\n",
      "         23, 61, 24, 58, 61, 25, 61, 26, 61, 27, 57, 61, 28, 60]],\n",
      "       device='mps:0')\n"
     ]
    }
   ],
   "source": [
    "# with open(\"tr_texts_400.txt\", \"r\", encoding=\"utf-8\") as file:\n",
    "#     tr_texts = file.read()\n",
    "\n",
    "# text_example = tr_texts\n",
    "\n",
    "tokenized_text = tokenize(text)\n",
    "\n",
    "def get_dataset(num_examples, context_window_length, test_split=0.1):\n",
    "    input_blocks = [] # List to store input sequences\n",
    "    target_blocks = [] # List to store target sequences\n",
    "\n",
    "    # Use a sliding window to create input/target sequences\n",
    "    for i in range(0, len(tokenized_text), context_window_length + 1):\n",
    "        block = tokenized_text[i:i+context_window_length+ 1]\n",
    "        \n",
    "        # Skip blocks that are too short\n",
    "        if len(block) < context_window_length + 1:\n",
    "            continue\n",
    "\n",
    "        input_seq = block[:-1]  \n",
    "        target_seq = block[1:]  \n",
    "\n",
    "        input_blocks.append(input_seq)\n",
    "        target_blocks.append(target_seq)\n",
    "        \n",
    "        # Stop if we have enough examples\n",
    "        if len(input_blocks) >= num_examples:\n",
    "            break\n",
    "\n",
    "    # Convert to tensors for pytorch and move to gpu\n",
    "    inputs = torch.tensor(input_blocks, dtype=torch.long).to(device)\n",
    "    targets = torch.tensor(target_blocks, dtype=torch.long).to(device)\n",
    "\n",
    "    # Calculate train/test split point\n",
    "    split_idx = int(num_examples * (1 - test_split))\n",
    "\n",
    "    # Split into train/test\n",
    "    train_inputs = inputs[:split_idx]\n",
    "    train_targets = targets[:split_idx]\n",
    "    test_inputs = inputs[split_idx:]\n",
    "    test_targets = targets[split_idx:]\n",
    "    return train_inputs, train_targets, test_inputs, test_targets\n",
    "\n",
    "# Get a small dataset\n",
    "i, o, _, _ = get_dataset(4, test_config.seq_len, 0)\n",
    "print(\"Input Shape\", i.shape)\n",
    "print(\"Output Shape\", o.shape)\n",
    "print(\"Input Example:\")\n",
    "print(i)\n",
    "print(\"Output Example:\")\n",
    "print(o)"
   ]
  },
  {
   "cell_type": "code",
   "execution_count": 56,
   "metadata": {},
   "outputs": [
    {
     "name": "stdout",
     "output_type": "stream",
     "text": [
      "Step 2/150000\t\tLoss: 0.606795\t\tLR: 0.0005\n",
      "Original: the capital of the united states\tPredicted: <unk>, italyis states,,history,capital,and,romesis iss,capitalmanyeded,rome oftencapitalcapitaleach\tRow: the <unk>a<unk><unk><unk>aeuropetheyinand\n",
      "Step 152/150000\t\tLoss: 0.988691\t\tLR: 5e-05\n",
      "Original: the capital of the united states\tPredicted: <unk>, italyis  a    ,rich,,rome a a ,  ,europeedownwhile identitymany\tRow: the <unk>a<unk><unk><unk>aeuropetheyinand\n",
      "Step 302/150000\t\tLoss: 0.849405\t\tLR: 5e-05\n",
      "Original: the capital of the united states\tPredicted: <unk>, italyis  a  is ,,capital,europe,,,,,oftens.,capitaleurope,in   \tRow: the <unk>a<unk><unk><unk>aeuropetheyinand\n",
      "Step 452/150000\t\tLoss: 0.790062\t\tLR: 5e-05\n",
      "Original: the capital of the united states\tPredicted: <unk>, italyis is,,is  ,.washington,capitalin each italyidentity. own and isinandidentity\tRow: the <unk>a<unk><unk><unk>aeuropetheyinand\n",
      "Step 602/150000\t\tLoss: 0.757429\t\tLR: 5e-05\n",
      "Original: the capital of the united states\tPredicted: <unk>, italyis is,,is  ,.washington,capitalin  togethereach,is. notwashington isown own\tRow: the <unk>a<unk><unk><unk>aeuropetheyinand\n",
      "Step 752/150000\t\tLoss: 0.725307\t\tLR: 5e-05\n",
      "Original: the capital of the united states\tPredicted: <unk>, italyis  a,its,identityedis,,withedcapital ,  rome richcapitalcapitalcapital rome  \tRow: the <unk>a<unk><unk><unk>aeuropetheyinand\n",
      "Step 902/150000\t\tLoss: 0.700817\t\tLR: 5e-05\n",
      "Original: the capital of the united states\tPredicted: <unk>, italyis  a,its,haslisbon        washington   , ,    ,\tRow: the <unk>a<unk><unk><unk>aeuropetheyinand\n",
      "Step 1052/150000\t\tLoss: 0.676355\t\tLR: 5e-05\n",
      "Original: the capital of the united states\tPredicted: <unk>, italyis  a,its,europe,capital , , , is, ,in , ,,,capital\tRow: the <unk>a<unk><unk><unk>aeuropetheyinand\n",
      "Step 1202/150000\t\tLoss: 0.664056\t\tLR: 5e-05\n",
      "Original: the capital of the united states\tPredicted: <unk>, italyis  a,rich   , ,ed washington, of europe capital europe capital of \tRow: the <unk>a<unk><unk><unk>aeuropetheyinand\n",
      "Step 1352/150000\t\tLoss: 0.646542\t\tLR: 5e-05\n",
      "Original: the capital of the united states\tPredicted: <unk>, italyis  europe,   rome rome rome rome italy,identityowncity rome culture .  \tRow: the <unk>a<unk><unk><unk>aeuropetheyinand\n",
      "Step 1502/150000\t\tLoss: 0.631630\t\tLR: 5e-05\n",
      "Original: the capital of the united states\tPredicted: <unk>, italyis  europe, s , rome rome rome , rome culturecapital and and, ,\tRow: the <unk>a<unk><unk><unk>aeuropetheyinand\n",
      "Step 1652/150000\t\tLoss: 0.623492\t\tLR: 5e-05\n",
      "Original: the capital of the united states\tPredicted: <unk>, italyis  europe,   rome rome rome rome italy,identityowncity rome madrididentityis and\tRow: the <unk>a<unk><unk><unk>aeuropetheyinand\n",
      "Step 1802/150000\t\tLoss: 0.614817\t\tLR: 5e-05\n",
      "Original: the capital of the united states\tPredicted: <unk>, italy    ,,,,, , london london     these these thesecapitala these\tRow: the <unk>a<unk><unk><unk>aeuropetheyinand\n",
      "Step 1952/150000\t\tLoss: 0.607559\t\tLR: 5e-05\n",
      "Original: the capital of the united states\tPredicted: <unk>, italy  ,    each  london ,, ,, london europe, is   .,\tRow: the <unk>a<unk><unk><unk>aeuropetheyinand\n",
      "Step 2102/150000\t\tLoss: 0.603287\t\tLR: 5e-05\n",
      "Original: the capital of the united states\tPredicted: <unk>, italy  , ,,  , edis rome  , europe europe romes,iscapitalcapitalis\tRow: the <unk>a<unk><unk><unk>aeuropetheyinand\n",
      "Step 2252/150000\t\tLoss: 0.589114\t\tLR: 5e-05\n",
      "Original: the capital of the united states\tPredicted: <unk>, italy    . italy . europe inwashingtonlondon its its romesed,its rome these\tRow: the <unk>a<unk><unk><unk>aeuropetheyinand\n",
      "Step 2402/150000\t\tLoss: 0.580524\t\tLR: 5e-05\n",
      "Original: the capital of the united states\tPredicted: <unk>, italy    . italy . europe in, its romemany, often thesenot    \tRow: the <unk>a<unk><unk><unk>aeuropetheyinand\n",
      "Step 2552/150000\t\tLoss: 0.569446\t\tLR: 5e-05\n",
      "Original: the capital of the united states\tPredicted: <unk>, italy    . italy . europe in, its identity each city .  . country\tRow: the <unk>a<unk><unk><unk>aeuropetheyinand\n",
      "Step 2702/150000\t\tLoss: 0.563968\t\tLR: 5e-05\n",
      "Original: the capital of the united states\tPredicted: <unk>, italy    . italy . europe in, its identity each city .  each .\tRow: the <unk>a<unk><unk><unk>aeuropetheyinand\n",
      "Step 2852/150000\t\tLoss: 0.554480\t\tLR: 5e-05\n",
      "Original: the capital of the united states\tPredicted: <unk>, italy    . italy . europe in, its identity  .  country together each \tRow: the <unk>a<unk><unk><unk>aeuropetheyinand\n",
      "Step 3002/150000\t\tLoss: 0.543280\t\tLR: 5e-05\n",
      "Original: the capital of the united states\tPredicted: <unk>, italy    . italy . europe in, its identity  .  country  each its\tRow: the <unk>a<unk><unk><unk>aeuropetheyinand\n",
      "Step 3152/150000\t\tLoss: 0.535666\t\tLR: 5e-05\n",
      "Original: the capital of the united states\tPredicted: <unk>, italy    . together .    washington     each .    .capital \tRow: the <unk>a<unk><unk><unk>aeuropetheyinand\n",
      "Step 3302/150000\t\tLoss: 0.531379\t\tLR: 5e-05\n",
      "Original: the capital of the united states\tPredicted: <unk>, italy  ,    , london   washington not    . often. theseeuropean united\tRow: the <unk>a<unk><unk><unk>aeuropetheyinand\n",
      "Step 3452/150000\t\tLoss: 0.521397\t\tLR: 5e-05\n",
      "Original: the capital of the united states\tPredicted: <unk>, italy  , .. together each. its its. europe europe   is. ,  \tRow: the <unk>a<unk><unk><unk>aeuropetheyinand\n",
      "Step 3602/150000\t\tLoss: 0.520243\t\tLR: 5e-05\n",
      "Original: the capital of the united states\tPredicted: <unk>, rich,,  each,,,,,,,ownownis,  ofstates  nots europeanmany of\tRow: the <unk>a<unk><unk><unk>aeuropetheyinand\n",
      "Step 3752/150000\t\tLoss: 0.509522\t\tLR: 5e-05\n",
      "Original: the capital of the united states\tPredicted: <unk>, rich,,  each,,,,,,,ownown  own ,   ,s,s,soften\tRow: the <unk>a<unk><unk><unk>aeuropetheyinand\n",
      "Step 3902/150000\t\tLoss: 0.501587\t\tLR: 5e-05\n",
      "Original: the capital of the united states\tPredicted: <unk>, rich,,  each,,,,,,,ownown  own ,   ,s,s,soften\tRow: the <unk>a<unk><unk><unk>aeuropetheyinand\n",
      "Step 4052/150000\t\tLoss: 0.498898\t\tLR: 5e-05\n",
      "Original: the capital of the united states\tPredicted: <unk>, rich,,  each,,,,,,,ownown  own ,   ,s,s,soften\tRow: the <unk>a<unk><unk><unk>aeuropetheyinand\n",
      "Step 4202/150000\t\tLoss: 0.492119\t\tLR: 5e-05\n",
      "Original: the capital of the united states\tPredicted: <unk>, rich,, ,,,, . together together together,,.. each. inrome,. in\tRow: the <unk>a<unk><unk><unk>aeuropetheyinand\n",
      "Step 4352/150000\t\tLoss: 0.487283\t\tLR: 5e-05\n",
      "Original: the capital of the united states\tPredicted: <unk>, rich,, ,,,, . together together together,,.. each. inrome,. in\tRow: the <unk>a<unk><unk><unk>aeuropetheyinand\n",
      "Step 4502/150000\t\tLoss: 0.484427\t\tLR: 5e-05\n",
      "Original: the capital of the united states\tPredicted: <unk>, rich,,  each,,,,,,,. togethercapital    , . . european the\tRow: the <unk>a<unk><unk><unk>aeuropetheyinand\n",
      "Step 4652/150000\t\tLoss: 0.478567\t\tLR: 5e-05\n",
      "Original: the capital of the united states\tPredicted: <unk>, rich,,  each,,,,,,,. london washington together noteds,edof many \tRow: the <unk>a<unk><unk><unk>aeuropetheyinand\n",
      "Step 4802/150000\t\tLoss: 0.473793\t\tLR: 5e-05\n",
      "Original: the capital of the united states\tPredicted: <unk>, rich,,  each,,,,,,,. london washington together noteds,edof many \tRow: the <unk>a<unk><unk><unk>aeuropetheyinand\n",
      "Step 4952/150000\t\tLoss: 0.467449\t\tLR: 5e-05\n",
      "Original: the capital of the united states\tPredicted: <unk>, rich,,  each,,,,,,,. together    london    ,,, washington\tRow: the <unk>a<unk><unk><unk>aeuropetheyinand\n",
      "Step 5102/150000\t\tLoss: 0.464842\t\tLR: 5e-05\n",
      "Original: the capital of the united states\tPredicted: <unk>, rich,,  each,,,,,,,.. london in,     washington . is\tRow: the <unk>a<unk><unk><unk>aeuropetheyinand\n",
      "Step 5252/150000\t\tLoss: 0.456813\t\tLR: 5e-05\n",
      "Original: the capital of the united states\tPredicted: <unk>, rich,,  each,,,,,,,.. london in,     washington . is\tRow: the <unk>a<unk><unk><unk>aeuropetheyinand\n",
      "Step 5402/150000\t\tLoss: 0.449817\t\tLR: 5e-05\n",
      "Original: the capital of the united states\tPredicted: <unk>, rich,,  each,,,,,,,.. london in,     washington . is\tRow: the <unk>a<unk><unk><unk>aeuropetheyinand\n",
      "Step 5552/150000\t\tLoss: 0.448747\t\tLR: 5e-05\n",
      "Original: the capital of the united states\tPredicted: <unk>, rich,,  each,,,,,,,.. london in,     washington . is\tRow: the <unk>a<unk><unk><unk>aeuropetheyinand\n",
      "Step 5702/150000\t\tLoss: 0.446971\t\tLR: 5e-05\n",
      "Original: the capital of the united states\tPredicted: <unk>, rich,,  each,,,,,,,.. london in,     washington . is\tRow: the <unk>a<unk><unk><unk>aeuropetheyinand\n",
      "Step 5852/150000\t\tLoss: 0.436451\t\tLR: 5e-05\n",
      "Original: the capital of the united states\tPredicted: <unk>, rich,,  each,,,,,,,.. london in,     washington . is\tRow: the <unk>a<unk><unk><unk>aeuropetheyinand\n",
      "Step 6002/150000\t\tLoss: 0.433047\t\tLR: 5e-05\n",
      "Original: the capital of the united states\tPredicted: <unk>, rich,,  each,,,,,,,.. london in,     washington . is\tRow: the <unk>a<unk><unk><unk>aeuropetheyinand\n",
      "Step 6152/150000\t\tLoss: 0.429933\t\tLR: 5e-05\n",
      "Original: the capital of the united states\tPredicted: <unk>, rich,,  each,,,,,,,.. london in,     washington . is\tRow: the <unk>a<unk><unk><unk>aeuropetheyinand\n",
      "Step 6302/150000\t\tLoss: 0.424132\t\tLR: 5e-05\n",
      "Original: the capital of the united states\tPredicted: <unk>, rich,,  each,,,,,,,.. london in,     washington . is\tRow: the <unk>a<unk><unk><unk>aeuropetheyinand\n",
      "Step 6452/150000\t\tLoss: 0.421087\t\tLR: 5e-05\n",
      "Original: the capital of the united states\tPredicted: <unk>, rich,,  each,,,,,,,.. london in,     washington . is\tRow: the <unk>a<unk><unk><unk>aeuropetheyinand\n",
      "Step 6602/150000\t\tLoss: 0.417759\t\tLR: 5e-05\n",
      "Original: the capital of the united states\tPredicted: <unk>, rich,,  each,,,,,,,.. london in,     washington . is\tRow: the <unk>a<unk><unk><unk>aeuropetheyinand\n",
      "Step 6752/150000\t\tLoss: 0.414731\t\tLR: 5e-05\n",
      "Original: the capital of the united states\tPredicted: <unk>, rich,,  ,,,,  . londonthey. theystates not europe, parismany . \tRow: the <unk>a<unk><unk><unk>aeuropetheyinand\n",
      "Step 6902/150000\t\tLoss: 0.414895\t\tLR: 5e-05\n",
      "Original: the capital of the united states\tPredicted: <unk>, rich,,  each,,,,,,,.. london in,     washington . is\tRow: the <unk>a<unk><unk><unk>aeuropetheyinand\n",
      "Step 7052/150000\t\tLoss: 0.411349\t\tLR: 5e-05\n",
      "Original: the capital of the united states\tPredicted: <unk>, rich,,  each,,,,,,,.. london in,     washington . is\tRow: the <unk>a<unk><unk><unk>aeuropetheyinand\n",
      "Step 7202/150000\t\tLoss: 0.404132\t\tLR: 5e-05\n",
      "Original: the capital of the united states\tPredicted: <unk>, rich,,  each,,,,,,,.. london in,      washingtons. \tRow: the <unk>a<unk><unk><unk>aeuropetheyinand\n",
      "Step 7352/150000\t\tLoss: 0.402890\t\tLR: 5e-05\n",
      "Original: the capital of the united states\tPredicted: <unk>, rich,,  each,,,,,,,.. london in,      washingtons. \tRow: the <unk>a<unk><unk><unk>aeuropetheyinand\n",
      "Step 7502/150000\t\tLoss: 0.400294\t\tLR: 5e-05\n",
      "Original: the capital of the united states\tPredicted: <unk>, rich,,  each,,,,,,,.. london in,      washingtons. \tRow: the <unk>a<unk><unk><unk>aeuropetheyinand\n",
      "Step 7652/150000\t\tLoss: 0.392085\t\tLR: 5e-05\n",
      "Original: the capital of the united states\tPredicted: <unk>, rich,,  each,,,,,,,.. london in,      washingtons. \tRow: the <unk>a<unk><unk><unk>aeuropetheyinand\n",
      "Step 7802/150000\t\tLoss: 0.392441\t\tLR: 5e-05\n",
      "Original: the capital of the united states\tPredicted: <unk>, rich ,,, . each ed. each. , each in not europe world  of\tRow: the <unk>a<unk><unk><unk>aeuropetheyinand\n",
      "Step 7952/150000\t\tLoss: 0.388175\t\tLR: 5e-05\n",
      "Original: the capital of the united states\tPredicted: <unk>, rich ,,, . each ed. each. , each in not europe world  of\tRow: the <unk>a<unk><unk><unk>aeuropetheyinand\n",
      "Step 8102/150000\t\tLoss: 0.382194\t\tLR: 5e-05\n",
      "Original: the capital of the united states\tPredicted: <unk>, rich ,,, . each ed. each. washington together . . not .  the\tRow: the <unk>a<unk><unk><unk>aeuropetheyinand\n",
      "Step 8252/150000\t\tLoss: 0.378400\t\tLR: 5e-05\n",
      "Original: the capital of the united states\tPredicted: <unk> oftenof,oftenoften,,romelondona,. europeanandknownidentity, identityeuropean identity culture culturehistorywiths \tRow: the <unk>a<unk><unk><unk>aeuropetheyinand\n",
      "Step 8402/150000\t\tLoss: 0.377539\t\tLR: 5e-05\n",
      "Original: the capital of the united states\tPredicted: <unk> oftenof,oftenoften,,cultureaeuropeown rome cultureart europe culturenot   a  the,,,\tRow: the <unk>a<unk><unk><unk>aeuropetheyinand\n",
      "Step 8552/150000\t\tLoss: 0.375704\t\tLR: 5e-05\n",
      "Original: the capital of the united states\tPredicted: <unk> oftenof,oftenoften,,cultureaeuropeown rome cultureart europe parisown.,,simportant often berlin \tRow: the <unk>a<unk><unk><unk>aeuropetheyinand\n",
      "Step 8702/150000\t\tLoss: 0.369265\t\tLR: 5e-05\n",
      "Original: the capital of the united states\tPredicted: <unk> oftenof,oftenoften,,cultureaeuropeown rome cultureart europe identityown., ownof, own.rome\tRow: the <unk>a<unk><unk><unk>aeuropetheyinand\n",
      "Step 8852/150000\t\tLoss: 0.368093\t\tLR: 5e-05\n",
      "Original: the capital of the united states\tPredicted: <unk> oftenof,oftenoften,,cultureaeuropeown rome identitycultureeach,togetherowncity,edidentity, identity,  identity\tRow: the <unk>a<unk><unk><unk>aeuropetheyinand\n",
      "Step 9002/150000\t\tLoss: 0.362792\t\tLR: 5e-05\n",
      "Original: the capital of the united states\tPredicted: <unk> oftenof,oftenoften,,cultureaeuropeown rome identityculture,edeuropeaneurope cultureeach identity culture iseurope \tRow: the <unk>a<unk><unk><unk>aeuropetheyinand\n",
      "Step 9152/150000\t\tLoss: 0.359640\t\tLR: 5e-05\n",
      "Original: the capital of the united states\tPredicted: <unk> oftenof,oftenoften,romesareisedownwithin,isedidentitythewhilethewhileeuropeidentity oftenhistoryoftenoften european\tRow: the <unk>a<unk><unk><unk>aeuropetheyinand\n",
      "Step 9302/150000\t\tLoss: 0.358597\t\tLR: 5e-05\n",
      "Original: the capital of the united states\tPredicted: <unk> oftenof,oftenoften,,culturearome culture.culture is and culture theseculture is is iss \tRow: the <unk>a<unk><unk><unk>aeuropetheyinand\n",
      "Step 9452/150000\t\tLoss: 0.351800\t\tLR: 5e-05\n",
      "Original: the capital of the united states\tPredicted: <unk> often rome,city the capitalwashington capital romeown andwhileeuropeidentity kingdomhas a capital andwith \tRow: the <unk>a<unk><unk><unk>aeuropetheyinand\n",
      "Step 9602/150000\t\tLoss: 0.349288\t\tLR: 5e-05\n",
      "Original: the capital of the united states\tPredicted: <unk> often rome,city the capitalwashington capital romeown andwhileeuropeidentity kingdomhas a capital andwith \tRow: the <unk>a<unk><unk><unk>aeuropetheyinand\n",
      "Step 9752/150000\t\tLoss: 0.347858\t\tLR: 5e-05\n",
      "Original: the capital of the united states\tPredicted: <unk> often rome,city the capitalwashington capital rome. identityed, identity culture own these kingdom and\tRow: the <unk>a<unk><unk><unk>aeuropetheyinand\n",
      "Step 9902/150000\t\tLoss: 0.343462\t\tLR: 5e-05\n",
      "Original: the capital of the united states\tPredicted: <unk> often rome,city the capitalwashington capital romeown andwhilewashington, andandandandoften andhistory and\tRow: the <unk>a<unk><unk><unk>aeuropetheyinand\n",
      "Step 10052/150000\t\tLoss: 0.340349\t\tLR: 5e-05\n",
      "Original: the capital of the united states\tPredicted: <unk> often rome,often andoftenoftenlondon,,cultureoftenoften oftenhistoryhistory,often often often placea culture,\tRow: the <unk>a<unk><unk><unk>aeuropetheyinand\n",
      "Step 10202/150000\t\tLoss: 0.340850\t\tLR: 5e-05\n",
      "Original: the capital of the united states\tPredicted: <unk> often rome,city the capitalwashington capital rome. identityed, identity culture own capitalrich, and\tRow: the <unk>a<unk><unk><unk>aeuropetheyinand\n",
      "Step 10352/150000\t\tLoss: 0.335924\t\tLR: 5e-05\n",
      "Original: the capital of the united states\tPredicted: <unk> often,ownidentitya,own romeown europe. the europe artrome united, united, and united,\tRow: the <unk>a<unk><unk><unk>aeuropetheyinand\n",
      "Step 10502/150000\t\tLoss: 0.335408\t\tLR: 5e-05\n",
      "Original: the capital of the united states\tPredicted: <unk> often rome,oftenedrome,ownits ,a,ownthese theseberlinberlinnotnot. isimportantimportantimportants rome\tRow: the <unk>a<unk><unk><unk>aeuropetheyinand\n",
      "Step 10652/150000\t\tLoss: 0.329396\t\tLR: 5e-05\n",
      "Original: the capital of the united states\tPredicted: <unk> often,ownidentitya,own romeown europe.  and   london     washington     \tRow: the <unk>a<unk><unk><unk>aeuropetheyinand\n",
      "Step 10802/150000\t\tLoss: 0.330140\t\tLR: 5e-05\n",
      "Original: the capital of the united states\tPredicted: <unk> often rome,often andoftenoftencity together. berlin spainownlondon,mention . these,ed  ed \tRow: the <unk>a<unk><unk><unk>aeuropetheyinand\n",
      "Step 10952/150000\t\tLoss: 0.324658\t\tLR: 5e-05\n",
      "Original: the capital of the united states\tPredicted: <unk> often rome,oftenedrome,ownits ,a,ownthese theseberlinberlinnot. together, the.ed.capital\tRow: the <unk>a<unk><unk><unk>aeuropetheyinand\n",
      "Step 11102/150000\t\tLoss: 0.322526\t\tLR: 5e-05\n",
      "Original: the capital of the united states\tPredicted: <unk> often,ownidentitya,own ,, with.,isis ., these thesemany placeidentitylondonwashington place\tRow: the <unk>a<unk><unk><unk>aeuropetheyinand\n",
      "Step 11252/150000\t\tLoss: 0.321218\t\tLR: 5e-05\n",
      "Original: the capital of the united states\tPredicted: <unk> often,ownidentityoftenartoftenculture, identityidentitylondon own,. infranceis., theseidentity .  .\tRow: the <unk>a<unk><unk><unk>aeuropetheyinand\n",
      "Step 11402/150000\t\tLoss: 0.316929\t\tLR: 5e-05\n",
      "Original: the capital of the united states\tPredicted: <unk> often,ownidentitya,own ,, with  country, , artrichunitedunitedricheurope,washington.,. \tRow: the <unk>a<unk><unk><unk>aeuropetheyinand\n",
      "Step 11552/150000\t\tLoss: 0.318166\t\tLR: 5e-05\n",
      "Original: the capital of the united states\tPredicted: <unk> often,ownidentityoftenartoftenculture,.londonscapital,isidentitya,, ishasinidentity isoftenunique,rich \tRow: the <unk>a<unk><unk><unk>aeuropetheyinand\n",
      "Step 11702/150000\t\tLoss: 0.310643\t\tLR: 5e-05\n",
      "Original: the capital of the united states\tPredicted: <unk> often,ownidentityoftenartoftenculture,...,.londonownidentity identityidentityidentityidentity, inidentityowninidentity, \tRow: the <unk>a<unk><unk><unk>aeuropetheyinand\n",
      "Step 11852/150000\t\tLoss: 0.308183\t\tLR: 5e-05\n",
      "Original: the capital of the united states\tPredicted: <unk> often,ownidentityoftenartoftenculture,.famouscity, identity identity.,not., theseeuropean ,    \tRow: the <unk>a<unk><unk><unk>aeuropetheyinand\n",
      "Step 12002/150000\t\tLoss: 0.306627\t\tLR: 5e-05\n",
      "Original: the capital of the united states\tPredicted: <unk>, rich ,,,,,,,,,,,london. these each. not not not   the\tRow: the <unk>a<unk><unk><unk>aeuropetheyinand\n",
      "Step 12152/150000\t\tLoss: 0.304163\t\tLR: 5e-05\n",
      "Original: the capital of the united states\tPredicted: <unk>, rich ,,,,,,,,,,,london. these each. not not not   the\tRow: the <unk>a<unk><unk><unk>aeuropetheyinand\n",
      "Step 12302/150000\t\tLoss: 0.306134\t\tLR: 5e-05\n",
      "Original: the capital of the united states\tPredicted: <unk>, rich ,,,,,,,,,,,london. these each. not not not    \tRow: the <unk>a<unk><unk><unk>aeuropetheyinand\n",
      "Step 12452/150000\t\tLoss: 0.304762\t\tLR: 5e-05\n",
      "Original: the capital of the united states\tPredicted: <unk>, rich ,,,,,,,,,,,london. these each. not not not    \tRow: the <unk>a<unk><unk><unk>aeuropetheyinand\n",
      "Step 12602/150000\t\tLoss: 0.300994\t\tLR: 5e-05\n",
      "Original: the capital of the united states\tPredicted: <unk>, rich ,,,,,,,,,,,london. these each. not not not    \tRow: the <unk>a<unk><unk><unk>aeuropetheyinand\n",
      "Step 12752/150000\t\tLoss: 0.297249\t\tLR: 5e-05\n",
      "Original: the capital of the united states\tPredicted: <unk>, rich ,,,,,,,,,,,london. these each. not not not    \tRow: the <unk>a<unk><unk><unk>aeuropetheyinand\n",
      "Step 12902/150000\t\tLoss: 0.292605\t\tLR: 5e-05\n",
      "Original: the capital of the united states\tPredicted: <unk>, rich ,,,,,,,,,,,london. these each. not not not    \tRow: the <unk>a<unk><unk><unk>aeuropetheyinand\n",
      "Step 13052/150000\t\tLoss: 0.291574\t\tLR: 5e-05\n",
      "Original: the capital of the united states\tPredicted: <unk>, rich ,,,,,,,,,,,london. these each. not not not    \tRow: the <unk>a<unk><unk><unk>aeuropetheyinand\n",
      "Step 13202/150000\t\tLoss: 0.295042\t\tLR: 5e-05\n",
      "Original: the capital of the united states\tPredicted: <unk>, rich ,,,,,,,,,,,london. these each. not not not    \tRow: the <unk>a<unk><unk><unk>aeuropetheyinand\n",
      "Step 13352/150000\t\tLoss: 0.286482\t\tLR: 5e-05\n",
      "Original: the capital of the united states\tPredicted: <unk>, rich ,,,,,,,,,,,london. these each. not not not    \tRow: the <unk>a<unk><unk><unk>aeuropetheyinand\n",
      "Step 13502/150000\t\tLoss: 0.283640\t\tLR: 5e-05\n",
      "Original: the capital of the united states\tPredicted: <unk>, rich ,,,,,,,,,,,london. these each. not not not    \tRow: the <unk>a<unk><unk><unk>aeuropetheyinand\n",
      "Step 13652/150000\t\tLoss: 0.277214\t\tLR: 5e-05\n",
      "Original: the capital of the united states\tPredicted: <unk>, rich ,,,,,,,,,,,london. these each. not not not    \tRow: the <unk>a<unk><unk><unk>aeuropetheyinand\n",
      "Step 13802/150000\t\tLoss: 0.277748\t\tLR: 5e-05\n",
      "Original: the capital of the united states\tPredicted: <unk>, rich ,,,,,,,,,,,london. these each. not not not    \tRow: the <unk>a<unk><unk><unk>aeuropetheyinand\n",
      "Step 13952/150000\t\tLoss: 0.283162\t\tLR: 5e-05\n",
      "Original: the capital of the united states\tPredicted: <unk>, rich ,,,,,,,,,,,london. these each. not not not    \tRow: the <unk>a<unk><unk><unk>aeuropetheyinand\n",
      "Step 14102/150000\t\tLoss: 0.276047\t\tLR: 5e-05\n",
      "Original: the capital of the united states\tPredicted: <unk>, rich ,,,,,,,,,,,london. these each. not not not    \tRow: the <unk>a<unk><unk><unk>aeuropetheyinand\n",
      "Step 14252/150000\t\tLoss: 0.271738\t\tLR: 5e-05\n",
      "Original: the capital of the united states\tPredicted: <unk>,,, ,    important,lisbon,,   ,   madrided  madrid ed,important, \tRow: the <unk>a<unk><unk><unk>aeuropetheyinand\n",
      "Step 14402/150000\t\tLoss: 0.273206\t\tLR: 5e-05\n",
      "Original: the capital of the united states\tPredicted: <unk>, rich ,,,,,,,,,,,london. these each. not not not    \tRow: the <unk>a<unk><unk><unk>aeuropetheyinand\n",
      "Step 14552/150000\t\tLoss: 0.265593\t\tLR: 5e-05\n",
      "Original: the capital of the united states\tPredicted: <unk>, rich ,,,,,,,,,,,london. these each. not not not    \tRow: the <unk>a<unk><unk><unk>aeuropetheyinand\n",
      "Step 14702/150000\t\tLoss: 0.266639\t\tLR: 5e-05\n",
      "Original: the capital of the united states\tPredicted: <unk>, rich ,,,,,,,,,,,london. these each. not not not    \tRow: the <unk>a<unk><unk><unk>aeuropetheyinand\n",
      "Step 14852/150000\t\tLoss: 0.263113\t\tLR: 5e-05\n",
      "Original: the capital of the united states\tPredicted: <unk>, rich ,,,,,,,,,,,london. these each. not not not    \tRow: the <unk>a<unk><unk><unk>aeuropetheyinand\n",
      "Step 15002/150000\t\tLoss: 0.263186\t\tLR: 5e-05\n",
      "Original: the capital of the united states\tPredicted: <unk>, rich ,,,,,,,,,,,london. these each. not not not    \tRow: the <unk>a<unk><unk><unk>aeuropetheyinand\n",
      "Step 15152/150000\t\tLoss: 0.257532\t\tLR: 5e-05\n",
      "Original: the capital of the united states\tPredicted: <unk>, rich ,,,,,,,,,,,london. these each. together,  country .,,\tRow: the <unk>a<unk><unk><unk>aeuropetheyinand\n",
      "Step 15302/150000\t\tLoss: 0.259712\t\tLR: 5e-05\n",
      "Original: the capital of the united states\tPredicted: <unk>,,, ,    important,lisbon,,   ,    rich,of,ed.,.,.\tRow: the <unk>a<unk><unk><unk>aeuropetheyinand\n",
      "Step 15452/150000\t\tLoss: 0.254426\t\tLR: 5e-05\n",
      "Original: the capital of the united states\tPredicted: <unk>,,, ,    important,lisbon,,   ,    rich,of,ed.,.,.\tRow: the <unk>a<unk><unk><unk>aeuropetheyinand\n",
      "Step 15602/150000\t\tLoss: 0.257698\t\tLR: 5e-05\n",
      "Original: the capital of the united states\tPredicted: <unk>,,, ,    important,lisbon,,   ,    rich,of,ed.,.,.\tRow: the <unk>a<unk><unk><unk>aeuropetheyinand\n",
      "Step 15752/150000\t\tLoss: 0.257292\t\tLR: 5e-05\n",
      "Original: the capital of the united states\tPredicted: <unk>,,, ,    important,lisbon,,   ,    rich,of,ed.,.,.\tRow: the <unk>a<unk><unk><unk>aeuropetheyinand\n",
      "Step 15902/150000\t\tLoss: 0.246166\t\tLR: 5e-05\n",
      "Original: the capital of the united states\tPredicted: <unk>,,, ,    important,lisbon,,   ,    rich,of,ed.,.,.\tRow: the <unk>a<unk><unk><unk>aeuropetheyinand\n",
      "Step 16052/150000\t\tLoss: 0.246436\t\tLR: 5e-05\n",
      "Original: the capital of the united states\tPredicted: <unk>, rich ,,,,,,,,,,,london. these each. together,  together . together\tRow: the <unk>a<unk><unk><unk>aeuropetheyinand\n",
      "Step 16202/150000\t\tLoss: 0.247334\t\tLR: 5e-05\n",
      "Original: the capital of the united states\tPredicted: <unk>, rich ,,,,,,,,,,,london. these each. together,  together . together\tRow: the <unk>a<unk><unk><unk>aeuropetheyinand\n",
      "Step 16352/150000\t\tLoss: 0.250281\t\tLR: 5e-05\n",
      "Original: the capital of the united states\tPredicted: <unk>, rich ,,,,,,,,,,,london. these each. together,  country .,,\tRow: the <unk>a<unk><unk><unk>aeuropetheyinand\n",
      "Step 16502/150000\t\tLoss: 0.247218\t\tLR: 5e-05\n",
      "Original: the capital of the united states\tPredicted: <unk>,,, ,    important,lisbon,,,often, richoften,madrid,,,,s, in,,\tRow: the <unk>a<unk><unk><unk>aeuropetheyinand\n",
      "Step 16652/150000\t\tLoss: 0.244839\t\tLR: 5e-05\n",
      "Original: the capital of the united states\tPredicted: <unk>, rich ,,,,,,,,,,,london. these each. together,  together . together\tRow: the <unk>a<unk><unk><unk>aeuropetheyinand\n",
      "Step 16802/150000\t\tLoss: 0.245937\t\tLR: 5e-05\n",
      "Original: the capital of the united states\tPredicted: <unk>, rich ,,,,,,,,,,,london. these each. together,  together . together\tRow: the <unk>a<unk><unk><unk>aeuropetheyinand\n",
      "Step 16952/150000\t\tLoss: 0.242062\t\tLR: 5e-05\n",
      "Original: the capital of the united states\tPredicted: <unk>, rich ,,,,,,,,,,,london. these each. together,  together . together\tRow: the <unk>a<unk><unk><unk>aeuropetheyinand\n",
      "Step 17102/150000\t\tLoss: 0.242160\t\tLR: 5e-05\n",
      "Original: the capital of the united states\tPredicted: <unk>, rich ,,,,,,,,,,,london. these each. together,  together . together\tRow: the <unk>a<unk><unk><unk>aeuropetheyinand\n",
      "Step 17252/150000\t\tLoss: 0.249460\t\tLR: 5e-05\n",
      "Original: the capital of the united states\tPredicted: <unk>, rich ,,,,,,,,,,,london. these each. together,  together . together\tRow: the <unk>a<unk><unk><unk>aeuropetheyinand\n",
      "Step 17402/150000\t\tLoss: 0.246184\t\tLR: 5e-05\n",
      "Original: the capital of the united states\tPredicted: <unk>, rich ,,,,,,,,,,,london. these each together .,ised.s not\tRow: the <unk>a<unk><unk><unk>aeuropetheyinand\n",
      "Step 17552/150000\t\tLoss: 0.237952\t\tLR: 5e-05\n",
      "Original: the capital of the united states\tPredicted: <unk>, rich ,,,,,,,,,,,london. these each. together,  together . together\tRow: the <unk>a<unk><unk><unk>aeuropetheyinand\n",
      "Step 17702/150000\t\tLoss: 0.233801\t\tLR: 5e-05\n",
      "Original: the capital of the united states\tPredicted: <unk>, rich ,,,,,,,,,,,london. these each. together,  together . together\tRow: the <unk>a<unk><unk><unk>aeuropetheyinand\n",
      "Step 17852/150000\t\tLoss: 0.243948\t\tLR: 5e-05\n",
      "Original: the capital of the united states\tPredicted: <unk>, rich ,,,,,,,,,,,london. these each together ., the   mention\tRow: the <unk>a<unk><unk><unk>aeuropetheyinand\n",
      "Step 18002/150000\t\tLoss: 0.238389\t\tLR: 5e-05\n",
      "Original: the capital of the united states\tPredicted: <unk>, rich ,,,,,,,,,,,london. these each. together,  together . together\tRow: the <unk>a<unk><unk><unk>aeuropetheyinand\n",
      "Step 18152/150000\t\tLoss: 0.239600\t\tLR: 5e-05\n",
      "Original: the capital of the united states\tPredicted: <unk>, rich ,,,,,,,,,,,london. these each. together,  together . together\tRow: the <unk>a<unk><unk><unk>aeuropetheyinand\n",
      "Step 18302/150000\t\tLoss: 0.234767\t\tLR: 5e-05\n",
      "Original: the capital of the united states\tPredicted: <unk>, rich ,,,,,,,,,,,london. these each. together,  together . together\tRow: the <unk>a<unk><unk><unk>aeuropetheyinand\n",
      "Step 18452/150000\t\tLoss: 0.232050\t\tLR: 5e-05\n",
      "Original: the capital of the united states\tPredicted: <unk>, rich ,,,,,,,,,,,london. these each. together,  together . together\tRow: the <unk>a<unk><unk><unk>aeuropetheyinand\n",
      "Step 18602/150000\t\tLoss: 0.231664\t\tLR: 5e-05\n",
      "Original: the capital of the united states\tPredicted: <unk>, rich ,,,,,,,,,,,london. these each together ., the   mention\tRow: the <unk>a<unk><unk><unk>aeuropetheyinand\n",
      "Step 18752/150000\t\tLoss: 0.231403\t\tLR: 5e-05\n",
      "Original: the capital of the united states\tPredicted: <unk>, rich ,,,,,,,,,,,london. these each together ., the   mention\tRow: the <unk>a<unk><unk><unk>aeuropetheyinand\n",
      "Step 18902/150000\t\tLoss: 0.234681\t\tLR: 5e-05\n",
      "Original: the capital of the united states\tPredicted: <unk>, rich ,,,,,,,,,,,london. these each together ., the   mention\tRow: the <unk>a<unk><unk><unk>aeuropetheyinand\n",
      "Step 19052/150000\t\tLoss: 0.229459\t\tLR: 5e-05\n",
      "Original: the capital of the united states\tPredicted: <unk>, rich ,,,,,,,,,,,london. these each together ., the   mention\tRow: the <unk>a<unk><unk><unk>aeuropetheyinand\n",
      "Step 19202/150000\t\tLoss: 0.227646\t\tLR: 5e-05\n",
      "Original: the capital of the united states\tPredicted: <unk>, rich ,,,,,,,,,,,london. these each together ., the   mention\tRow: the <unk>a<unk><unk><unk>aeuropetheyinand\n",
      "Step 19352/150000\t\tLoss: 0.237486\t\tLR: 5e-05\n",
      "Original: the capital of the united states\tPredicted: <unk>, rich ,,,,,,,,,,,london. these each together ., the   mention\tRow: the <unk>a<unk><unk><unk>aeuropetheyinand\n",
      "Step 19502/150000\t\tLoss: 0.225167\t\tLR: 5e-05\n",
      "Original: the capital of the united states\tPredicted: <unk>, rich ,,,,,,,,,,,london. these each together ., the   mention\tRow: the <unk>a<unk><unk><unk>aeuropetheyinand\n",
      "Step 19652/150000\t\tLoss: 0.220877\t\tLR: 5e-05\n",
      "Original: the capital of the united states\tPredicted: <unk>, rich ,,,,,,,,,,,london. these each together ., the   mention\tRow: the <unk>a<unk><unk><unk>aeuropetheyinand\n",
      "Step 19802/150000\t\tLoss: 0.216975\t\tLR: 5e-05\n",
      "Original: the capital of the united states\tPredicted: <unk>, rich ,,,,,,,,,,,london. these each together ., the   together\tRow: the <unk>a<unk><unk><unk>aeuropetheyinand\n",
      "Step 19952/150000\t\tLoss: 0.223494\t\tLR: 5e-05\n",
      "Original: the capital of the united states\tPredicted: <unk>, rich ,,,,,,,,,,,london. these each together ., the   together\tRow: the <unk>a<unk><unk><unk>aeuropetheyinand\n",
      "Step 20102/150000\t\tLoss: 0.219273\t\tLR: 5e-05\n",
      "Original: the capital of the united states\tPredicted: <unk>,,, ,    rome rome   ,,edthe and madridand,, although ,,s\tRow: the <unk>a<unk><unk><unk>aeuropetheyinand\n",
      "Step 20252/150000\t\tLoss: 0.222585\t\tLR: 5e-05\n",
      "Original: the capital of the united states\tPredicted: <unk>, rich ,,,,,,,,,,,london. these each together ., the   mention\tRow: the <unk>a<unk><unk><unk>aeuropetheyinand\n",
      "Step 20402/150000\t\tLoss: 0.215022\t\tLR: 5e-05\n",
      "Original: the capital of the united states\tPredicted: <unk>,,, ,    rome rome   ,,edthe and madridand,, although ,,s\tRow: the <unk>a<unk><unk><unk>aeuropetheyinand\n",
      "Step 20552/150000\t\tLoss: 0.212717\t\tLR: 5e-05\n",
      "Original: the capital of the united states\tPredicted: <unk>, rich ,,,,,,,,,,,london. these each together ., the   together\tRow: the <unk>a<unk><unk><unk>aeuropetheyinand\n",
      "Step 20702/150000\t\tLoss: 0.212888\t\tLR: 5e-05\n",
      "Original: the capital of the united states\tPredicted: <unk>,,, ,    rome rome   ,,edthe and madridand,, although.  ,\tRow: the <unk>a<unk><unk><unk>aeuropetheyinand\n",
      "Step 20852/150000\t\tLoss: 0.208735\t\tLR: 5e-05\n",
      "Original: the capital of the united states\tPredicted: <unk>,,, ,    rome rome   ,,edthe and madridand,, although.  ,\tRow: the <unk>a<unk><unk><unk>aeuropetheyinand\n",
      "Step 21002/150000\t\tLoss: 0.211954\t\tLR: 5e-05\n",
      "Original: the capital of the united states\tPredicted: <unk>,,, ,    rome rome   ,,edthe and madridand,, although.  ,\tRow: the <unk>a<unk><unk><unk>aeuropetheyinand\n",
      "Step 21152/150000\t\tLoss: 0.209116\t\tLR: 5e-05\n",
      "Original: the capital of the united states\tPredicted: <unk>,,, ,    rome rome   ,,edthe and madridand,, although.  ,\tRow: the <unk>a<unk><unk><unk>aeuropetheyinand\n",
      "Step 21302/150000\t\tLoss: 0.208297\t\tLR: 5e-05\n",
      "Original: the capital of the united states\tPredicted: <unk>,,, ,    rome rome   ,,edthe and madridand,, although.  ,\tRow: the <unk>a<unk><unk><unk>aeuropetheyinand\n",
      "Step 21452/150000\t\tLoss: 0.210236\t\tLR: 5e-05\n",
      "Original: the capital of the united states\tPredicted: <unk>,,, ,    rome rome   ,,edthe and madridand,, although.  ,\tRow: the <unk>a<unk><unk><unk>aeuropetheyinand\n",
      "Step 21602/150000\t\tLoss: 0.207677\t\tLR: 5e-05\n",
      "Original: the capital of the united states\tPredicted: <unk>,,, ,    rome rome   ,,edthe and madridand,, although.  ,\tRow: the <unk>a<unk><unk><unk>aeuropetheyinand\n",
      "Step 21752/150000\t\tLoss: 0.202243\t\tLR: 5e-05\n",
      "Original: the capital of the united states\tPredicted: <unk>,,, ,    rome rome   ,,edthe and madridand,, although.  ,\tRow: the <unk>a<unk><unk><unk>aeuropetheyinand\n",
      "Step 21902/150000\t\tLoss: 0.205755\t\tLR: 5e-05\n",
      "Original: the capital of the united states\tPredicted: <unk>,,, ,    rome rome   ,,edand rome capital.each., important capital,\tRow: the <unk>a<unk><unk><unk>aeuropetheyinand\n",
      "Step 22052/150000\t\tLoss: 0.209847\t\tLR: 5e-05\n",
      "Original: the capital of the united states\tPredicted: <unk>,,, ,    rome rome   ,,edthe and madridand,, although.  culture\tRow: the <unk>a<unk><unk><unk>aeuropetheyinand\n",
      "Step 22202/150000\t\tLoss: 0.204073\t\tLR: 5e-05\n",
      "Original: the capital of the united states\tPredicted: <unk>,,, ,    rome rome   ,,edthe and are,. cultureeurope,ss.\tRow: the <unk>a<unk><unk><unk>aeuropetheyinand\n",
      "Step 22352/150000\t\tLoss: 0.203127\t\tLR: 5e-05\n",
      "Original: the capital of the united states\tPredicted: <unk>,,, ,    rome rome   ,,edand rome capital.each., important capital,\tRow: the <unk>a<unk><unk><unk>aeuropetheyinand\n",
      "Step 22502/150000\t\tLoss: 0.197982\t\tLR: 5e-05\n",
      "Original: the capital of the united states\tPredicted: <unk>,,, ,    rome rome,often , rome rome and,,edownunited known. berlin\tRow: the <unk>a<unk><unk><unk>aeuropetheyinand\n",
      "Step 22652/150000\t\tLoss: 0.206888\t\tLR: 5e-05\n",
      "Original: the capital of the united states\tPredicted: <unk>,,, ,    rome rome   ,,edthe and are,., culture,ed..\tRow: the <unk>a<unk><unk><unk>aeuropetheyinand\n",
      "Step 22802/150000\t\tLoss: 0.203144\t\tLR: 5e-05\n",
      "Original: the capital of the united states\tPredicted: <unk>,,, ,    rome rome   ,,edthe and are,. cultureeurope areed \tRow: the <unk>a<unk><unk><unk>aeuropetheyinand\n",
      "Step 22952/150000\t\tLoss: 0.197365\t\tLR: 5e-05\n",
      "Original: the capital of the united states\tPredicted: <unk>,,, ,    rome rome,often , rome and, andcultureof. europeanof,with \tRow: the <unk>a<unk><unk><unk>aeuropetheyinand\n",
      "Step 23102/150000\t\tLoss: 0.200488\t\tLR: 5e-05\n",
      "Original: the capital of the united states\tPredicted: <unk>,,, ,    rome rome,often , rome and, andcultureof. europeanof,with \tRow: the <unk>a<unk><unk><unk>aeuropetheyinand\n",
      "Step 23252/150000\t\tLoss: 0.201171\t\tLR: 5e-05\n",
      "Original: the capital of the united states\tPredicted: <unk>,,, ,    rome rome,often , rome and, andcultureof. europeanof,with \tRow: the <unk>a<unk><unk><unk>aeuropetheyinand\n",
      "Step 23402/150000\t\tLoss: 0.203704\t\tLR: 5e-05\n",
      "Original: the capital of the united states\tPredicted: <unk>,,, ,    rome rome,often , rome and, andcultureof. europeanof,with \tRow: the <unk>a<unk><unk><unk>aeuropetheyinand\n",
      "Step 23552/150000\t\tLoss: 0.202045\t\tLR: 5e-05\n",
      "Original: the capital of the united states\tPredicted: <unk>,,, ,    rome rome,often , rome and, andcultureof. europeanandof. \tRow: the <unk>a<unk><unk><unk>aeuropetheyinand\n",
      "Step 23702/150000\t\tLoss: 0.198338\t\tLR: 5e-05\n",
      "Original: the capital of the united states\tPredicted: <unk>,,, ,    rome rome,often , rome and, andculturealthough. identity, portugal,\tRow: the <unk>a<unk><unk><unk>aeuropetheyinand\n",
      "Step 23852/150000\t\tLoss: 0.193948\t\tLR: 5e-05\n",
      "Original: the capital of the united states\tPredicted: <unk>,,, ,    rome rome,often , rome and,the,s, identity.,, these\tRow: the <unk>a<unk><unk><unk>aeuropetheyinand\n",
      "Step 24002/150000\t\tLoss: 0.197939\t\tLR: 5e-05\n",
      "Original: the capital of the united states\tPredicted: <unk>,,, ,    rome rome,often , rome and,the,s, identity.,, these\tRow: the <unk>a<unk><unk><unk>aeuropetheyinand\n",
      "Step 24152/150000\t\tLoss: 0.198306\t\tLR: 5e-05\n",
      "Original: the capital of the united states\tPredicted: <unk>,,, ,    rome rome,often , rome and,the,s, identity.,, these\tRow: the <unk>a<unk><unk><unk>aeuropetheyinand\n",
      "Step 24302/150000\t\tLoss: 0.192022\t\tLR: 5e-05\n",
      "Original: the capital of the united states\tPredicted: <unk>,,, ,    rome rome,often , rome and,the,s, identity.,, these\tRow: the <unk>a<unk><unk><unk>aeuropetheyinand\n",
      "Step 24452/150000\t\tLoss: 0.196062\t\tLR: 5e-05\n",
      "Original: the capital of the united states\tPredicted: <unk>,,, ,    rome rome,often , rome and,the,s, identity.,, these\tRow: the <unk>a<unk><unk><unk>aeuropetheyinand\n",
      "Step 24602/150000\t\tLoss: 0.196991\t\tLR: 5e-05\n",
      "Original: the capital of the united states\tPredicted: <unk>, rich ,,,,,,,,,,,london. together. mention inlondoneuropecapital inand in\tRow: the <unk>a<unk><unk><unk>aeuropetheyinand\n",
      "Step 24752/150000\t\tLoss: 0.217503\t\tLR: 5e-05\n",
      "Original: the capital of the united states\tPredicted: <unk>,,, ,    rome rome,often , rome and,the,s, identity.,, these\tRow: the <unk>a<unk><unk><unk>aeuropetheyinand\n",
      "Step 24902/150000\t\tLoss: 0.197087\t\tLR: 5e-05\n",
      "Original: the capital of the united states\tPredicted: <unk>, rich ,,,,,,,,,,,london. together. mention inlondoneuropecapital inand in\tRow: the <unk>a<unk><unk><unk>aeuropetheyinand\n",
      "Step 25052/150000\t\tLoss: 0.206094\t\tLR: 5e-05\n",
      "Original: the capital of the united states\tPredicted: <unk>, rich ,,,,,,,,,,,london. together. mention althoughednot each   place\tRow: the <unk>a<unk><unk><unk>aeuropetheyinand\n",
      "Step 25202/150000\t\tLoss: 0.199542\t\tLR: 5e-05\n",
      "Original: the capital of the united states\tPredicted: <unk>, rich ,,,,,,,,,,,london. together. mention althoughednot each   place\tRow: the <unk>a<unk><unk><unk>aeuropetheyinand\n",
      "Step 25352/150000\t\tLoss: 0.193903\t\tLR: 5e-05\n",
      "Original: the capital of the united states\tPredicted: <unk>, rich ,,,,,,,,,,,london. together. mention althoughednot each   place\tRow: the <unk>a<unk><unk><unk>aeuropetheyinand\n",
      "Step 25502/150000\t\tLoss: 0.197857\t\tLR: 5e-05\n",
      "Original: the capital of the united states\tPredicted: <unk>, rich ,,,,,,,,,,,london. together. mention althoughednot each   place\tRow: the <unk>a<unk><unk><unk>aeuropetheyinand\n",
      "Step 25652/150000\t\tLoss: 0.193716\t\tLR: 5e-05\n",
      "Original: the capital of the united states\tPredicted: <unk>,,, ,    rome rome,often , rome rome,,,,,. and,,culture,\tRow: the <unk>a<unk><unk><unk>aeuropetheyinand\n",
      "Step 25802/150000\t\tLoss: 0.187128\t\tLR: 5e-05\n",
      "Original: the capital of the united states\tPredicted: <unk>,,, ,    rome madridrome...,,,,edlondoneach,.,, portugal,,,\tRow: the <unk>a<unk><unk><unk>aeuropetheyinand\n",
      "Step 25952/150000\t\tLoss: 0.189405\t\tLR: 5e-05\n",
      "Original: the capital of the united states\tPredicted: <unk>,,, ,    rome madridrome ,ed, madrid,edmadrid,   ,,,   \tRow: the <unk>a<unk><unk><unk>aeuropetheyinand\n",
      "Step 26102/150000\t\tLoss: 0.195009\t\tLR: 5e-05\n",
      "Original: the capital of the united states\tPredicted: <unk>,,, ,    rome madridrome...,,,,edlondoneach,.,, often. in\tRow: the <unk>a<unk><unk><unk>aeuropetheyinand\n",
      "Step 26252/150000\t\tLoss: 0.184513\t\tLR: 5e-05\n",
      "Original: the capital of the united states\tPredicted: <unk>,,, ,    rome madridrome...,,,,edlondoneach,.,, often. in\tRow: the <unk>a<unk><unk><unk>aeuropetheyinand\n",
      "Step 26402/150000\t\tLoss: 0.180421\t\tLR: 5e-05\n",
      "Original: the capital of the united states\tPredicted: <unk>,,, ,    rome madridrome...,,,,edlondoneach,.,, often. in\tRow: the <unk>a<unk><unk><unk>aeuropetheyinand\n",
      "Step 26552/150000\t\tLoss: 0.183651\t\tLR: 5e-05\n",
      "Original: the capital of the united states\tPredicted: <unk>,,, ,    rome madridrome...,,,,edlondoneach,.,, often. in\tRow: the <unk>a<unk><unk><unk>aeuropetheyinand\n",
      "Step 26702/150000\t\tLoss: 0.172205\t\tLR: 5e-05\n",
      "Original: the capital of the united states\tPredicted: <unk>,,, ,    rome madridrome...,,,,edlondoneach,.,, often. europe\tRow: the <unk>a<unk><unk><unk>aeuropetheyinand\n",
      "Step 26852/150000\t\tLoss: 0.185556\t\tLR: 5e-05\n",
      "Original: the capital of the united states\tPredicted: <unk>,,, ,    rome madridrome...,,,,edlondoneach,.,, often. europe\tRow: the <unk>a<unk><unk><unk>aeuropetheyinand\n",
      "Step 27002/150000\t\tLoss: 0.176502\t\tLR: 5e-05\n",
      "Original: the capital of the united states\tPredicted: <unk>,,, ,    rome madridrome. countryeuropean each. isiseach,cultureownlisbontogether edculture\tRow: the <unk>a<unk><unk><unk>aeuropetheyinand\n",
      "Step 27152/150000\t\tLoss: 0.177811\t\tLR: 5e-05\n",
      "Original: the capital of the united states\tPredicted: <unk>,,, ,    rome madridrome...,,,,edlondoneach,.,, often. these\tRow: the <unk>a<unk><unk><unk>aeuropetheyinand\n",
      "Step 27302/150000\t\tLoss: 0.180143\t\tLR: 5e-05\n",
      "Original: the capital of the united states\tPredicted: <unk>,,, ,    rome madridrome. madridtogether ,. madridtogethercultureoften togetherlondoneach. culture\tRow: the <unk>a<unk><unk><unk>aeuropetheyinand\n",
      "Step 27452/150000\t\tLoss: 0.178702\t\tLR: 5e-05\n",
      "Original: the capital of the united states\tPredicted: <unk>,,, ,    rome madridrome. countryeuropean each. isisitaly, italywashington ededculture\tRow: the <unk>a<unk><unk><unk>aeuropetheyinand\n"
     ]
    },
    {
     "ename": "KeyboardInterrupt",
     "evalue": "",
     "output_type": "error",
     "traceback": [
      "\u001b[31m---------------------------------------------------------------------------\u001b[39m",
      "\u001b[31mKeyboardInterrupt\u001b[39m                         Traceback (most recent call last)",
      "\u001b[36mCell\u001b[39m\u001b[36m \u001b[39m\u001b[32mIn[56]\u001b[39m\u001b[32m, line 33\u001b[39m\n\u001b[32m     29\u001b[39m torch.nn.utils.clip_grad_norm_(model.parameters(), max_norm=\u001b[32m1.0\u001b[39m)\n\u001b[32m     31\u001b[39m losses.append(loss.item())\n\u001b[32m---> \u001b[39m\u001b[32m33\u001b[39m \u001b[43moptimizer\u001b[49m\u001b[43m.\u001b[49m\u001b[43mstep\u001b[49m\u001b[43m(\u001b[49m\u001b[43m)\u001b[49m\n\u001b[32m     34\u001b[39m optimizer.zero_grad()\n\u001b[32m     37\u001b[39m loss = loss.item()\n",
      "\u001b[36mFile \u001b[39m\u001b[32m~/.pyenv/versions/3.13.3/lib/python3.13/site-packages/torch/optim/optimizer.py:485\u001b[39m, in \u001b[36mOptimizer.profile_hook_step.<locals>.wrapper\u001b[39m\u001b[34m(*args, **kwargs)\u001b[39m\n\u001b[32m    480\u001b[39m         \u001b[38;5;28;01melse\u001b[39;00m:\n\u001b[32m    481\u001b[39m             \u001b[38;5;28;01mraise\u001b[39;00m \u001b[38;5;167;01mRuntimeError\u001b[39;00m(\n\u001b[32m    482\u001b[39m                 \u001b[33mf\u001b[39m\u001b[33m\"\u001b[39m\u001b[38;5;132;01m{\u001b[39;00mfunc\u001b[38;5;132;01m}\u001b[39;00m\u001b[33m must return None or a tuple of (new_args, new_kwargs), but got \u001b[39m\u001b[38;5;132;01m{\u001b[39;00mresult\u001b[38;5;132;01m}\u001b[39;00m\u001b[33m.\u001b[39m\u001b[33m\"\u001b[39m\n\u001b[32m    483\u001b[39m             )\n\u001b[32m--> \u001b[39m\u001b[32m485\u001b[39m out = \u001b[43mfunc\u001b[49m\u001b[43m(\u001b[49m\u001b[43m*\u001b[49m\u001b[43margs\u001b[49m\u001b[43m,\u001b[49m\u001b[43m \u001b[49m\u001b[43m*\u001b[49m\u001b[43m*\u001b[49m\u001b[43mkwargs\u001b[49m\u001b[43m)\u001b[49m\n\u001b[32m    486\u001b[39m \u001b[38;5;28mself\u001b[39m._optimizer_step_code()\n\u001b[32m    488\u001b[39m \u001b[38;5;66;03m# call optimizer step post hooks\u001b[39;00m\n",
      "\u001b[36mFile \u001b[39m\u001b[32m~/.pyenv/versions/3.13.3/lib/python3.13/site-packages/torch/optim/optimizer.py:79\u001b[39m, in \u001b[36m_use_grad_for_differentiable.<locals>._use_grad\u001b[39m\u001b[34m(self, *args, **kwargs)\u001b[39m\n\u001b[32m     77\u001b[39m     torch.set_grad_enabled(\u001b[38;5;28mself\u001b[39m.defaults[\u001b[33m\"\u001b[39m\u001b[33mdifferentiable\u001b[39m\u001b[33m\"\u001b[39m])\n\u001b[32m     78\u001b[39m     torch._dynamo.graph_break()\n\u001b[32m---> \u001b[39m\u001b[32m79\u001b[39m     ret = \u001b[43mfunc\u001b[49m\u001b[43m(\u001b[49m\u001b[38;5;28;43mself\u001b[39;49m\u001b[43m,\u001b[49m\u001b[43m \u001b[49m\u001b[43m*\u001b[49m\u001b[43margs\u001b[49m\u001b[43m,\u001b[49m\u001b[43m \u001b[49m\u001b[43m*\u001b[49m\u001b[43m*\u001b[49m\u001b[43mkwargs\u001b[49m\u001b[43m)\u001b[49m\n\u001b[32m     80\u001b[39m \u001b[38;5;28;01mfinally\u001b[39;00m:\n\u001b[32m     81\u001b[39m     torch._dynamo.graph_break()\n",
      "\u001b[36mFile \u001b[39m\u001b[32m~/.pyenv/versions/3.13.3/lib/python3.13/site-packages/torch/optim/adam.py:246\u001b[39m, in \u001b[36mAdam.step\u001b[39m\u001b[34m(self, closure)\u001b[39m\n\u001b[32m    234\u001b[39m     beta1, beta2 = group[\u001b[33m\"\u001b[39m\u001b[33mbetas\u001b[39m\u001b[33m\"\u001b[39m]\n\u001b[32m    236\u001b[39m     has_complex = \u001b[38;5;28mself\u001b[39m._init_group(\n\u001b[32m    237\u001b[39m         group,\n\u001b[32m    238\u001b[39m         params_with_grad,\n\u001b[32m   (...)\u001b[39m\u001b[32m    243\u001b[39m         state_steps,\n\u001b[32m    244\u001b[39m     )\n\u001b[32m--> \u001b[39m\u001b[32m246\u001b[39m     \u001b[43madam\u001b[49m\u001b[43m(\u001b[49m\n\u001b[32m    247\u001b[39m \u001b[43m        \u001b[49m\u001b[43mparams_with_grad\u001b[49m\u001b[43m,\u001b[49m\n\u001b[32m    248\u001b[39m \u001b[43m        \u001b[49m\u001b[43mgrads\u001b[49m\u001b[43m,\u001b[49m\n\u001b[32m    249\u001b[39m \u001b[43m        \u001b[49m\u001b[43mexp_avgs\u001b[49m\u001b[43m,\u001b[49m\n\u001b[32m    250\u001b[39m \u001b[43m        \u001b[49m\u001b[43mexp_avg_sqs\u001b[49m\u001b[43m,\u001b[49m\n\u001b[32m    251\u001b[39m \u001b[43m        \u001b[49m\u001b[43mmax_exp_avg_sqs\u001b[49m\u001b[43m,\u001b[49m\n\u001b[32m    252\u001b[39m \u001b[43m        \u001b[49m\u001b[43mstate_steps\u001b[49m\u001b[43m,\u001b[49m\n\u001b[32m    253\u001b[39m \u001b[43m        \u001b[49m\u001b[43mamsgrad\u001b[49m\u001b[43m=\u001b[49m\u001b[43mgroup\u001b[49m\u001b[43m[\u001b[49m\u001b[33;43m\"\u001b[39;49m\u001b[33;43mamsgrad\u001b[39;49m\u001b[33;43m\"\u001b[39;49m\u001b[43m]\u001b[49m\u001b[43m,\u001b[49m\n\u001b[32m    254\u001b[39m \u001b[43m        \u001b[49m\u001b[43mhas_complex\u001b[49m\u001b[43m=\u001b[49m\u001b[43mhas_complex\u001b[49m\u001b[43m,\u001b[49m\n\u001b[32m    255\u001b[39m \u001b[43m        \u001b[49m\u001b[43mbeta1\u001b[49m\u001b[43m=\u001b[49m\u001b[43mbeta1\u001b[49m\u001b[43m,\u001b[49m\n\u001b[32m    256\u001b[39m \u001b[43m        \u001b[49m\u001b[43mbeta2\u001b[49m\u001b[43m=\u001b[49m\u001b[43mbeta2\u001b[49m\u001b[43m,\u001b[49m\n\u001b[32m    257\u001b[39m \u001b[43m        \u001b[49m\u001b[43mlr\u001b[49m\u001b[43m=\u001b[49m\u001b[43mgroup\u001b[49m\u001b[43m[\u001b[49m\u001b[33;43m\"\u001b[39;49m\u001b[33;43mlr\u001b[39;49m\u001b[33;43m\"\u001b[39;49m\u001b[43m]\u001b[49m\u001b[43m,\u001b[49m\n\u001b[32m    258\u001b[39m \u001b[43m        \u001b[49m\u001b[43mweight_decay\u001b[49m\u001b[43m=\u001b[49m\u001b[43mgroup\u001b[49m\u001b[43m[\u001b[49m\u001b[33;43m\"\u001b[39;49m\u001b[33;43mweight_decay\u001b[39;49m\u001b[33;43m\"\u001b[39;49m\u001b[43m]\u001b[49m\u001b[43m,\u001b[49m\n\u001b[32m    259\u001b[39m \u001b[43m        \u001b[49m\u001b[43meps\u001b[49m\u001b[43m=\u001b[49m\u001b[43mgroup\u001b[49m\u001b[43m[\u001b[49m\u001b[33;43m\"\u001b[39;49m\u001b[33;43meps\u001b[39;49m\u001b[33;43m\"\u001b[39;49m\u001b[43m]\u001b[49m\u001b[43m,\u001b[49m\n\u001b[32m    260\u001b[39m \u001b[43m        \u001b[49m\u001b[43mmaximize\u001b[49m\u001b[43m=\u001b[49m\u001b[43mgroup\u001b[49m\u001b[43m[\u001b[49m\u001b[33;43m\"\u001b[39;49m\u001b[33;43mmaximize\u001b[39;49m\u001b[33;43m\"\u001b[39;49m\u001b[43m]\u001b[49m\u001b[43m,\u001b[49m\n\u001b[32m    261\u001b[39m \u001b[43m        \u001b[49m\u001b[43mforeach\u001b[49m\u001b[43m=\u001b[49m\u001b[43mgroup\u001b[49m\u001b[43m[\u001b[49m\u001b[33;43m\"\u001b[39;49m\u001b[33;43mforeach\u001b[39;49m\u001b[33;43m\"\u001b[39;49m\u001b[43m]\u001b[49m\u001b[43m,\u001b[49m\n\u001b[32m    262\u001b[39m \u001b[43m        \u001b[49m\u001b[43mcapturable\u001b[49m\u001b[43m=\u001b[49m\u001b[43mgroup\u001b[49m\u001b[43m[\u001b[49m\u001b[33;43m\"\u001b[39;49m\u001b[33;43mcapturable\u001b[39;49m\u001b[33;43m\"\u001b[39;49m\u001b[43m]\u001b[49m\u001b[43m,\u001b[49m\n\u001b[32m    263\u001b[39m \u001b[43m        \u001b[49m\u001b[43mdifferentiable\u001b[49m\u001b[43m=\u001b[49m\u001b[43mgroup\u001b[49m\u001b[43m[\u001b[49m\u001b[33;43m\"\u001b[39;49m\u001b[33;43mdifferentiable\u001b[39;49m\u001b[33;43m\"\u001b[39;49m\u001b[43m]\u001b[49m\u001b[43m,\u001b[49m\n\u001b[32m    264\u001b[39m \u001b[43m        \u001b[49m\u001b[43mfused\u001b[49m\u001b[43m=\u001b[49m\u001b[43mgroup\u001b[49m\u001b[43m[\u001b[49m\u001b[33;43m\"\u001b[39;49m\u001b[33;43mfused\u001b[39;49m\u001b[33;43m\"\u001b[39;49m\u001b[43m]\u001b[49m\u001b[43m,\u001b[49m\n\u001b[32m    265\u001b[39m \u001b[43m        \u001b[49m\u001b[43mgrad_scale\u001b[49m\u001b[43m=\u001b[49m\u001b[38;5;28;43mgetattr\u001b[39;49m\u001b[43m(\u001b[49m\u001b[38;5;28;43mself\u001b[39;49m\u001b[43m,\u001b[49m\u001b[43m \u001b[49m\u001b[33;43m\"\u001b[39;49m\u001b[33;43mgrad_scale\u001b[39;49m\u001b[33;43m\"\u001b[39;49m\u001b[43m,\u001b[49m\u001b[43m \u001b[49m\u001b[38;5;28;43;01mNone\u001b[39;49;00m\u001b[43m)\u001b[49m\u001b[43m,\u001b[49m\n\u001b[32m    266\u001b[39m \u001b[43m        \u001b[49m\u001b[43mfound_inf\u001b[49m\u001b[43m=\u001b[49m\u001b[38;5;28;43mgetattr\u001b[39;49m\u001b[43m(\u001b[49m\u001b[38;5;28;43mself\u001b[39;49m\u001b[43m,\u001b[49m\u001b[43m \u001b[49m\u001b[33;43m\"\u001b[39;49m\u001b[33;43mfound_inf\u001b[39;49m\u001b[33;43m\"\u001b[39;49m\u001b[43m,\u001b[49m\u001b[43m \u001b[49m\u001b[38;5;28;43;01mNone\u001b[39;49;00m\u001b[43m)\u001b[49m\u001b[43m,\u001b[49m\n\u001b[32m    267\u001b[39m \u001b[43m        \u001b[49m\u001b[43mdecoupled_weight_decay\u001b[49m\u001b[43m=\u001b[49m\u001b[43mgroup\u001b[49m\u001b[43m[\u001b[49m\u001b[33;43m\"\u001b[39;49m\u001b[33;43mdecoupled_weight_decay\u001b[39;49m\u001b[33;43m\"\u001b[39;49m\u001b[43m]\u001b[49m\u001b[43m,\u001b[49m\n\u001b[32m    268\u001b[39m \u001b[43m    \u001b[49m\u001b[43m)\u001b[49m\n\u001b[32m    270\u001b[39m \u001b[38;5;28;01mreturn\u001b[39;00m loss\n",
      "\u001b[36mFile \u001b[39m\u001b[32m~/.pyenv/versions/3.13.3/lib/python3.13/site-packages/torch/optim/optimizer.py:147\u001b[39m, in \u001b[36m_disable_dynamo_if_unsupported.<locals>.wrapper.<locals>.maybe_fallback\u001b[39m\u001b[34m(*args, **kwargs)\u001b[39m\n\u001b[32m    145\u001b[39m     \u001b[38;5;28;01mreturn\u001b[39;00m disabled_func(*args, **kwargs)\n\u001b[32m    146\u001b[39m \u001b[38;5;28;01melse\u001b[39;00m:\n\u001b[32m--> \u001b[39m\u001b[32m147\u001b[39m     \u001b[38;5;28;01mreturn\u001b[39;00m \u001b[43mfunc\u001b[49m\u001b[43m(\u001b[49m\u001b[43m*\u001b[49m\u001b[43margs\u001b[49m\u001b[43m,\u001b[49m\u001b[43m \u001b[49m\u001b[43m*\u001b[49m\u001b[43m*\u001b[49m\u001b[43mkwargs\u001b[49m\u001b[43m)\u001b[49m\n",
      "\u001b[36mFile \u001b[39m\u001b[32m~/.pyenv/versions/3.13.3/lib/python3.13/site-packages/torch/optim/adam.py:933\u001b[39m, in \u001b[36madam\u001b[39m\u001b[34m(params, grads, exp_avgs, exp_avg_sqs, max_exp_avg_sqs, state_steps, foreach, capturable, differentiable, fused, grad_scale, found_inf, has_complex, decoupled_weight_decay, amsgrad, beta1, beta2, lr, weight_decay, eps, maximize)\u001b[39m\n\u001b[32m    930\u001b[39m \u001b[38;5;28;01melse\u001b[39;00m:\n\u001b[32m    931\u001b[39m     func = _single_tensor_adam\n\u001b[32m--> \u001b[39m\u001b[32m933\u001b[39m \u001b[43mfunc\u001b[49m\u001b[43m(\u001b[49m\n\u001b[32m    934\u001b[39m \u001b[43m    \u001b[49m\u001b[43mparams\u001b[49m\u001b[43m,\u001b[49m\n\u001b[32m    935\u001b[39m \u001b[43m    \u001b[49m\u001b[43mgrads\u001b[49m\u001b[43m,\u001b[49m\n\u001b[32m    936\u001b[39m \u001b[43m    \u001b[49m\u001b[43mexp_avgs\u001b[49m\u001b[43m,\u001b[49m\n\u001b[32m    937\u001b[39m \u001b[43m    \u001b[49m\u001b[43mexp_avg_sqs\u001b[49m\u001b[43m,\u001b[49m\n\u001b[32m    938\u001b[39m \u001b[43m    \u001b[49m\u001b[43mmax_exp_avg_sqs\u001b[49m\u001b[43m,\u001b[49m\n\u001b[32m    939\u001b[39m \u001b[43m    \u001b[49m\u001b[43mstate_steps\u001b[49m\u001b[43m,\u001b[49m\n\u001b[32m    940\u001b[39m \u001b[43m    \u001b[49m\u001b[43mamsgrad\u001b[49m\u001b[43m=\u001b[49m\u001b[43mamsgrad\u001b[49m\u001b[43m,\u001b[49m\n\u001b[32m    941\u001b[39m \u001b[43m    \u001b[49m\u001b[43mhas_complex\u001b[49m\u001b[43m=\u001b[49m\u001b[43mhas_complex\u001b[49m\u001b[43m,\u001b[49m\n\u001b[32m    942\u001b[39m \u001b[43m    \u001b[49m\u001b[43mbeta1\u001b[49m\u001b[43m=\u001b[49m\u001b[43mbeta1\u001b[49m\u001b[43m,\u001b[49m\n\u001b[32m    943\u001b[39m \u001b[43m    \u001b[49m\u001b[43mbeta2\u001b[49m\u001b[43m=\u001b[49m\u001b[43mbeta2\u001b[49m\u001b[43m,\u001b[49m\n\u001b[32m    944\u001b[39m \u001b[43m    \u001b[49m\u001b[43mlr\u001b[49m\u001b[43m=\u001b[49m\u001b[43mlr\u001b[49m\u001b[43m,\u001b[49m\n\u001b[32m    945\u001b[39m \u001b[43m    \u001b[49m\u001b[43mweight_decay\u001b[49m\u001b[43m=\u001b[49m\u001b[43mweight_decay\u001b[49m\u001b[43m,\u001b[49m\n\u001b[32m    946\u001b[39m \u001b[43m    \u001b[49m\u001b[43meps\u001b[49m\u001b[43m=\u001b[49m\u001b[43meps\u001b[49m\u001b[43m,\u001b[49m\n\u001b[32m    947\u001b[39m \u001b[43m    \u001b[49m\u001b[43mmaximize\u001b[49m\u001b[43m=\u001b[49m\u001b[43mmaximize\u001b[49m\u001b[43m,\u001b[49m\n\u001b[32m    948\u001b[39m \u001b[43m    \u001b[49m\u001b[43mcapturable\u001b[49m\u001b[43m=\u001b[49m\u001b[43mcapturable\u001b[49m\u001b[43m,\u001b[49m\n\u001b[32m    949\u001b[39m \u001b[43m    \u001b[49m\u001b[43mdifferentiable\u001b[49m\u001b[43m=\u001b[49m\u001b[43mdifferentiable\u001b[49m\u001b[43m,\u001b[49m\n\u001b[32m    950\u001b[39m \u001b[43m    \u001b[49m\u001b[43mgrad_scale\u001b[49m\u001b[43m=\u001b[49m\u001b[43mgrad_scale\u001b[49m\u001b[43m,\u001b[49m\n\u001b[32m    951\u001b[39m \u001b[43m    \u001b[49m\u001b[43mfound_inf\u001b[49m\u001b[43m=\u001b[49m\u001b[43mfound_inf\u001b[49m\u001b[43m,\u001b[49m\n\u001b[32m    952\u001b[39m \u001b[43m    \u001b[49m\u001b[43mdecoupled_weight_decay\u001b[49m\u001b[43m=\u001b[49m\u001b[43mdecoupled_weight_decay\u001b[49m\u001b[43m,\u001b[49m\n\u001b[32m    953\u001b[39m \u001b[43m\u001b[49m\u001b[43m)\u001b[49m\n",
      "\u001b[36mFile \u001b[39m\u001b[32m~/.pyenv/versions/3.13.3/lib/python3.13/site-packages/torch/optim/adam.py:456\u001b[39m, in \u001b[36m_single_tensor_adam\u001b[39m\u001b[34m(params, grads, exp_avgs, exp_avg_sqs, max_exp_avg_sqs, state_steps, grad_scale, found_inf, amsgrad, has_complex, beta1, beta2, lr, weight_decay, eps, maximize, capturable, differentiable, decoupled_weight_decay)\u001b[39m\n\u001b[32m    454\u001b[39m         exp_avg_sq.mul_(beta2).addcmul_(grad, grad, value=\u001b[32m1\u001b[39m - beta2)\n\u001b[32m    455\u001b[39m \u001b[38;5;28;01melse\u001b[39;00m:\n\u001b[32m--> \u001b[39m\u001b[32m456\u001b[39m     \u001b[43mexp_avg_sq\u001b[49m\u001b[43m.\u001b[49m\u001b[43mmul_\u001b[49m\u001b[43m(\u001b[49m\u001b[43mbeta2\u001b[49m\u001b[43m)\u001b[49m\u001b[43m.\u001b[49m\u001b[43maddcmul_\u001b[49m\u001b[43m(\u001b[49m\u001b[43mgrad\u001b[49m\u001b[43m,\u001b[49m\u001b[43m \u001b[49m\u001b[43mgrad\u001b[49m\u001b[43m,\u001b[49m\u001b[43m \u001b[49m\u001b[43mvalue\u001b[49m\u001b[43m=\u001b[49m\u001b[32;43m1\u001b[39;49m\u001b[43m \u001b[49m\u001b[43m-\u001b[49m\u001b[43m \u001b[49m\u001b[43mbeta2\u001b[49m\u001b[43m)\u001b[49m\n\u001b[32m    458\u001b[39m \u001b[38;5;28;01mif\u001b[39;00m capturable \u001b[38;5;129;01mor\u001b[39;00m differentiable:\n\u001b[32m    459\u001b[39m     step = step_t\n",
      "\u001b[31mKeyboardInterrupt\u001b[39m: "
     ]
    }
   ],
   "source": [
    "import torch.nn.functional as F\n",
    "\n",
    "batch_size = 32\n",
    "num_steps = 150000\n",
    "\n",
    "# Define the optimizer\n",
    "optimizer = torch.optim.Adam(model.parameters(), lr=5e-4)\n",
    "\n",
    "# Define Scheduler\n",
    "scheduler = torch.optim.lr_scheduler.ReduceLROnPlateau(optimizer, mode='min',factor=0.2, patience=20, min_lr=5e-5, threshold=1e-4)\n",
    "\n",
    "# Training loop\n",
    "i = 1\n",
    "losses = []\n",
    "\n",
    "train_inputs, train_targets, _, _ = get_dataset(100, test_config.seq_len, 0)\n",
    "\n",
    "while i < num_steps:\n",
    "    for j in range(0, len(train_inputs), batch_size):\n",
    "        x = train_inputs[j:j+batch_size]\n",
    "        y = train_targets[j:j+batch_size]\n",
    "\n",
    "        # Forward pass\n",
    "        logits = model(x)\n",
    "        loss = F.cross_entropy(logits.view(-1, logits.size(-1)), y.view(-1))\n",
    "        loss.backward()\n",
    "\n",
    "        # Gradient clipping\n",
    "        torch.nn.utils.clip_grad_norm_(model.parameters(), max_norm=1.0)\n",
    "\n",
    "        losses.append(loss.item())\n",
    "        \n",
    "        optimizer.step()\n",
    "        optimizer.zero_grad()\n",
    "    \n",
    "\n",
    "        loss = loss.item()\n",
    "        scheduler.step(loss)\n",
    "\n",
    "        # Print the average loss for the epoch\n",
    "        lr = optimizer.param_groups[0][\"lr\"]\n",
    "        if i % 150 == 1:\n",
    "            print(f\"Step {i+1}/{num_steps}\\t\\tLoss: {loss:.6f}\\t\\tLR: {lr}\")\n",
    "            print(f\"Original: {text[:test_config.seq_len]}\\tPredicted: {inference(text[0], max_new_tokens=test_config.seq_len)}\\tRow: {row_model_prediction}\")\n",
    "\n",
    "        i += 1\n"
   ]
  },
  {
   "cell_type": "code",
   "execution_count": 66,
   "metadata": {},
   "outputs": [
    {
     "data": {
      "text/plain": [
       "'and the capital of the united states rich madrid  rome, cultureromecapitaliss'"
      ]
     },
     "execution_count": 66,
     "metadata": {},
     "output_type": "execute_result"
    }
   ],
   "source": [
    "inference(\"and the capital of the united states\", max_new_tokens=14)"
   ]
  }
 ],
 "metadata": {
  "kernelspec": {
   "display_name": "Python 3",
   "language": "python",
   "name": "python3"
  },
  "language_info": {
   "codemirror_mode": {
    "name": "ipython",
    "version": 3
   },
   "file_extension": ".py",
   "mimetype": "text/x-python",
   "name": "python",
   "nbconvert_exporter": "python",
   "pygments_lexer": "ipython3",
   "version": "3.13.3"
  }
 },
 "nbformat": 4,
 "nbformat_minor": 2
}
