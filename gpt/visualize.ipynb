{
 "cells": [
  {
   "cell_type": "code",
   "execution_count": 1,
   "metadata": {},
   "outputs": [
    {
     "name": "stdout",
     "output_type": "stream",
     "text": [
      "[0, 14, 11, 29, 0, 23, 0, 29, 1, 0, 13, 30, 29, 0, 14, 11, 29, 0, 23, 0, 29, 1, 0, 13, 30]\n",
      "ali ata bak. ali ata bak.\n"
     ]
    }
   ],
   "source": [
    "from letter_tokenizer import tokenize, detokenize, letters\n",
    "\n",
    "text_example = \"ali ata bak. ali ata bak.\"\n",
    "tokens = tokenize(text_example)\n",
    "print(tokens)\n",
    "\n",
    "text = detokenize(tokens)\n",
    "print(text)"
   ]
  },
  {
   "cell_type": "code",
   "execution_count": 2,
   "metadata": {},
   "outputs": [
    {
     "name": "stdout",
     "output_type": "stream",
     "text": [
      "32\n"
     ]
    }
   ],
   "source": [
    "from gpt_config import GPTConfig\n",
    "\n",
    "test_config = GPTConfig(\n",
    "    vocab_size=32,\n",
    "    n_layer=1,  \n",
    "    n_head=1,\n",
    "    n_embd=3,\n",
    "    seq_len=12,\n",
    ")\n",
    "\n",
    "print(test_config.vocab_size)\n"
   ]
  },
  {
   "cell_type": "code",
   "execution_count": 3,
   "metadata": {},
   "outputs": [
    {
     "name": "stdout",
     "output_type": "stream",
     "text": [
      "mps\n"
     ]
    }
   ],
   "source": [
    "import torch\n",
    "\n",
    "device = 'cpu'\n",
    "\n",
    "if torch.cuda.is_available():\n",
    "    device = 'cuda'\n",
    "elif torch.backends.mps.is_available():\n",
    "    device = 'mps'\n",
    "\n",
    "print(device)\n"
   ]
  },
  {
   "cell_type": "code",
   "execution_count": 4,
   "metadata": {},
   "outputs": [
    {
     "name": "stdout",
     "output_type": "stream",
     "text": [
      "248\n"
     ]
    },
    {
     "data": {
      "text/plain": [
       "GPTModel(\n",
       "  (token_embedding): Embedding(32, 3)\n",
       "  (blocks): Sequential(\n",
       "    (0): GPTBlock(\n",
       "      (mha): MultiHeadAttention(\n",
       "        (attn_heads): ModuleList(\n",
       "          (0): CausalSelfAttention()\n",
       "        )\n",
       "        (projection): Linear(in_features=3, out_features=3, bias=True)\n",
       "      )\n",
       "      (ln1): LayerNorm((3,), eps=1e-05, elementwise_affine=True)\n",
       "    )\n",
       "  )\n",
       "  (ln_f): LayerNorm((3,), eps=1e-05, elementwise_affine=True)\n",
       "  (head): Linear(in_features=3, out_features=32, bias=True)\n",
       ")"
      ]
     },
     "execution_count": 4,
     "metadata": {},
     "output_type": "execute_result"
    }
   ],
   "source": [
    "from gpt_model import GPTModel\n",
    "\n",
    "torch.manual_seed(42)\n",
    "model = GPTModel(test_config, device)\n",
    "\n",
    "parameters_count = 0\n",
    "\n",
    "for p in model.parameters():\n",
    "    parameters_count += p.numel()\n",
    "\n",
    "print(parameters_count)\n",
    "model"
   ]
  },
  {
   "cell_type": "code",
   "execution_count": null,
   "metadata": {},
   "outputs": [],
   "source": []
  },
  {
   "cell_type": "code",
   "execution_count": 5,
   "metadata": {},
   "outputs": [
    {
     "data": {
      "text/plain": [
       "array([[ 1.926915  ,  1.4872842 ,  0.9007172 ],\n",
       "       [-2.1055214 ,  0.67841846, -1.234545  ],\n",
       "       [-0.04306748, -1.604667  , -0.7521362 ],\n",
       "       [ 1.6487229 , -0.39247864, -1.4036068 ],\n",
       "       [-0.72788125, -0.5594299 , -0.76883894],\n",
       "       [ 0.7624454 ,  1.6423169 , -0.15959732],\n",
       "       [-0.49739748,  0.43958923, -0.75813115],\n",
       "       [ 1.0783176 ,  0.8008005 ,  1.6806206 ],\n",
       "       [ 1.2791244 ,  1.2964228 ,  0.6104665 ],\n",
       "       [ 1.3347378 , -0.23162432,  0.04175949],\n",
       "       [-0.25157526,  0.8598585 , -1.3846742 ],\n",
       "       [-0.87123615, -0.22336593,  1.7173611 ],\n",
       "       [ 0.31887972, -0.42451897,  0.30572033],\n",
       "       [-0.7745925 , -1.5575722 ,  0.9956361 ],\n",
       "       [-0.87978584, -0.60114294, -1.2741514 ],\n",
       "       [ 2.122785  , -1.2346534 , -0.48791388],\n",
       "       [-0.913823  , -0.65813726,  0.07802387],\n",
       "       [ 0.52580875, -0.48799172,  1.1913692 ],\n",
       "       [-0.81400764, -0.73599285, -1.4032478 ],\n",
       "       [ 0.03600382, -0.06347727,  0.6756149 ],\n",
       "       [-0.09780689,  1.844594  , -1.1845374 ],\n",
       "       [ 1.3835493 ,  1.4451337 ,  0.8564126 ],\n",
       "       [ 2.2180758 ,  0.5231655 ,  0.34664667],\n",
       "       [-0.19733144, -1.0545899 ,  1.2779951 ],\n",
       "       [-0.17219082,  0.52378845,  0.05662182],\n",
       "       [ 0.42629614,  0.57500505, -0.64172417],\n",
       "       [-2.206398  , -0.75080365,  0.01086814],\n",
       "       [-0.3387426 , -1.3406799 , -0.58537054],\n",
       "       [ 0.5361882 ,  0.5246226 ,  1.1412016 ],\n",
       "       [ 0.05164365,  0.743952  , -0.48158428],\n",
       "       [-1.0494658 ,  0.6038988 , -1.722295  ],\n",
       "       [-0.82776886,  1.3347028 ,  0.48353925]], dtype=float32)"
      ]
     },
     "execution_count": 5,
     "metadata": {},
     "output_type": "execute_result"
    }
   ],
   "source": [
    "weights = model.token_embedding.weight.data.cpu().numpy()\n",
    "weights"
   ]
  },
  {
   "cell_type": "code",
   "execution_count": 6,
   "metadata": {},
   "outputs": [
    {
     "data": {
      "text/plain": [
       "array([[ 1.926915  ,  1.4872842 ,  0.9007172 ],\n",
       "       [-2.1055214 ,  0.67841846, -1.234545  ],\n",
       "       [-0.04306748, -1.604667  , -0.7521362 ],\n",
       "       [ 1.6487229 , -0.39247864, -1.4036068 ],\n",
       "       [-0.72788125, -0.5594299 , -0.76883894],\n",
       "       [ 0.7624454 ,  1.6423169 , -0.15959732],\n",
       "       [-0.49739748,  0.43958923, -0.75813115],\n",
       "       [ 1.0783176 ,  0.8008005 ,  1.6806206 ],\n",
       "       [ 1.2791244 ,  1.2964228 ,  0.6104665 ],\n",
       "       [ 1.3347378 , -0.23162432,  0.04175949],\n",
       "       [-0.25157526,  0.8598585 , -1.3846742 ],\n",
       "       [-0.87123615, -0.22336593,  1.7173611 ],\n",
       "       [ 0.31887972, -0.42451897,  0.30572033],\n",
       "       [-0.7745925 , -1.5575722 ,  0.9956361 ],\n",
       "       [-0.87978584, -0.60114294, -1.2741514 ],\n",
       "       [ 2.122785  , -1.2346534 , -0.48791388],\n",
       "       [-0.913823  , -0.65813726,  0.07802387],\n",
       "       [ 0.52580875, -0.48799172,  1.1913692 ],\n",
       "       [-0.81400764, -0.73599285, -1.4032478 ],\n",
       "       [ 0.03600382, -0.06347727,  0.6756149 ],\n",
       "       [-0.09780689,  1.844594  , -1.1845374 ],\n",
       "       [ 1.3835493 ,  1.4451337 ,  0.8564126 ],\n",
       "       [ 2.2180758 ,  0.5231655 ,  0.34664667],\n",
       "       [-0.19733144, -1.0545899 ,  1.2779951 ],\n",
       "       [-0.17219082,  0.52378845,  0.05662182],\n",
       "       [ 0.42629614,  0.57500505, -0.64172417],\n",
       "       [-2.206398  , -0.75080365,  0.01086814],\n",
       "       [-0.3387426 , -1.3406799 , -0.58537054],\n",
       "       [ 0.5361882 ,  0.5246226 ,  1.1412016 ],\n",
       "       [ 0.05164365,  0.743952  , -0.48158428],\n",
       "       [-1.0494658 ,  0.6038988 , -1.722295  ],\n",
       "       [-0.82776886,  1.3347028 ,  0.48353925]], dtype=float32)"
      ]
     },
     "execution_count": 6,
     "metadata": {},
     "output_type": "execute_result"
    }
   ],
   "source": [
    "weights = model.token_embedding.weight.data.cpu().numpy()\n",
    "weights"
   ]
  },
  {
   "cell_type": "code",
   "execution_count": 7,
   "metadata": {},
   "outputs": [
    {
     "data": {
      "application/vnd.plotly.v1+json": {
       "config": {
        "linkText": "Export to plot.ly",
        "plotlyServerURL": "https://plot.ly",
        "showLink": false
       },
       "data": [
        {
         "hoverinfo": "text",
         "marker": {
          "color": "blue",
          "size": 8
         },
         "mode": "markers+text",
         "text": [
          "a",
          "b",
          "c",
          "ç",
          "d",
          "e",
          "f",
          "g",
          "ğ",
          "h",
          "ı",
          "i",
          "j",
          "k",
          "l",
          "m",
          "n",
          "o",
          "ö",
          "p",
          "r",
          "s",
          "ş",
          "t",
          "u",
          "ü",
          "v",
          "y",
          "z",
          " ",
          ".",
          ","
         ],
         "type": "scatter3d",
         "x": {
          "bdata": "J6X2P93ABsCHZzC9WgnTP21WOr+fL0M/4qr+vlAGij9ZuqM/sNiqP3nOgL5VCV+/NESjPrJLRr+lOWG/ttsHQE7wab9nmwY/zmJQv794Ez37Tsi9JRixP/T0DUBBEUq+ylIwvn1D2j6gNQ3ArG+tvqFDCT9LiFM95VSGv6noU78=",
          "dtype": "f4"
         },
         "y": {
          "bdata": "VF++P9WsLT+6Zc2/9vLIvsw2D79xN9I/1xHhPkMBTT8v8aU/7S5tvrAfXD8KumS+jVrZvodex7+B5Bm/Hwmev697KL8N2vm+B2o8v18Agr2oG+w/JPq4Py3uBT/N/Ia/ABcGP4gzEz+rNEC/Zpurv6tNBj+jcz4/HZkaP4vXqj8=",
          "dtype": "f4"
         },
         "z": {
          "bdata": "Z5VmP5IFnr//i0C/Y6mzv6HSRL97bSO+4hRCv5Me1z+IRxw/AAwrPQE9sb990ts/YIecPgLifj9lF6O/2c/5vvvKnz3Jfpg/oJ2zvxn1LD/snpe/2z1bP6x7sT5YlaM/R+xnPQlIJL9NEDI82NoVv+USkj83kva+KnTcv3WS9z4=",
          "dtype": "f4"
         }
        }
       ],
       "layout": {
        "height": 800,
        "scene": {
         "xaxis": {
          "title": {
           "text": "X-axis"
          }
         },
         "yaxis": {
          "title": {
           "text": "Y-axis"
          }
         },
         "zaxis": {
          "title": {
           "text": "Z-axis"
          }
         }
        },
        "showlegend": false,
        "template": {
         "data": {
          "bar": [
           {
            "error_x": {
             "color": "#2a3f5f"
            },
            "error_y": {
             "color": "#2a3f5f"
            },
            "marker": {
             "line": {
              "color": "#E5ECF6",
              "width": 0.5
             },
             "pattern": {
              "fillmode": "overlay",
              "size": 10,
              "solidity": 0.2
             }
            },
            "type": "bar"
           }
          ],
          "barpolar": [
           {
            "marker": {
             "line": {
              "color": "#E5ECF6",
              "width": 0.5
             },
             "pattern": {
              "fillmode": "overlay",
              "size": 10,
              "solidity": 0.2
             }
            },
            "type": "barpolar"
           }
          ],
          "carpet": [
           {
            "aaxis": {
             "endlinecolor": "#2a3f5f",
             "gridcolor": "white",
             "linecolor": "white",
             "minorgridcolor": "white",
             "startlinecolor": "#2a3f5f"
            },
            "baxis": {
             "endlinecolor": "#2a3f5f",
             "gridcolor": "white",
             "linecolor": "white",
             "minorgridcolor": "white",
             "startlinecolor": "#2a3f5f"
            },
            "type": "carpet"
           }
          ],
          "choropleth": [
           {
            "colorbar": {
             "outlinewidth": 0,
             "ticks": ""
            },
            "type": "choropleth"
           }
          ],
          "contour": [
           {
            "colorbar": {
             "outlinewidth": 0,
             "ticks": ""
            },
            "colorscale": [
             [
              0,
              "#0d0887"
             ],
             [
              0.1111111111111111,
              "#46039f"
             ],
             [
              0.2222222222222222,
              "#7201a8"
             ],
             [
              0.3333333333333333,
              "#9c179e"
             ],
             [
              0.4444444444444444,
              "#bd3786"
             ],
             [
              0.5555555555555556,
              "#d8576b"
             ],
             [
              0.6666666666666666,
              "#ed7953"
             ],
             [
              0.7777777777777778,
              "#fb9f3a"
             ],
             [
              0.8888888888888888,
              "#fdca26"
             ],
             [
              1,
              "#f0f921"
             ]
            ],
            "type": "contour"
           }
          ],
          "contourcarpet": [
           {
            "colorbar": {
             "outlinewidth": 0,
             "ticks": ""
            },
            "type": "contourcarpet"
           }
          ],
          "heatmap": [
           {
            "colorbar": {
             "outlinewidth": 0,
             "ticks": ""
            },
            "colorscale": [
             [
              0,
              "#0d0887"
             ],
             [
              0.1111111111111111,
              "#46039f"
             ],
             [
              0.2222222222222222,
              "#7201a8"
             ],
             [
              0.3333333333333333,
              "#9c179e"
             ],
             [
              0.4444444444444444,
              "#bd3786"
             ],
             [
              0.5555555555555556,
              "#d8576b"
             ],
             [
              0.6666666666666666,
              "#ed7953"
             ],
             [
              0.7777777777777778,
              "#fb9f3a"
             ],
             [
              0.8888888888888888,
              "#fdca26"
             ],
             [
              1,
              "#f0f921"
             ]
            ],
            "type": "heatmap"
           }
          ],
          "histogram": [
           {
            "marker": {
             "pattern": {
              "fillmode": "overlay",
              "size": 10,
              "solidity": 0.2
             }
            },
            "type": "histogram"
           }
          ],
          "histogram2d": [
           {
            "colorbar": {
             "outlinewidth": 0,
             "ticks": ""
            },
            "colorscale": [
             [
              0,
              "#0d0887"
             ],
             [
              0.1111111111111111,
              "#46039f"
             ],
             [
              0.2222222222222222,
              "#7201a8"
             ],
             [
              0.3333333333333333,
              "#9c179e"
             ],
             [
              0.4444444444444444,
              "#bd3786"
             ],
             [
              0.5555555555555556,
              "#d8576b"
             ],
             [
              0.6666666666666666,
              "#ed7953"
             ],
             [
              0.7777777777777778,
              "#fb9f3a"
             ],
             [
              0.8888888888888888,
              "#fdca26"
             ],
             [
              1,
              "#f0f921"
             ]
            ],
            "type": "histogram2d"
           }
          ],
          "histogram2dcontour": [
           {
            "colorbar": {
             "outlinewidth": 0,
             "ticks": ""
            },
            "colorscale": [
             [
              0,
              "#0d0887"
             ],
             [
              0.1111111111111111,
              "#46039f"
             ],
             [
              0.2222222222222222,
              "#7201a8"
             ],
             [
              0.3333333333333333,
              "#9c179e"
             ],
             [
              0.4444444444444444,
              "#bd3786"
             ],
             [
              0.5555555555555556,
              "#d8576b"
             ],
             [
              0.6666666666666666,
              "#ed7953"
             ],
             [
              0.7777777777777778,
              "#fb9f3a"
             ],
             [
              0.8888888888888888,
              "#fdca26"
             ],
             [
              1,
              "#f0f921"
             ]
            ],
            "type": "histogram2dcontour"
           }
          ],
          "mesh3d": [
           {
            "colorbar": {
             "outlinewidth": 0,
             "ticks": ""
            },
            "type": "mesh3d"
           }
          ],
          "parcoords": [
           {
            "line": {
             "colorbar": {
              "outlinewidth": 0,
              "ticks": ""
             }
            },
            "type": "parcoords"
           }
          ],
          "pie": [
           {
            "automargin": true,
            "type": "pie"
           }
          ],
          "scatter": [
           {
            "fillpattern": {
             "fillmode": "overlay",
             "size": 10,
             "solidity": 0.2
            },
            "type": "scatter"
           }
          ],
          "scatter3d": [
           {
            "line": {
             "colorbar": {
              "outlinewidth": 0,
              "ticks": ""
             }
            },
            "marker": {
             "colorbar": {
              "outlinewidth": 0,
              "ticks": ""
             }
            },
            "type": "scatter3d"
           }
          ],
          "scattercarpet": [
           {
            "marker": {
             "colorbar": {
              "outlinewidth": 0,
              "ticks": ""
             }
            },
            "type": "scattercarpet"
           }
          ],
          "scattergeo": [
           {
            "marker": {
             "colorbar": {
              "outlinewidth": 0,
              "ticks": ""
             }
            },
            "type": "scattergeo"
           }
          ],
          "scattergl": [
           {
            "marker": {
             "colorbar": {
              "outlinewidth": 0,
              "ticks": ""
             }
            },
            "type": "scattergl"
           }
          ],
          "scattermap": [
           {
            "marker": {
             "colorbar": {
              "outlinewidth": 0,
              "ticks": ""
             }
            },
            "type": "scattermap"
           }
          ],
          "scattermapbox": [
           {
            "marker": {
             "colorbar": {
              "outlinewidth": 0,
              "ticks": ""
             }
            },
            "type": "scattermapbox"
           }
          ],
          "scatterpolar": [
           {
            "marker": {
             "colorbar": {
              "outlinewidth": 0,
              "ticks": ""
             }
            },
            "type": "scatterpolar"
           }
          ],
          "scatterpolargl": [
           {
            "marker": {
             "colorbar": {
              "outlinewidth": 0,
              "ticks": ""
             }
            },
            "type": "scatterpolargl"
           }
          ],
          "scatterternary": [
           {
            "marker": {
             "colorbar": {
              "outlinewidth": 0,
              "ticks": ""
             }
            },
            "type": "scatterternary"
           }
          ],
          "surface": [
           {
            "colorbar": {
             "outlinewidth": 0,
             "ticks": ""
            },
            "colorscale": [
             [
              0,
              "#0d0887"
             ],
             [
              0.1111111111111111,
              "#46039f"
             ],
             [
              0.2222222222222222,
              "#7201a8"
             ],
             [
              0.3333333333333333,
              "#9c179e"
             ],
             [
              0.4444444444444444,
              "#bd3786"
             ],
             [
              0.5555555555555556,
              "#d8576b"
             ],
             [
              0.6666666666666666,
              "#ed7953"
             ],
             [
              0.7777777777777778,
              "#fb9f3a"
             ],
             [
              0.8888888888888888,
              "#fdca26"
             ],
             [
              1,
              "#f0f921"
             ]
            ],
            "type": "surface"
           }
          ],
          "table": [
           {
            "cells": {
             "fill": {
              "color": "#EBF0F8"
             },
             "line": {
              "color": "white"
             }
            },
            "header": {
             "fill": {
              "color": "#C8D4E3"
             },
             "line": {
              "color": "white"
             }
            },
            "type": "table"
           }
          ]
         },
         "layout": {
          "annotationdefaults": {
           "arrowcolor": "#2a3f5f",
           "arrowhead": 0,
           "arrowwidth": 1
          },
          "autotypenumbers": "strict",
          "coloraxis": {
           "colorbar": {
            "outlinewidth": 0,
            "ticks": ""
           }
          },
          "colorscale": {
           "diverging": [
            [
             0,
             "#8e0152"
            ],
            [
             0.1,
             "#c51b7d"
            ],
            [
             0.2,
             "#de77ae"
            ],
            [
             0.3,
             "#f1b6da"
            ],
            [
             0.4,
             "#fde0ef"
            ],
            [
             0.5,
             "#f7f7f7"
            ],
            [
             0.6,
             "#e6f5d0"
            ],
            [
             0.7,
             "#b8e186"
            ],
            [
             0.8,
             "#7fbc41"
            ],
            [
             0.9,
             "#4d9221"
            ],
            [
             1,
             "#276419"
            ]
           ],
           "sequential": [
            [
             0,
             "#0d0887"
            ],
            [
             0.1111111111111111,
             "#46039f"
            ],
            [
             0.2222222222222222,
             "#7201a8"
            ],
            [
             0.3333333333333333,
             "#9c179e"
            ],
            [
             0.4444444444444444,
             "#bd3786"
            ],
            [
             0.5555555555555556,
             "#d8576b"
            ],
            [
             0.6666666666666666,
             "#ed7953"
            ],
            [
             0.7777777777777778,
             "#fb9f3a"
            ],
            [
             0.8888888888888888,
             "#fdca26"
            ],
            [
             1,
             "#f0f921"
            ]
           ],
           "sequentialminus": [
            [
             0,
             "#0d0887"
            ],
            [
             0.1111111111111111,
             "#46039f"
            ],
            [
             0.2222222222222222,
             "#7201a8"
            ],
            [
             0.3333333333333333,
             "#9c179e"
            ],
            [
             0.4444444444444444,
             "#bd3786"
            ],
            [
             0.5555555555555556,
             "#d8576b"
            ],
            [
             0.6666666666666666,
             "#ed7953"
            ],
            [
             0.7777777777777778,
             "#fb9f3a"
            ],
            [
             0.8888888888888888,
             "#fdca26"
            ],
            [
             1,
             "#f0f921"
            ]
           ]
          },
          "colorway": [
           "#636efa",
           "#EF553B",
           "#00cc96",
           "#ab63fa",
           "#FFA15A",
           "#19d3f3",
           "#FF6692",
           "#B6E880",
           "#FF97FF",
           "#FECB52"
          ],
          "font": {
           "color": "#2a3f5f"
          },
          "geo": {
           "bgcolor": "white",
           "lakecolor": "white",
           "landcolor": "#E5ECF6",
           "showlakes": true,
           "showland": true,
           "subunitcolor": "white"
          },
          "hoverlabel": {
           "align": "left"
          },
          "hovermode": "closest",
          "mapbox": {
           "style": "light"
          },
          "paper_bgcolor": "white",
          "plot_bgcolor": "#E5ECF6",
          "polar": {
           "angularaxis": {
            "gridcolor": "white",
            "linecolor": "white",
            "ticks": ""
           },
           "bgcolor": "#E5ECF6",
           "radialaxis": {
            "gridcolor": "white",
            "linecolor": "white",
            "ticks": ""
           }
          },
          "scene": {
           "xaxis": {
            "backgroundcolor": "#E5ECF6",
            "gridcolor": "white",
            "gridwidth": 2,
            "linecolor": "white",
            "showbackground": true,
            "ticks": "",
            "zerolinecolor": "white"
           },
           "yaxis": {
            "backgroundcolor": "#E5ECF6",
            "gridcolor": "white",
            "gridwidth": 2,
            "linecolor": "white",
            "showbackground": true,
            "ticks": "",
            "zerolinecolor": "white"
           },
           "zaxis": {
            "backgroundcolor": "#E5ECF6",
            "gridcolor": "white",
            "gridwidth": 2,
            "linecolor": "white",
            "showbackground": true,
            "ticks": "",
            "zerolinecolor": "white"
           }
          },
          "shapedefaults": {
           "line": {
            "color": "#2a3f5f"
           }
          },
          "ternary": {
           "aaxis": {
            "gridcolor": "white",
            "linecolor": "white",
            "ticks": ""
           },
           "baxis": {
            "gridcolor": "white",
            "linecolor": "white",
            "ticks": ""
           },
           "bgcolor": "#E5ECF6",
           "caxis": {
            "gridcolor": "white",
            "linecolor": "white",
            "ticks": ""
           }
          },
          "title": {
           "x": 0.05
          },
          "xaxis": {
           "automargin": true,
           "gridcolor": "white",
           "linecolor": "white",
           "ticks": "",
           "title": {
            "standoff": 15
           },
           "zerolinecolor": "white",
           "zerolinewidth": 2
          },
          "yaxis": {
           "automargin": true,
           "gridcolor": "white",
           "linecolor": "white",
           "ticks": "",
           "title": {
            "standoff": 15
           },
           "zerolinecolor": "white",
           "zerolinewidth": 2
          }
         }
        },
        "title": {
         "text": "Embedding Uzayı"
        },
        "width": 800
       }
      }
     },
     "metadata": {},
     "output_type": "display_data"
    }
   ],
   "source": [
    "# Create an interactive visualization using plotly\n",
    "import plotly.graph_objects as go\n",
    "import numpy as np\n",
    "import plotly.offline\n",
    "\n",
    "# Get the weights from the token embedding layer\n",
    "weights = model.token_embedding.weight.data.cpu().numpy()\n",
    "\n",
    "# Get labels of the points from letters\n",
    "labels = [letters[i] for i in range(32)]\n",
    "\n",
    "# Create the data for the 3D scatter plot\n",
    "data = [go.Scatter3d(\n",
    "    x=weights[:, 0],\n",
    "    y=weights[:, 1], \n",
    "    z=weights[:, 2],\n",
    "    mode='markers+text',\n",
    "    marker=dict(\n",
    "        size=8,\n",
    "        color='blue',\n",
    "    ),\n",
    "    text=labels,\n",
    "    hoverinfo='text'\n",
    ")]\n",
    "\n",
    "# Create the layout\n",
    "layout = go.Layout(\n",
    "    scene = dict(\n",
    "        xaxis_title='X-axis',\n",
    "        yaxis_title='Y-axis',\n",
    "        zaxis_title='Z-axis'\n",
    "    ),\n",
    "    width=800,\n",
    "    height=800,\n",
    "    showlegend=False,\n",
    "    title=\"Embedding Uzayı\"\n",
    ")\n",
    "\n",
    "\n",
    "# Create and render the plot\n",
    "plot_figure = go.Figure(data=data, layout=layout)\n",
    "plotly.offline.iplot(plot_figure)\n"
   ]
  },
  {
   "cell_type": "code",
   "execution_count": 8,
   "metadata": {},
   "outputs": [
    {
     "name": "stdout",
     "output_type": "stream",
     "text": [
      "Original:  ali ata bak.\n",
      "Predicted: aliy\n"
     ]
    }
   ],
   "source": [
    "def inference(prompt, max_new_tokens):\n",
    "    tokens = tokenize(prompt)\n",
    "    #print(\"tokens: \", tokens)\n",
    "    for _ in range(max_new_tokens):\n",
    "        num_tokens = len(tokens)\n",
    "        tokens_padded = tokens + [0] * (test_config.seq_len - num_tokens)\n",
    "        tokens_padded = torch.tensor(tokens_padded).unsqueeze(0).to(device)\n",
    "        # print(\"tokens_padded: \", tokens_padded)\n",
    "        logits = model(tokens_padded)\n",
    "        predicted_token = torch.argmax(logits[0, num_tokens-1, :]).item()\n",
    "        tokens.append(predicted_token)\n",
    "    return detokenize(tokens)\n",
    "\n",
    "print(\"Original: \", text_example[:test_config.seq_len])\n",
    "row_model_prediction = inference(text_example[:3], max_new_tokens=1)\n",
    "print(\"Predicted:\", row_model_prediction)"
   ]
  },
  {
   "cell_type": "code",
   "execution_count": 9,
   "metadata": {},
   "outputs": [
    {
     "name": "stdout",
     "output_type": "stream",
     "text": [
      "Input Shape torch.Size([1, 12])\n",
      "Output Shape torch.Size([1, 12])\n",
      "Input Example:\n",
      "tensor([[ 0, 14, 11, 29,  0, 23,  0, 29,  1,  0, 13, 30]], device='mps:0')\n",
      "Output Example:\n",
      "tensor([[14, 11, 29,  0, 23,  0, 29,  1,  0, 13, 30, 29]], device='mps:0')\n"
     ]
    }
   ],
   "source": [
    "with open(\"tr_texts_400.txt\", \"r\", encoding=\"utf-8\") as file:\n",
    "    tr_texts = file.read()\n",
    "\n",
    "# text_example = tr_texts\n",
    "\n",
    "tokenized_text = tokenize(text_example)\n",
    "\n",
    "def get_dataset(num_examples, context_window_length, test_split=0.1):\n",
    "    input_blocks = [] # List to store input sequences\n",
    "    target_blocks = [] # List to store target sequences\n",
    "\n",
    "    # Use a sliding window to create input/target sequences\n",
    "    for i in range(0, len(tokenized_text), context_window_length + 1):\n",
    "        block = tokenized_text[i:i+context_window_length+ 1]\n",
    "        \n",
    "        # Skip blocks that are too short\n",
    "        if len(block) < context_window_length + 1:\n",
    "            continue\n",
    "\n",
    "        input_seq = block[:-1]  \n",
    "        target_seq = block[1:]  \n",
    "\n",
    "        input_blocks.append(input_seq)\n",
    "        target_blocks.append(target_seq)\n",
    "        \n",
    "        # Stop if we have enough examples\n",
    "        if len(input_blocks) >= num_examples:\n",
    "            break\n",
    "\n",
    "    # Convert to tensors for pytorch and move to gpu\n",
    "    inputs = torch.tensor(input_blocks, dtype=torch.long).to(device)\n",
    "    targets = torch.tensor(target_blocks, dtype=torch.long).to(device)\n",
    "\n",
    "    # Calculate train/test split point\n",
    "    split_idx = int(num_examples * (1 - test_split))\n",
    "\n",
    "    # Split into train/test\n",
    "    train_inputs = inputs[:split_idx]\n",
    "    train_targets = targets[:split_idx]\n",
    "    test_inputs = inputs[split_idx:]\n",
    "    test_targets = targets[split_idx:]\n",
    "    return train_inputs, train_targets, test_inputs, test_targets\n",
    "\n",
    "# Get a small dataset\n",
    "i, o, _, _ = get_dataset(4, test_config.seq_len, 0)\n",
    "print(\"Input Shape\", i.shape)\n",
    "print(\"Output Shape\", o.shape)\n",
    "print(\"Input Example:\")\n",
    "print(i)\n",
    "print(\"Output Example:\")\n",
    "print(o)"
   ]
  },
  {
   "cell_type": "code",
   "execution_count": 13,
   "metadata": {},
   "outputs": [
    {
     "name": "stdout",
     "output_type": "stream",
     "text": [
      "Step 2/2000\t\tLoss: 0.499055\t\tLR: 0.005\n",
      "Original: ali ata bak.\tPredicted: ali k lltt l \tRow: aliy\n",
      "Step 152/2000\t\tLoss: 0.448248\t\tLR: 0.001\n",
      "Original: ali ata bak.\tPredicted: ali ata    li\tRow: aliy\n",
      "Step 302/2000\t\tLoss: 0.400409\t\tLR: 0.001\n",
      "Original: ali ata bak.\tPredicted: ali ata    li\tRow: aliy\n",
      "Step 452/2000\t\tLoss: 0.350008\t\tLR: 0.001\n",
      "Original: ali ata bak.\tPredicted: ali ata    li\tRow: aliy\n",
      "Step 602/2000\t\tLoss: 0.310131\t\tLR: 0.001\n",
      "Original: ali ata bak.\tPredicted: ali ata    li\tRow: aliy\n",
      "Step 752/2000\t\tLoss: 0.282662\t\tLR: 0.001\n",
      "Original: ali ata bak.\tPredicted: ali ata    li\tRow: aliy\n",
      "Step 902/2000\t\tLoss: 0.260312\t\tLR: 0.001\n",
      "Original: ali ata bak.\tPredicted: ali ata    li\tRow: aliy\n",
      "Step 1052/2000\t\tLoss: 0.246964\t\tLR: 0.001\n",
      "Original: ali ata bak.\tPredicted: ali ata    ll\tRow: aliy\n",
      "Step 1202/2000\t\tLoss: 0.226912\t\tLR: 0.001\n",
      "Original: ali ata bak.\tPredicted: ali ata    ll\tRow: aliy\n",
      "Step 1352/2000\t\tLoss: 0.208438\t\tLR: 0.001\n",
      "Original: ali ata bak.\tPredicted: ali ata    ll\tRow: aliy\n",
      "Step 1502/2000\t\tLoss: 0.190538\t\tLR: 0.001\n",
      "Original: ali ata bak.\tPredicted: ali ata  blkl\tRow: aliy\n",
      "Step 1652/2000\t\tLoss: 0.173319\t\tLR: 0.001\n",
      "Original: ali ata bak.\tPredicted: ali ata  blkl\tRow: aliy\n",
      "Step 1802/2000\t\tLoss: 0.155162\t\tLR: 0.001\n",
      "Original: ali ata bak.\tPredicted: ali ata bak. \tRow: aliy\n",
      "Step 1952/2000\t\tLoss: 0.112307\t\tLR: 0.001\n",
      "Original: ali ata bak.\tPredicted: ali ata bak. \tRow: aliy\n"
     ]
    }
   ],
   "source": [
    "import torch.nn.functional as F\n",
    "\n",
    "batch_size = 1\n",
    "num_steps = 2000\n",
    "\n",
    "# Define the optimizer\n",
    "optimizer = torch.optim.Adam(model.parameters(), lr=5e-3)\n",
    "\n",
    "# Define Scheduler\n",
    "scheduler = torch.optim.lr_scheduler.ReduceLROnPlateau(optimizer, mode='min',factor=0.2, patience=20, min_lr=5e-6, threshold=1e-4)\n",
    "\n",
    "# Training loop\n",
    "i = 1\n",
    "losses = []\n",
    "\n",
    "train_inputs, train_targets, _, _ = get_dataset(100, test_config.seq_len, 0)\n",
    "\n",
    "while i < num_steps:\n",
    "    for j in range(0, len(train_inputs), batch_size):\n",
    "        x = train_inputs[j:j+batch_size]\n",
    "        y = train_targets[j:j+batch_size]\n",
    "\n",
    "        # Forward pass\n",
    "        logits = model(x)\n",
    "        loss = F.cross_entropy(logits.view(-1, logits.size(-1)), y.view(-1))\n",
    "        loss.backward()\n",
    "\n",
    "        # Gradient clipping\n",
    "        torch.nn.utils.clip_grad_norm_(model.parameters(), max_norm=1.0)\n",
    "\n",
    "        losses.append(loss.item())\n",
    "        \n",
    "        optimizer.step()\n",
    "        optimizer.zero_grad()\n",
    "    \n",
    "\n",
    "        loss = loss.item()\n",
    "        scheduler.step(loss)\n",
    "\n",
    "   \n",
    "        # Print the average loss for the epoch\n",
    "        lr = optimizer.param_groups[0][\"lr\"]\n",
    "        if i % 150 == 1:\n",
    "            print(f\"Step {i+1}/{num_steps}\\t\\tLoss: {loss:.6f}\\t\\tLR: {lr}\")\n",
    "            print(f\"Original: {text_example[:test_config.seq_len]}\\tPredicted: {inference(text_example[0], max_new_tokens=test_config.seq_len)}\\tRow: {row_model_prediction}\")\n",
    "\n",
    "        i += 1\n"
   ]
  },
  {
   "cell_type": "code",
   "execution_count": null,
   "metadata": {},
   "outputs": [],
   "source": []
  },
  {
   "cell_type": "code",
   "execution_count": 14,
   "metadata": {},
   "outputs": [
    {
     "data": {
      "text/plain": [
       "'ali ata bak. '"
      ]
     },
     "execution_count": 14,
     "metadata": {},
     "output_type": "execute_result"
    }
   ],
   "source": [
    "inference(\"ali\", max_new_tokens=10)"
   ]
  }
 ],
 "metadata": {
  "kernelspec": {
   "display_name": "Python 3",
   "language": "python",
   "name": "python3"
  },
  "language_info": {
   "codemirror_mode": {
    "name": "ipython",
    "version": 3
   },
   "file_extension": ".py",
   "mimetype": "text/x-python",
   "name": "python",
   "nbconvert_exporter": "python",
   "pygments_lexer": "ipython3",
   "version": "3.13.3"
  }
 },
 "nbformat": 4,
 "nbformat_minor": 2
}
