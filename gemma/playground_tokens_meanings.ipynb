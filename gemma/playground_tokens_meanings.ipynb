{
 "cells": [
  {
   "cell_type": "code",
   "execution_count": 1,
   "metadata": {},
   "outputs": [
    {
     "name": "stderr",
     "output_type": "stream",
     "text": [
      "/Users/alibayram/.pyenv/versions/3.13.3/lib/python3.13/site-packages/tqdm/auto.py:21: TqdmWarning: IProgress not found. Please update jupyter and ipywidgets. See https://ipywidgets.readthedocs.io/en/stable/user_install.html\n",
      "  from .autonotebook import tqdm as notebook_tqdm\n"
     ]
    }
   ],
   "source": [
    "# Load model directly\n",
    "from transformers import AutoTokenizer, AutoModelForCausalLM\n",
    "\n",
    "tokenizer = AutoTokenizer.from_pretrained(\"google/gemma-3-1b-it\")\n",
    "model = AutoModelForCausalLM.from_pretrained(\"google/gemma-3-1b-it\")"
   ]
  },
  {
   "cell_type": "code",
   "execution_count": 29,
   "metadata": {},
   "outputs": [
    {
     "data": {
      "text/plain": [
       "Gemma3ForCausalLM(\n",
       "  (model): Gemma3TextModel(\n",
       "    (embed_tokens): Gemma3TextScaledWordEmbedding(262144, 1152, padding_idx=0)\n",
       "    (layers): ModuleList(\n",
       "      (0-25): 26 x Gemma3DecoderLayer(\n",
       "        (self_attn): Gemma3Attention(\n",
       "          (q_proj): Linear(in_features=1152, out_features=1024, bias=False)\n",
       "          (k_proj): Linear(in_features=1152, out_features=256, bias=False)\n",
       "          (v_proj): Linear(in_features=1152, out_features=256, bias=False)\n",
       "          (o_proj): Linear(in_features=1024, out_features=1152, bias=False)\n",
       "          (q_norm): Gemma3RMSNorm((256,), eps=1e-06)\n",
       "          (k_norm): Gemma3RMSNorm((256,), eps=1e-06)\n",
       "        )\n",
       "        (mlp): Gemma3MLP(\n",
       "          (gate_proj): Linear(in_features=1152, out_features=6912, bias=False)\n",
       "          (up_proj): Linear(in_features=1152, out_features=6912, bias=False)\n",
       "          (down_proj): Linear(in_features=6912, out_features=1152, bias=False)\n",
       "          (act_fn): PytorchGELUTanh()\n",
       "        )\n",
       "        (input_layernorm): Gemma3RMSNorm((1152,), eps=1e-06)\n",
       "        (post_attention_layernorm): Gemma3RMSNorm((1152,), eps=1e-06)\n",
       "        (pre_feedforward_layernorm): Gemma3RMSNorm((1152,), eps=1e-06)\n",
       "        (post_feedforward_layernorm): Gemma3RMSNorm((1152,), eps=1e-06)\n",
       "      )\n",
       "    )\n",
       "    (norm): Gemma3RMSNorm((1152,), eps=1e-06)\n",
       "    (rotary_emb): Gemma3RotaryEmbedding()\n",
       "    (rotary_emb_local): Gemma3RotaryEmbedding()\n",
       "  )\n",
       "  (lm_head): Linear(in_features=1152, out_features=262144, bias=False)\n",
       ")"
      ]
     },
     "execution_count": 29,
     "metadata": {},
     "output_type": "execute_result"
    }
   ],
   "source": [
    "model = model.eval()\n",
    "model"
   ]
  },
  {
   "cell_type": "code",
   "execution_count": 25,
   "metadata": {},
   "outputs": [
    {
     "data": {
      "text/plain": [
       "tensor([[     2,   4255,    743,  58434,  15274, 236767,  12135,   9079, 236764,\n",
       "         204411, 236789,   1926,  23115, 224506,   1381, 137104, 236743, 236770,\n",
       "         236832, 236771, 151409,    568, 236770, 236770, 236778,   4743, 236768]])"
      ]
     },
     "execution_count": 25,
     "metadata": {},
     "output_type": "execute_result"
    }
   ],
   "source": [
    "inputs = tokenizer.encode(\"Fransanın başkenti Paris, Fransa'da yer alır ve yaklaşık 170 kilometre (112 mil)\", return_tensors=\"pt\")\n",
    "inputs"
   ]
  },
  {
   "cell_type": "code",
   "execution_count": 26,
   "metadata": {},
   "outputs": [],
   "source": [
    "outputs = model.generate(inputs)\n"
   ]
  },
  {
   "cell_type": "code",
   "execution_count": 27,
   "metadata": {},
   "outputs": [
    {
     "data": {
      "text/plain": [
       "tensor([[     2,   4255,    743,  58434,  15274, 236767,  12135,   9079, 236764,\n",
       "         204411, 236789,   1926,  23115, 224506,   1381, 137104, 236743, 236770,\n",
       "         236832, 236771, 151409,    568, 236770, 236770, 236778,   4743, 236768,\n",
       "         119556,   3482,  35618,  81332, 128693, 113012, 236761,   9079, 236764,\n",
       "         120411, 236959,   2921, 227623, 236764,  23276,    980,  97230, 236752,\n",
       "         173787,   1381]])"
      ]
     },
     "execution_count": 27,
     "metadata": {},
     "output_type": "execute_result"
    }
   ],
   "source": [
    "outputs"
   ]
  },
  {
   "cell_type": "code",
   "execution_count": 30,
   "metadata": {},
   "outputs": [
    {
     "data": {
      "text/plain": [
       "['<bos>',\n",
       " 'Fr',\n",
       " 'ans',\n",
       " 'anın',\n",
       " '▁baş',\n",
       " 'k',\n",
       " 'enti',\n",
       " '▁Paris',\n",
       " ',',\n",
       " '▁Fransa',\n",
       " \"'\",\n",
       " 'da',\n",
       " '▁yer',\n",
       " '▁alır',\n",
       " '▁ve',\n",
       " '▁yaklaşık',\n",
       " '▁',\n",
       " '1',\n",
       " '7',\n",
       " '0',\n",
       " '▁kilometre',\n",
       " '▁(',\n",
       " '1',\n",
       " '1',\n",
       " '2',\n",
       " '▁mil',\n",
       " ')',\n",
       " 'ব্যাপী',\n",
       " '▁bir',\n",
       " '▁alan',\n",
       " '▁üzerine',\n",
       " '▁kurul',\n",
       " 'udur',\n",
       " '.',\n",
       " '▁Paris',\n",
       " ',',\n",
       " '▁kült',\n",
       " 'ü',\n",
       " 'rel',\n",
       " '▁miras',\n",
       " ',',\n",
       " '▁mim',\n",
       " 'ari',\n",
       " '▁çeşit',\n",
       " 'l',\n",
       " 'iliği',\n",
       " '▁ve']"
      ]
     },
     "execution_count": 30,
     "metadata": {},
     "output_type": "execute_result"
    }
   ],
   "source": [
    "tokenizer.convert_ids_to_tokens(outputs[0])"
   ]
  },
  {
   "cell_type": "code",
   "execution_count": 32,
   "metadata": {},
   "outputs": [
    {
     "data": {
      "text/plain": [
       "[2, 124766]"
      ]
     },
     "execution_count": 32,
     "metadata": {},
     "output_type": "execute_result"
    }
   ],
   "source": [
    "tokenizer.encode(\" geniş\")"
   ]
  },
  {
   "cell_type": "code",
   "execution_count": 28,
   "metadata": {},
   "outputs": [
    {
     "data": {
      "text/plain": [
       "\"<bos>Fransanın başkenti Paris, Fransa'da yer alır ve yaklaşık 170 kilometre (112 mil)ব্যাপী bir alan üzerine kuruludur. Paris, kültürel miras, mimari çeşitliliği ve\""
      ]
     },
     "execution_count": 28,
     "metadata": {},
     "output_type": "execute_result"
    }
   ],
   "source": [
    "tokenizer.decode(outputs[0])"
   ]
  },
  {
   "cell_type": "markdown",
   "metadata": {},
   "source": [
    "## Burada ilginç bir durum oldu, model anlam olarak yakın başka dildeki bir tokeni next token olarak seçti. Bu da bizim daha önce tartıştığımız anlamsal olarak tokenlerin diğer dillere çevrilebilirliği ile ilgili.\"<bos>Fransanın başkenti Paris, Fransa'da yer alır ve yaklaşık 170 kilometre (112 mil)ব্যাপী bir alan üzerine kuruludur. Paris, kültürel miras, mimari çeşitliliği ve\" ব্যাপী kelimesi Bangali dilinde geniş anlamına geliyor."
   ]
  },
  {
   "cell_type": "code",
   "execution_count": null,
   "metadata": {},
   "outputs": [],
   "source": []
  },
  {
   "cell_type": "code",
   "execution_count": 12,
   "metadata": {},
   "outputs": [
    {
     "name": "stdout",
     "output_type": "stream",
     "text": [
      "33\n",
      "262144\n",
      "33\n"
     ]
    }
   ],
   "source": [
    "from config import GemmaConfig, Architecture, AttentionType, get_config_for_1b\n",
    "\n",
    "\n",
    "test_config = GemmaConfig(\n",
    "  architecture=Architecture.GEMMA_3,\n",
    "  num_hidden_layers=1,\n",
    "  num_attention_heads=1,\n",
    "  num_key_value_heads=1,\n",
    "  hidden_size=3,\n",
    "  intermediate_size=3,\n",
    "  use_pre_ffw_norm=True,\n",
    "  use_post_ffw_norm=True,\n",
    "  head_dim=3,\n",
    "\n",
    "  sliding_window_size=4,\n",
    "  rope_wave_length={\n",
    "    AttentionType.LOCAL_SLIDING: 10,\n",
    "    AttentionType.GLOBAL: 100,\n",
    "  },\n",
    "  vocab_size=tokenizer.vocab_size,\n",
    "  max_position_embeddings=12,\n",
    "  tokenizer=tokenizer,\n",
    "  use_qk_norm=True,\n",
    "  vision_config=None\n",
    ")\n",
    "\n",
    "print(test_config.vocab_size)\n",
    "\n",
    "test_config = get_config_for_1b(dtype='float32')\n",
    "print(test_config.vocab_size)\n",
    "\n",
    "test_config.tokenizer = tokenizer\n",
    "test_config.vocab_size = tokenizer.vocab_size\n",
    "print(test_config.vocab_size)\n"
   ]
  },
  {
   "cell_type": "code",
   "execution_count": 13,
   "metadata": {},
   "outputs": [
    {
     "name": "stdout",
     "output_type": "stream",
     "text": [
      "cpu\n"
     ]
    }
   ],
   "source": [
    "import torch\n",
    "\n",
    "device = 'cpu'\n",
    "\n",
    "if torch.cuda.is_available():\n",
    "    device = 'cuda'\n",
    "\"\"\" elif torch.backends.mps.is_available():\n",
    "    device = 'mps' \"\"\"\n",
    "\n",
    "print(device)"
   ]
  },
  {
   "cell_type": "code",
   "execution_count": null,
   "metadata": {},
   "outputs": [],
   "source": []
  },
  {
   "cell_type": "code",
   "execution_count": 14,
   "metadata": {},
   "outputs": [
    {
     "data": {
      "text/plain": [
       "GemmaForCausalLM(\n",
       "  (embedder): Embedding()\n",
       "  (model): GemmaModel(\n",
       "    (layers): ModuleList(\n",
       "      (0-25): 26 x Gemma2DecoderLayer(\n",
       "        (self_attn): GemmaAttention(\n",
       "          (qkv_proj): Linear()\n",
       "          (o_proj): Linear()\n",
       "          (query_norm): RMSNorm()\n",
       "          (key_norm): RMSNorm()\n",
       "        )\n",
       "        (mlp): GemmaMLP(\n",
       "          (gate_proj): Linear()\n",
       "          (up_proj): Linear()\n",
       "          (down_proj): Linear()\n",
       "        )\n",
       "        (input_layernorm): RMSNorm()\n",
       "        (post_attention_layernorm): RMSNorm()\n",
       "        (pre_feedforward_layernorm): RMSNorm()\n",
       "        (post_feedforward_layernorm): RMSNorm()\n",
       "      )\n",
       "    )\n",
       "    (norm): RMSNorm()\n",
       "  )\n",
       "  (sampler): Sampler()\n",
       ")"
      ]
     },
     "execution_count": 14,
     "metadata": {},
     "output_type": "execute_result"
    }
   ],
   "source": [
    "from model import GemmaForCausalLM\n",
    "model = GemmaForCausalLM(test_config)\n",
    "model.to(device)\n",
    "model"
   ]
  },
  {
   "cell_type": "code",
   "execution_count": 15,
   "metadata": {},
   "outputs": [
    {
     "name": "stdout",
     "output_type": "stream",
     "text": [
      "x:  torch.Size([1, 1, 4, 256])\n",
      "freqs_cis:  torch.Size([1, 128])\n",
      "x:  torch.Size([1, 1, 1, 256])\n",
      "freqs_cis:  torch.Size([1, 128])\n",
      "x:  torch.Size([1, 1, 4, 256])\n",
      "freqs_cis:  torch.Size([1, 128])\n",
      "x:  torch.Size([1, 1, 1, 256])\n",
      "freqs_cis:  torch.Size([1, 128])\n",
      "x:  torch.Size([1, 1, 4, 256])\n",
      "freqs_cis:  torch.Size([1, 128])\n",
      "x:  torch.Size([1, 1, 1, 256])\n",
      "freqs_cis:  torch.Size([1, 128])\n",
      "x:  torch.Size([1, 1, 4, 256])\n",
      "freqs_cis:  torch.Size([1, 128])\n",
      "x:  torch.Size([1, 1, 1, 256])\n",
      "freqs_cis:  torch.Size([1, 128])\n",
      "x:  torch.Size([1, 1, 4, 256])\n",
      "freqs_cis:  torch.Size([1, 128])\n",
      "x:  torch.Size([1, 1, 1, 256])\n",
      "freqs_cis:  torch.Size([1, 128])\n",
      "x:  torch.Size([1, 1, 4, 256])\n",
      "freqs_cis:  torch.Size([1, 128])\n",
      "x:  torch.Size([1, 1, 1, 256])\n",
      "freqs_cis:  torch.Size([1, 128])\n",
      "x:  torch.Size([1, 1, 4, 256])\n",
      "freqs_cis:  torch.Size([1, 128])\n",
      "x:  torch.Size([1, 1, 1, 256])\n",
      "freqs_cis:  torch.Size([1, 128])\n",
      "x:  torch.Size([1, 1, 4, 256])\n",
      "freqs_cis:  torch.Size([1, 128])\n",
      "x:  torch.Size([1, 1, 1, 256])\n",
      "freqs_cis:  torch.Size([1, 128])\n",
      "x:  torch.Size([1, 1, 4, 256])\n",
      "freqs_cis:  torch.Size([1, 128])\n",
      "x:  torch.Size([1, 1, 1, 256])\n",
      "freqs_cis:  torch.Size([1, 128])\n",
      "x:  torch.Size([1, 1, 4, 256])\n",
      "freqs_cis:  torch.Size([1, 128])\n",
      "x:  torch.Size([1, 1, 1, 256])\n",
      "freqs_cis:  torch.Size([1, 128])\n",
      "x:  torch.Size([1, 1, 4, 256])\n",
      "freqs_cis:  torch.Size([1, 128])\n",
      "x:  torch.Size([1, 1, 1, 256])\n",
      "freqs_cis:  torch.Size([1, 128])\n",
      "x:  torch.Size([1, 1, 4, 256])\n",
      "freqs_cis:  torch.Size([1, 128])\n",
      "x:  torch.Size([1, 1, 1, 256])\n",
      "freqs_cis:  torch.Size([1, 128])\n",
      "x:  torch.Size([1, 1, 4, 256])\n",
      "freqs_cis:  torch.Size([1, 128])\n",
      "x:  torch.Size([1, 1, 1, 256])\n",
      "freqs_cis:  torch.Size([1, 128])\n",
      "x:  torch.Size([1, 1, 4, 256])\n",
      "freqs_cis:  torch.Size([1, 128])\n",
      "x:  torch.Size([1, 1, 1, 256])\n",
      "freqs_cis:  torch.Size([1, 128])\n",
      "x:  torch.Size([1, 1, 4, 256])\n",
      "freqs_cis:  torch.Size([1, 128])\n",
      "x:  torch.Size([1, 1, 1, 256])\n",
      "freqs_cis:  torch.Size([1, 128])\n",
      "x:  torch.Size([1, 1, 4, 256])\n",
      "freqs_cis:  torch.Size([1, 128])\n",
      "x:  torch.Size([1, 1, 1, 256])\n",
      "freqs_cis:  torch.Size([1, 128])\n",
      "x:  torch.Size([1, 1, 4, 256])\n",
      "freqs_cis:  torch.Size([1, 128])\n",
      "x:  torch.Size([1, 1, 1, 256])\n",
      "freqs_cis:  torch.Size([1, 128])\n",
      "x:  torch.Size([1, 1, 4, 256])\n",
      "freqs_cis:  torch.Size([1, 128])\n",
      "x:  torch.Size([1, 1, 1, 256])\n",
      "freqs_cis:  torch.Size([1, 128])\n",
      "x:  torch.Size([1, 1, 4, 256])\n",
      "freqs_cis:  torch.Size([1, 128])\n",
      "x:  torch.Size([1, 1, 1, 256])\n",
      "freqs_cis:  torch.Size([1, 128])\n",
      "x:  torch.Size([1, 1, 4, 256])\n",
      "freqs_cis:  torch.Size([1, 128])\n",
      "x:  torch.Size([1, 1, 1, 256])\n",
      "freqs_cis:  torch.Size([1, 128])\n",
      "x:  torch.Size([1, 1, 4, 256])\n",
      "freqs_cis:  torch.Size([1, 128])\n",
      "x:  torch.Size([1, 1, 1, 256])\n",
      "freqs_cis:  torch.Size([1, 128])\n",
      "x:  torch.Size([1, 1, 4, 256])\n",
      "freqs_cis:  torch.Size([1, 128])\n",
      "x:  torch.Size([1, 1, 1, 256])\n",
      "freqs_cis:  torch.Size([1, 128])\n",
      "x:  torch.Size([1, 1, 4, 256])\n",
      "freqs_cis:  torch.Size([1, 128])\n",
      "x:  torch.Size([1, 1, 1, 256])\n",
      "freqs_cis:  torch.Size([1, 128])\n",
      "x:  torch.Size([1, 1, 4, 256])\n",
      "freqs_cis:  torch.Size([1, 128])\n",
      "x:  torch.Size([1, 1, 1, 256])\n",
      "freqs_cis:  torch.Size([1, 128])\n",
      "x:  torch.Size([1, 1, 4, 256])\n",
      "freqs_cis:  torch.Size([1, 128])\n",
      "x:  torch.Size([1, 1, 1, 256])\n",
      "freqs_cis:  torch.Size([1, 128])\n",
      "x:  torch.Size([1, 1, 4, 256])\n",
      "freqs_cis:  torch.Size([1, 128])\n",
      "x:  torch.Size([1, 1, 1, 256])\n",
      "freqs_cis:  torch.Size([1, 128])\n",
      "probs:  torch.Size([1, 33]) tensor([[0.0312, 0.0312, 0.0312, 0.0312, 0.0312, 0.0312, 0.0312, 0.0312, 0.0312,\n",
      "         0.0312, 0.0312, 0.0312, 0.0312, 0.0312, 0.0312, 0.0312, 0.0312, 0.0312,\n",
      "         0.0312, 0.0312, 0.0312, 0.0312, 0.0312, 0.0312, 0.0312, 0.0312, 0.0312,\n",
      "         0.0312, 0.0312, 0.0312, 0.0312, 0.0312, 0.0000]])\n"
     ]
    },
    {
     "data": {
      "text/plain": [
       "'j'"
      ]
     },
     "execution_count": 15,
     "metadata": {},
     "output_type": "execute_result"
    }
   ],
   "source": [
    "model.generate(\"a\", device=device, output_len=1)"
   ]
  }
 ],
 "metadata": {
  "kernelspec": {
   "display_name": "Python 3",
   "language": "python",
   "name": "python3"
  },
  "language_info": {
   "codemirror_mode": {
    "name": "ipython",
    "version": 3
   },
   "file_extension": ".py",
   "mimetype": "text/x-python",
   "name": "python",
   "nbconvert_exporter": "python",
   "pygments_lexer": "ipython3",
   "version": "3.13.3"
  }
 },
 "nbformat": 4,
 "nbformat_minor": 2
}
