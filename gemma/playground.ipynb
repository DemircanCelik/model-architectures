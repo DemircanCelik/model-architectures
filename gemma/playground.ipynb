{
 "cells": [
  {
   "cell_type": "code",
   "execution_count": 4,
   "metadata": {},
   "outputs": [
    {
     "name": "stdout",
     "output_type": "stream",
     "text": [
      "[0, 14, 11, 29, 0, 23, 0, 29, 1, 0, 13, 30, 29, 0, 14, 11, 29, 0, 23, 0, 29, 1, 0, 13, 30]\n"
     ]
    }
   ],
   "source": [
    "from letter_tokenizer import tokenize, detokenize, letters\n",
    "\n",
    "example_text = \"ali ata bak. ali ata bak.\"\n",
    "\n",
    "print(tokenize(example_text))\n"
   ]
  },
  {
   "cell_type": "code",
   "execution_count": 8,
   "metadata": {},
   "outputs": [
    {
     "name": "stdout",
     "output_type": "stream",
     "text": [
      "32\n"
     ]
    }
   ],
   "source": [
    "from config import GemmaConfig, Architecture, AttentionType\n",
    "\n",
    "test_config = GemmaConfig(\n",
    "  architecture=Architecture.GEMMA_3,\n",
    "  num_hidden_layers=1,\n",
    "  num_attention_heads=1,\n",
    "  num_key_value_heads=1,\n",
    "  hidden_size=3,\n",
    "  intermediate_size=3,\n",
    "  use_pre_ffw_norm=True,\n",
    "  use_post_ffw_norm=True,\n",
    "  head_dim=3,\n",
    "  attn_types=(\n",
    "    AttentionType.LOCAL_SLIDING,\n",
    "    AttentionType.LOCAL_SLIDING,\n",
    "    AttentionType.LOCAL_SLIDING,\n",
    "    AttentionType.LOCAL_SLIDING,\n",
    "    AttentionType.LOCAL_SLIDING,\n",
    "    AttentionType.GLOBAL,\n",
    "  ),\n",
    "  sliding_window_size=4,\n",
    "  rope_wave_length={\n",
    "    AttentionType.LOCAL_SLIDING: 10_000,\n",
    "    AttentionType.GLOBAL: 1_000_000,\n",
    "  },\n",
    "  vocab_size=32,\n",
    "  max_position_embeddings=12,\n",
    "  tokenizer=None,\n",
    "  use_qk_norm=True,\n",
    "  vision_config=None\n",
    ")\n",
    "\n",
    "print(test_config.vocab_size)"
   ]
  },
  {
   "cell_type": "code",
   "execution_count": 9,
   "metadata": {},
   "outputs": [
    {
     "name": "stdout",
     "output_type": "stream",
     "text": [
      "mps\n"
     ]
    }
   ],
   "source": [
    "import torch\n",
    "\n",
    "device = 'cpu'\n",
    "\n",
    "if torch.cuda.is_available():\n",
    "    device = 'cuda'\n",
    "elif torch.backends.mps.is_available():\n",
    "    device = 'mps'\n",
    "\n",
    "print(device)"
   ]
  }
 ],
 "metadata": {
  "kernelspec": {
   "display_name": "Python 3",
   "language": "python",
   "name": "python3"
  },
  "language_info": {
   "codemirror_mode": {
    "name": "ipython",
    "version": 3
   },
   "file_extension": ".py",
   "mimetype": "text/x-python",
   "name": "python",
   "nbconvert_exporter": "python",
   "pygments_lexer": "ipython3",
   "version": "3.13.3"
  }
 },
 "nbformat": 4,
 "nbformat_minor": 2
}
