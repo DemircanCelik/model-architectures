{
 "cells": [
  {
   "cell_type": "code",
   "execution_count": 11,
   "metadata": {},
   "outputs": [
    {
     "name": "stdout",
     "output_type": "stream",
     "text": [
      "[0, 14, 11, 29, 0, 23, 0, 29, 1, 0, 13, 30, 29, 0, 14, 11, 29, 0, 23, 0, 29, 1, 0, 13, 30]\n"
     ]
    }
   ],
   "source": [
    "from tokenizer import Tokenizer\n",
    "\n",
    "tokenizer = Tokenizer()\n",
    "\n",
    "example_text = \"ali ata bak. ali ata bak.\"\n",
    "\n",
    "print(tokenizer.encode(example_text))\n"
   ]
  },
  {
   "cell_type": "code",
   "execution_count": 12,
   "metadata": {},
   "outputs": [
    {
     "name": "stdout",
     "output_type": "stream",
     "text": [
      "33\n",
      "262144\n",
      "33\n"
     ]
    }
   ],
   "source": [
    "from config import GemmaConfig, Architecture, AttentionType, get_config_for_1b\n",
    "\n",
    "\n",
    "test_config = GemmaConfig(\n",
    "  architecture=Architecture.GEMMA_3,\n",
    "  num_hidden_layers=1,\n",
    "  num_attention_heads=1,\n",
    "  num_key_value_heads=1,\n",
    "  hidden_size=3,\n",
    "  intermediate_size=3,\n",
    "  use_pre_ffw_norm=True,\n",
    "  use_post_ffw_norm=True,\n",
    "  head_dim=3,\n",
    "\n",
    "  sliding_window_size=4,\n",
    "  rope_wave_length={\n",
    "    AttentionType.LOCAL_SLIDING: 10,\n",
    "    AttentionType.GLOBAL: 100,\n",
    "  },\n",
    "  vocab_size=tokenizer.vocab_size,\n",
    "  max_position_embeddings=12,\n",
    "  tokenizer=tokenizer,\n",
    "  use_qk_norm=True,\n",
    "  vision_config=None\n",
    ")\n",
    "\n",
    "print(test_config.vocab_size)\n",
    "\n",
    "test_config = get_config_for_1b(dtype='float32')\n",
    "print(test_config.vocab_size)\n",
    "\n",
    "test_config.tokenizer = tokenizer\n",
    "test_config.vocab_size = tokenizer.vocab_size\n",
    "print(test_config.vocab_size)\n"
   ]
  },
  {
   "cell_type": "code",
   "execution_count": 13,
   "metadata": {},
   "outputs": [
    {
     "name": "stdout",
     "output_type": "stream",
     "text": [
      "cpu\n"
     ]
    }
   ],
   "source": [
    "import torch\n",
    "\n",
    "device = 'cpu'\n",
    "\n",
    "if torch.cuda.is_available():\n",
    "    device = 'cuda'\n",
    "\"\"\" elif torch.backends.mps.is_available():\n",
    "    device = 'mps' \"\"\"\n",
    "\n",
    "print(device)"
   ]
  },
  {
   "cell_type": "code",
   "execution_count": null,
   "metadata": {},
   "outputs": [],
   "source": []
  },
  {
   "cell_type": "code",
   "execution_count": 14,
   "metadata": {},
   "outputs": [
    {
     "data": {
      "text/plain": [
       "GemmaForCausalLM(\n",
       "  (embedder): Embedding()\n",
       "  (model): GemmaModel(\n",
       "    (layers): ModuleList(\n",
       "      (0-25): 26 x Gemma2DecoderLayer(\n",
       "        (self_attn): GemmaAttention(\n",
       "          (qkv_proj): Linear()\n",
       "          (o_proj): Linear()\n",
       "          (query_norm): RMSNorm()\n",
       "          (key_norm): RMSNorm()\n",
       "        )\n",
       "        (mlp): GemmaMLP(\n",
       "          (gate_proj): Linear()\n",
       "          (up_proj): Linear()\n",
       "          (down_proj): Linear()\n",
       "        )\n",
       "        (input_layernorm): RMSNorm()\n",
       "        (post_attention_layernorm): RMSNorm()\n",
       "        (pre_feedforward_layernorm): RMSNorm()\n",
       "        (post_feedforward_layernorm): RMSNorm()\n",
       "      )\n",
       "    )\n",
       "    (norm): RMSNorm()\n",
       "  )\n",
       "  (sampler): Sampler()\n",
       ")"
      ]
     },
     "execution_count": 14,
     "metadata": {},
     "output_type": "execute_result"
    }
   ],
   "source": [
    "from model import GemmaForCausalLM\n",
    "model = GemmaForCausalLM(test_config)\n",
    "model.to(device)\n",
    "model"
   ]
  },
  {
   "cell_type": "code",
   "execution_count": 15,
   "metadata": {},
   "outputs": [
    {
     "name": "stdout",
     "output_type": "stream",
     "text": [
      "x:  torch.Size([1, 1, 4, 256])\n",
      "freqs_cis:  torch.Size([1, 128])\n",
      "x:  torch.Size([1, 1, 1, 256])\n",
      "freqs_cis:  torch.Size([1, 128])\n",
      "x:  torch.Size([1, 1, 4, 256])\n",
      "freqs_cis:  torch.Size([1, 128])\n",
      "x:  torch.Size([1, 1, 1, 256])\n",
      "freqs_cis:  torch.Size([1, 128])\n",
      "x:  torch.Size([1, 1, 4, 256])\n",
      "freqs_cis:  torch.Size([1, 128])\n",
      "x:  torch.Size([1, 1, 1, 256])\n",
      "freqs_cis:  torch.Size([1, 128])\n",
      "x:  torch.Size([1, 1, 4, 256])\n",
      "freqs_cis:  torch.Size([1, 128])\n",
      "x:  torch.Size([1, 1, 1, 256])\n",
      "freqs_cis:  torch.Size([1, 128])\n",
      "x:  torch.Size([1, 1, 4, 256])\n",
      "freqs_cis:  torch.Size([1, 128])\n",
      "x:  torch.Size([1, 1, 1, 256])\n",
      "freqs_cis:  torch.Size([1, 128])\n",
      "x:  torch.Size([1, 1, 4, 256])\n",
      "freqs_cis:  torch.Size([1, 128])\n",
      "x:  torch.Size([1, 1, 1, 256])\n",
      "freqs_cis:  torch.Size([1, 128])\n",
      "x:  torch.Size([1, 1, 4, 256])\n",
      "freqs_cis:  torch.Size([1, 128])\n",
      "x:  torch.Size([1, 1, 1, 256])\n",
      "freqs_cis:  torch.Size([1, 128])\n",
      "x:  torch.Size([1, 1, 4, 256])\n",
      "freqs_cis:  torch.Size([1, 128])\n",
      "x:  torch.Size([1, 1, 1, 256])\n",
      "freqs_cis:  torch.Size([1, 128])\n",
      "x:  torch.Size([1, 1, 4, 256])\n",
      "freqs_cis:  torch.Size([1, 128])\n",
      "x:  torch.Size([1, 1, 1, 256])\n",
      "freqs_cis:  torch.Size([1, 128])\n",
      "x:  torch.Size([1, 1, 4, 256])\n",
      "freqs_cis:  torch.Size([1, 128])\n",
      "x:  torch.Size([1, 1, 1, 256])\n",
      "freqs_cis:  torch.Size([1, 128])\n",
      "x:  torch.Size([1, 1, 4, 256])\n",
      "freqs_cis:  torch.Size([1, 128])\n",
      "x:  torch.Size([1, 1, 1, 256])\n",
      "freqs_cis:  torch.Size([1, 128])\n",
      "x:  torch.Size([1, 1, 4, 256])\n",
      "freqs_cis:  torch.Size([1, 128])\n",
      "x:  torch.Size([1, 1, 1, 256])\n",
      "freqs_cis:  torch.Size([1, 128])\n",
      "x:  torch.Size([1, 1, 4, 256])\n",
      "freqs_cis:  torch.Size([1, 128])\n",
      "x:  torch.Size([1, 1, 1, 256])\n",
      "freqs_cis:  torch.Size([1, 128])\n",
      "x:  torch.Size([1, 1, 4, 256])\n",
      "freqs_cis:  torch.Size([1, 128])\n",
      "x:  torch.Size([1, 1, 1, 256])\n",
      "freqs_cis:  torch.Size([1, 128])\n",
      "x:  torch.Size([1, 1, 4, 256])\n",
      "freqs_cis:  torch.Size([1, 128])\n",
      "x:  torch.Size([1, 1, 1, 256])\n",
      "freqs_cis:  torch.Size([1, 128])\n",
      "x:  torch.Size([1, 1, 4, 256])\n",
      "freqs_cis:  torch.Size([1, 128])\n",
      "x:  torch.Size([1, 1, 1, 256])\n",
      "freqs_cis:  torch.Size([1, 128])\n",
      "x:  torch.Size([1, 1, 4, 256])\n",
      "freqs_cis:  torch.Size([1, 128])\n",
      "x:  torch.Size([1, 1, 1, 256])\n",
      "freqs_cis:  torch.Size([1, 128])\n",
      "x:  torch.Size([1, 1, 4, 256])\n",
      "freqs_cis:  torch.Size([1, 128])\n",
      "x:  torch.Size([1, 1, 1, 256])\n",
      "freqs_cis:  torch.Size([1, 128])\n",
      "x:  torch.Size([1, 1, 4, 256])\n",
      "freqs_cis:  torch.Size([1, 128])\n",
      "x:  torch.Size([1, 1, 1, 256])\n",
      "freqs_cis:  torch.Size([1, 128])\n",
      "x:  torch.Size([1, 1, 4, 256])\n",
      "freqs_cis:  torch.Size([1, 128])\n",
      "x:  torch.Size([1, 1, 1, 256])\n",
      "freqs_cis:  torch.Size([1, 128])\n",
      "x:  torch.Size([1, 1, 4, 256])\n",
      "freqs_cis:  torch.Size([1, 128])\n",
      "x:  torch.Size([1, 1, 1, 256])\n",
      "freqs_cis:  torch.Size([1, 128])\n",
      "x:  torch.Size([1, 1, 4, 256])\n",
      "freqs_cis:  torch.Size([1, 128])\n",
      "x:  torch.Size([1, 1, 1, 256])\n",
      "freqs_cis:  torch.Size([1, 128])\n",
      "x:  torch.Size([1, 1, 4, 256])\n",
      "freqs_cis:  torch.Size([1, 128])\n",
      "x:  torch.Size([1, 1, 1, 256])\n",
      "freqs_cis:  torch.Size([1, 128])\n",
      "x:  torch.Size([1, 1, 4, 256])\n",
      "freqs_cis:  torch.Size([1, 128])\n",
      "x:  torch.Size([1, 1, 1, 256])\n",
      "freqs_cis:  torch.Size([1, 128])\n",
      "x:  torch.Size([1, 1, 4, 256])\n",
      "freqs_cis:  torch.Size([1, 128])\n",
      "x:  torch.Size([1, 1, 1, 256])\n",
      "freqs_cis:  torch.Size([1, 128])\n",
      "x:  torch.Size([1, 1, 4, 256])\n",
      "freqs_cis:  torch.Size([1, 128])\n",
      "x:  torch.Size([1, 1, 1, 256])\n",
      "freqs_cis:  torch.Size([1, 128])\n",
      "probs:  torch.Size([1, 33]) tensor([[0.0312, 0.0312, 0.0312, 0.0312, 0.0312, 0.0312, 0.0312, 0.0312, 0.0312,\n",
      "         0.0312, 0.0312, 0.0312, 0.0312, 0.0312, 0.0312, 0.0312, 0.0312, 0.0312,\n",
      "         0.0312, 0.0312, 0.0312, 0.0312, 0.0312, 0.0312, 0.0312, 0.0312, 0.0312,\n",
      "         0.0312, 0.0312, 0.0312, 0.0312, 0.0312, 0.0000]])\n"
     ]
    },
    {
     "data": {
      "text/plain": [
       "'j'"
      ]
     },
     "execution_count": 15,
     "metadata": {},
     "output_type": "execute_result"
    }
   ],
   "source": [
    "model.generate(\"a\", device=device, output_len=1)"
   ]
  }
 ],
 "metadata": {
  "kernelspec": {
   "display_name": "Python 3",
   "language": "python",
   "name": "python3"
  },
  "language_info": {
   "codemirror_mode": {
    "name": "ipython",
    "version": 3
   },
   "file_extension": ".py",
   "mimetype": "text/x-python",
   "name": "python",
   "nbconvert_exporter": "python",
   "pygments_lexer": "ipython3",
   "version": "3.13.3"
  }
 },
 "nbformat": 4,
 "nbformat_minor": 2
}
